{
  "nbformat": 4,
  "nbformat_minor": 0,
  "metadata": {
    "colab": {
      "provenance": [],
      "collapsed_sections": [
        "wYSlA67uwCcg",
        "qVrTQHIZErtB",
        "mLHzLpoXKbJH",
        "DRw1wuwPKbAP",
        "4V5wsfGuKa3H",
        "HayjukCQKat3",
        "TfiyI_rCKakX",
        "w_dwzj0HKaa_",
        "Hy8H6R8mKaPh",
        "ylEJI87YKaF_",
        "X4fnzhM3KZ4f"
      ],
      "toc_visible": true
    },
    "kernelspec": {
      "name": "python3",
      "display_name": "Python 3"
    },
    "language_info": {
      "name": "python"
    },
    "accelerator": "GPU",
    "gpuClass": "standard"
  },
  "cells": [
    {
      "cell_type": "markdown",
      "source": [
        "# Hotel Booking Demand\n",
        "## Created by : Juan Josua Nainggolan"
      ],
      "metadata": {
        "id": "Y2HVga6BwAgZ"
      }
    },
    {
      "cell_type": "markdown",
      "source": [
        "# Business Problem Understanding"
      ],
      "metadata": {
        "id": "wYSlA67uwCcg"
      }
    },
    {
      "cell_type": "markdown",
      "source": [
        "**Context**  \n",
        "Sebuah hotel bintang 5 memiliki masalah mengenai banyaknya pembatalan terhadap booking kamar yang sudah dilakukan oleh calon pengunjung. Hotel tersebut ingin mengetahui calon pengunjung mana yang benar-benar akan datang menginap atau yang hanya sekedar booking. Hal ini dikarenakan jika customer membatalkan booking yang sudah dilakukan, maka pihak hotel harus mencari penginap yang baru atau akan merugi karena telah menolak calon pengunjung yang tidak mendapat kamar karena sudah dibooking.\n",
        "\n",
        "Target :\n",
        "\n",
        "0 : Melakukan kunjungan dan menginap di hotel\n",
        "\n",
        "1 : Membatalkan booking / tidak melakukan kunjungan"
      ],
      "metadata": {
        "id": "YURGvDta5lUW"
      }
    },
    {
      "cell_type": "markdown",
      "source": [
        "**Problem Statement :**\n",
        "Hotel akan kehilangan banyak calon pengunjung jika setiap pengunjung yang ingin melakukan booking di approve tanpa penyaringan terlebih dahulu.\n",
        "\n",
        "Hal ini disebabkan karena ketika pengunjung yang sudah melakukan booking membatalkan bookingnya, hotel harus mencari pengunjung yang lain yang akan menempati kamar, sementar hotel sudah menolak pengunjung lain yang sebelumnya berpotensi untuk menempati kamar.\n",
        "\n",
        "**Goals :**\n",
        "Hotel ingin memiliki kemampuan untuk menyaring calon pengunjung yang melakukan booking, sehingga meminimalisir pembatalan booking. Dan juga, perusahaan ingin mengetahui ciri-ciri calon pengunjung yang akan melakukan pembatalan booking.\n",
        "\n",
        "**Analytic Approach :**\n",
        "Jadi yang akan kita lakukan adalah menganalisis data untuk menemukan pola yang membedakan calon pengunjung yang akan melakukan pembatalan booking dan yang tidak.\n",
        "\n",
        "Kemudian kita akan membangun model klasifikasi yang akan membantu hotel untuk dapat memprediksi probabilitas seorang pengunjung akan membatalkan booking atau tidak."
      ],
      "metadata": {
        "id": "Ee71HJqDzxwo"
      }
    },
    {
      "cell_type": "markdown",
      "source": [
        "# Data Understanding"
      ],
      "metadata": {
        "id": "iA52SLODwFVg"
      }
    },
    {
      "cell_type": "markdown",
      "source": [
        "Dataset Source : https://drive.google.com/file/d/1eeXOEY5B_zfSNhWeDDqPWCo9hAyDRAbc/view?usp=share_link"
      ],
      "metadata": {
        "id": "AECgG0d1uWxF"
      }
    },
    {
      "cell_type": "markdown",
      "source": [
        "### Data Dictionary\n",
        "\n",
        "- country : Country of origin. Categories are represented in the ISO 3155–3:2013 format\n",
        "- market_segment : Market segment designation. In categories, the term “TA” means “Travel Agents” and “TO” means “Tour Operators”\n",
        "- previous_cancellations : Number of previous bookings that were cancelled by the customer prior to the current booking\n",
        "- booking_changes : Number of changes/amendments made to the booking from the moment the booking was entered on the PMS until the moment of check-in or cancellation\n",
        "- deposit_type : Indication on if the customer made a deposit to guarantee the booking. This variable can assume three categories: No Deposit – no deposit was made; Non Refund – a deposit was made in the value of the total stay cost; Refundable – a deposit was made with a value under the total cost of stay.\n",
        "- days_in_waiting_list : Number of days the booking was in the waiting list before it was confirmed to the customer\n",
        "- customer_type : Type of booking, assuming one of four categories: Contract - when the booking has an allotment or other type of contract associated to it; Group – when the booking is associated to a group; Transient – when the booking is not part of a group or contract, and is not associated to other transient booking; Transient-party – when the booking is transient, but is associated to at least other transient booking\n",
        "- reserved_room_type : Code of room type reserved. Code is presented instead of designation for anonymity reasons.\n",
        "- required_car_parking_spaces : Number of car parking spaces required by the customer\n",
        "- total_of_special_requests : Number of special requests made by the customer (e.g. twin bed or high floor)\n",
        "- is_canceled : Value indicating if the booking was canceled (1) or not (0)"
      ],
      "metadata": {
        "id": "1kDotGT-uelV"
      }
    },
    {
      "cell_type": "code",
      "source": [
        "!pip install category-encoders"
      ],
      "metadata": {
        "colab": {
          "base_uri": "https://localhost:8080/"
        },
        "id": "DRS6MTx5zleh",
        "outputId": "016d3038-2182-4c9b-f539-ef0b72b58622"
      },
      "execution_count": 237,
      "outputs": [
        {
          "output_type": "stream",
          "name": "stdout",
          "text": [
            "Looking in indexes: https://pypi.org/simple, https://us-python.pkg.dev/colab-wheels/public/simple/\n",
            "Requirement already satisfied: category-encoders in /usr/local/lib/python3.7/dist-packages (2.5.1.post0)\n",
            "Requirement already satisfied: patsy>=0.5.1 in /usr/local/lib/python3.7/dist-packages (from category-encoders) (0.5.3)\n",
            "Requirement already satisfied: pandas>=1.0.5 in /usr/local/lib/python3.7/dist-packages (from category-encoders) (1.3.5)\n",
            "Requirement already satisfied: scikit-learn>=0.20.0 in /usr/local/lib/python3.7/dist-packages (from category-encoders) (1.0.2)\n",
            "Requirement already satisfied: scipy>=1.0.0 in /usr/local/lib/python3.7/dist-packages (from category-encoders) (1.7.3)\n",
            "Requirement already satisfied: numpy>=1.14.0 in /usr/local/lib/python3.7/dist-packages (from category-encoders) (1.21.6)\n",
            "Requirement already satisfied: statsmodels>=0.9.0 in /usr/local/lib/python3.7/dist-packages (from category-encoders) (0.12.2)\n",
            "Requirement already satisfied: pytz>=2017.3 in /usr/local/lib/python3.7/dist-packages (from pandas>=1.0.5->category-encoders) (2022.6)\n",
            "Requirement already satisfied: python-dateutil>=2.7.3 in /usr/local/lib/python3.7/dist-packages (from pandas>=1.0.5->category-encoders) (2.8.2)\n",
            "Requirement already satisfied: six in /usr/local/lib/python3.7/dist-packages (from patsy>=0.5.1->category-encoders) (1.15.0)\n",
            "Requirement already satisfied: joblib>=0.11 in /usr/local/lib/python3.7/dist-packages (from scikit-learn>=0.20.0->category-encoders) (1.2.0)\n",
            "Requirement already satisfied: threadpoolctl>=2.0.0 in /usr/local/lib/python3.7/dist-packages (from scikit-learn>=0.20.0->category-encoders) (3.1.0)\n"
          ]
        }
      ]
    },
    {
      "cell_type": "code",
      "source": [
        "# Common Libraries used\n",
        "import numpy as np\n",
        "import pandas as pd\n",
        "from matplotlib import pyplot as plt\n",
        "import seaborn as sns\n",
        "import warnings\n",
        "warnings.filterwarnings('ignore')\n",
        "\n",
        "# Feature Engineering\n",
        "from sklearn.pipeline import Pipeline\n",
        "from sklearn.impute import SimpleImputer\n",
        "from sklearn.preprocessing import OneHotEncoder, LabelEncoder, OrdinalEncoder\n",
        "from sklearn.compose import ColumnTransformer\n",
        "import category_encoders as ce\n",
        "\n",
        "# Model Selection\n",
        "from sklearn.linear_model import LogisticRegression\n",
        "from sklearn.tree import DecisionTreeClassifier\n",
        "from sklearn.model_selection import GridSearchCV,StratifiedKFold,train_test_split, cross_val_score\n",
        "from sklearn.metrics import classification_report, confusion_matrix\n",
        "from sklearn.neighbors import KNeighborsClassifier\n",
        "from sklearn.ensemble import RandomForestClassifier\n",
        "from xgboost import XGBClassifier\n",
        "import lightgbm as lgb\n",
        "from sklearn.metrics import f1_score, accuracy_score, recall_score, precision_score\n",
        "from sklearn.metrics import roc_curve, roc_auc_score, plot_roc_curve\n",
        "\n",
        "# Imbalance Dataset\n",
        "from imblearn.pipeline import Pipeline\n",
        "from imblearn.over_sampling import RandomOverSampler\n",
        "\n",
        "# For Statistical test\n",
        "import scipy.stats as stats\n",
        "\n",
        "# For modelling\n",
        "from lightgbm import LGBMClassifier\n",
        "\n",
        "# For evaluation\n",
        "from sklearn.metrics import ConfusionMatrixDisplay"
      ],
      "metadata": {
        "id": "VVIGiW4swgAN"
      },
      "execution_count": 238,
      "outputs": []
    },
    {
      "cell_type": "code",
      "source": [
        "# reading the data and first five rows\n",
        "url='https://drive.google.com/file/d/1eeXOEY5B_zfSNhWeDDqPWCo9hAyDRAbc/view?usp=share_link'\n",
        "url='https://drive.google.com/uc?id=' + url.split('/')[-2]\n",
        "df = pd.read_csv(url)\n",
        "df.head()"
      ],
      "metadata": {
        "colab": {
          "base_uri": "https://localhost:8080/",
          "height": 270
        },
        "id": "v15GnYuxw1X1",
        "outputId": "6946b319-95b6-4eda-e31b-43d382b3e5af"
      },
      "execution_count": 239,
      "outputs": [
        {
          "output_type": "execute_result",
          "data": {
            "text/plain": [
              "  country market_segment  previous_cancellations  booking_changes  \\\n",
              "0     IRL  Offline TA/TO                       0                0   \n",
              "1     FRA      Online TA                       0                0   \n",
              "2     PRT      Online TA                       0                1   \n",
              "3     NLD      Online TA                       0                0   \n",
              "4     PRT      Online TA                       0                2   \n",
              "\n",
              "  deposit_type  days_in_waiting_list    customer_type reserved_room_type  \\\n",
              "0   No Deposit                     0  Transient-Party                  A   \n",
              "1   No Deposit                     0        Transient                  A   \n",
              "2   No Deposit                     0        Transient                  A   \n",
              "3   No Deposit                     0        Transient                  A   \n",
              "4   No Deposit                     0        Transient                  A   \n",
              "\n",
              "   required_car_parking_spaces  total_of_special_requests  is_canceled  \n",
              "0                            0                          0            0  \n",
              "1                            0                          2            0  \n",
              "2                            0                          2            0  \n",
              "3                            0                          1            1  \n",
              "4                            0                          2            0  "
            ],
            "text/html": [
              "\n",
              "  <div id=\"df-5fc7b530-40aa-4d0d-b345-0ccde9add0f1\">\n",
              "    <div class=\"colab-df-container\">\n",
              "      <div>\n",
              "<style scoped>\n",
              "    .dataframe tbody tr th:only-of-type {\n",
              "        vertical-align: middle;\n",
              "    }\n",
              "\n",
              "    .dataframe tbody tr th {\n",
              "        vertical-align: top;\n",
              "    }\n",
              "\n",
              "    .dataframe thead th {\n",
              "        text-align: right;\n",
              "    }\n",
              "</style>\n",
              "<table border=\"1\" class=\"dataframe\">\n",
              "  <thead>\n",
              "    <tr style=\"text-align: right;\">\n",
              "      <th></th>\n",
              "      <th>country</th>\n",
              "      <th>market_segment</th>\n",
              "      <th>previous_cancellations</th>\n",
              "      <th>booking_changes</th>\n",
              "      <th>deposit_type</th>\n",
              "      <th>days_in_waiting_list</th>\n",
              "      <th>customer_type</th>\n",
              "      <th>reserved_room_type</th>\n",
              "      <th>required_car_parking_spaces</th>\n",
              "      <th>total_of_special_requests</th>\n",
              "      <th>is_canceled</th>\n",
              "    </tr>\n",
              "  </thead>\n",
              "  <tbody>\n",
              "    <tr>\n",
              "      <th>0</th>\n",
              "      <td>IRL</td>\n",
              "      <td>Offline TA/TO</td>\n",
              "      <td>0</td>\n",
              "      <td>0</td>\n",
              "      <td>No Deposit</td>\n",
              "      <td>0</td>\n",
              "      <td>Transient-Party</td>\n",
              "      <td>A</td>\n",
              "      <td>0</td>\n",
              "      <td>0</td>\n",
              "      <td>0</td>\n",
              "    </tr>\n",
              "    <tr>\n",
              "      <th>1</th>\n",
              "      <td>FRA</td>\n",
              "      <td>Online TA</td>\n",
              "      <td>0</td>\n",
              "      <td>0</td>\n",
              "      <td>No Deposit</td>\n",
              "      <td>0</td>\n",
              "      <td>Transient</td>\n",
              "      <td>A</td>\n",
              "      <td>0</td>\n",
              "      <td>2</td>\n",
              "      <td>0</td>\n",
              "    </tr>\n",
              "    <tr>\n",
              "      <th>2</th>\n",
              "      <td>PRT</td>\n",
              "      <td>Online TA</td>\n",
              "      <td>0</td>\n",
              "      <td>1</td>\n",
              "      <td>No Deposit</td>\n",
              "      <td>0</td>\n",
              "      <td>Transient</td>\n",
              "      <td>A</td>\n",
              "      <td>0</td>\n",
              "      <td>2</td>\n",
              "      <td>0</td>\n",
              "    </tr>\n",
              "    <tr>\n",
              "      <th>3</th>\n",
              "      <td>NLD</td>\n",
              "      <td>Online TA</td>\n",
              "      <td>0</td>\n",
              "      <td>0</td>\n",
              "      <td>No Deposit</td>\n",
              "      <td>0</td>\n",
              "      <td>Transient</td>\n",
              "      <td>A</td>\n",
              "      <td>0</td>\n",
              "      <td>1</td>\n",
              "      <td>1</td>\n",
              "    </tr>\n",
              "    <tr>\n",
              "      <th>4</th>\n",
              "      <td>PRT</td>\n",
              "      <td>Online TA</td>\n",
              "      <td>0</td>\n",
              "      <td>2</td>\n",
              "      <td>No Deposit</td>\n",
              "      <td>0</td>\n",
              "      <td>Transient</td>\n",
              "      <td>A</td>\n",
              "      <td>0</td>\n",
              "      <td>2</td>\n",
              "      <td>0</td>\n",
              "    </tr>\n",
              "  </tbody>\n",
              "</table>\n",
              "</div>\n",
              "      <button class=\"colab-df-convert\" onclick=\"convertToInteractive('df-5fc7b530-40aa-4d0d-b345-0ccde9add0f1')\"\n",
              "              title=\"Convert this dataframe to an interactive table.\"\n",
              "              style=\"display:none;\">\n",
              "        \n",
              "  <svg xmlns=\"http://www.w3.org/2000/svg\" height=\"24px\"viewBox=\"0 0 24 24\"\n",
              "       width=\"24px\">\n",
              "    <path d=\"M0 0h24v24H0V0z\" fill=\"none\"/>\n",
              "    <path d=\"M18.56 5.44l.94 2.06.94-2.06 2.06-.94-2.06-.94-.94-2.06-.94 2.06-2.06.94zm-11 1L8.5 8.5l.94-2.06 2.06-.94-2.06-.94L8.5 2.5l-.94 2.06-2.06.94zm10 10l.94 2.06.94-2.06 2.06-.94-2.06-.94-.94-2.06-.94 2.06-2.06.94z\"/><path d=\"M17.41 7.96l-1.37-1.37c-.4-.4-.92-.59-1.43-.59-.52 0-1.04.2-1.43.59L10.3 9.45l-7.72 7.72c-.78.78-.78 2.05 0 2.83L4 21.41c.39.39.9.59 1.41.59.51 0 1.02-.2 1.41-.59l7.78-7.78 2.81-2.81c.8-.78.8-2.07 0-2.86zM5.41 20L4 18.59l7.72-7.72 1.47 1.35L5.41 20z\"/>\n",
              "  </svg>\n",
              "      </button>\n",
              "      \n",
              "  <style>\n",
              "    .colab-df-container {\n",
              "      display:flex;\n",
              "      flex-wrap:wrap;\n",
              "      gap: 12px;\n",
              "    }\n",
              "\n",
              "    .colab-df-convert {\n",
              "      background-color: #E8F0FE;\n",
              "      border: none;\n",
              "      border-radius: 50%;\n",
              "      cursor: pointer;\n",
              "      display: none;\n",
              "      fill: #1967D2;\n",
              "      height: 32px;\n",
              "      padding: 0 0 0 0;\n",
              "      width: 32px;\n",
              "    }\n",
              "\n",
              "    .colab-df-convert:hover {\n",
              "      background-color: #E2EBFA;\n",
              "      box-shadow: 0px 1px 2px rgba(60, 64, 67, 0.3), 0px 1px 3px 1px rgba(60, 64, 67, 0.15);\n",
              "      fill: #174EA6;\n",
              "    }\n",
              "\n",
              "    [theme=dark] .colab-df-convert {\n",
              "      background-color: #3B4455;\n",
              "      fill: #D2E3FC;\n",
              "    }\n",
              "\n",
              "    [theme=dark] .colab-df-convert:hover {\n",
              "      background-color: #434B5C;\n",
              "      box-shadow: 0px 1px 3px 1px rgba(0, 0, 0, 0.15);\n",
              "      filter: drop-shadow(0px 1px 2px rgba(0, 0, 0, 0.3));\n",
              "      fill: #FFFFFF;\n",
              "    }\n",
              "  </style>\n",
              "\n",
              "      <script>\n",
              "        const buttonEl =\n",
              "          document.querySelector('#df-5fc7b530-40aa-4d0d-b345-0ccde9add0f1 button.colab-df-convert');\n",
              "        buttonEl.style.display =\n",
              "          google.colab.kernel.accessAllowed ? 'block' : 'none';\n",
              "\n",
              "        async function convertToInteractive(key) {\n",
              "          const element = document.querySelector('#df-5fc7b530-40aa-4d0d-b345-0ccde9add0f1');\n",
              "          const dataTable =\n",
              "            await google.colab.kernel.invokeFunction('convertToInteractive',\n",
              "                                                     [key], {});\n",
              "          if (!dataTable) return;\n",
              "\n",
              "          const docLinkHtml = 'Like what you see? Visit the ' +\n",
              "            '<a target=\"_blank\" href=https://colab.research.google.com/notebooks/data_table.ipynb>data table notebook</a>'\n",
              "            + ' to learn more about interactive tables.';\n",
              "          element.innerHTML = '';\n",
              "          dataTable['output_type'] = 'display_data';\n",
              "          await google.colab.output.renderOutput(dataTable, element);\n",
              "          const docLink = document.createElement('div');\n",
              "          docLink.innerHTML = docLinkHtml;\n",
              "          element.appendChild(docLink);\n",
              "        }\n",
              "      </script>\n",
              "    </div>\n",
              "  </div>\n",
              "  "
            ]
          },
          "metadata": {},
          "execution_count": 239
        }
      ]
    },
    {
      "cell_type": "code",
      "source": [
        "# info of the data\n",
        "df.info()"
      ],
      "metadata": {
        "colab": {
          "base_uri": "https://localhost:8080/"
        },
        "id": "mLsLT4J_w-3b",
        "outputId": "0937071e-ce90-4cbd-aeea-e07a39a70eef"
      },
      "execution_count": 240,
      "outputs": [
        {
          "output_type": "stream",
          "name": "stdout",
          "text": [
            "<class 'pandas.core.frame.DataFrame'>\n",
            "RangeIndex: 83573 entries, 0 to 83572\n",
            "Data columns (total 11 columns):\n",
            " #   Column                       Non-Null Count  Dtype \n",
            "---  ------                       --------------  ----- \n",
            " 0   country                      83222 non-null  object\n",
            " 1   market_segment               83573 non-null  object\n",
            " 2   previous_cancellations       83573 non-null  int64 \n",
            " 3   booking_changes              83573 non-null  int64 \n",
            " 4   deposit_type                 83573 non-null  object\n",
            " 5   days_in_waiting_list         83573 non-null  int64 \n",
            " 6   customer_type                83573 non-null  object\n",
            " 7   reserved_room_type           83573 non-null  object\n",
            " 8   required_car_parking_spaces  83573 non-null  int64 \n",
            " 9   total_of_special_requests    83573 non-null  int64 \n",
            " 10  is_canceled                  83573 non-null  int64 \n",
            "dtypes: int64(6), object(5)\n",
            "memory usage: 7.0+ MB\n"
          ]
        }
      ]
    },
    {
      "cell_type": "markdown",
      "source": [
        "# Data Cleaning"
      ],
      "metadata": {
        "id": "EKCK4KCuwFxz"
      }
    },
    {
      "cell_type": "markdown",
      "source": [
        "## Check for data types and missing values"
      ],
      "metadata": {
        "id": "QR_lgLrL7wke"
      }
    },
    {
      "cell_type": "code",
      "source": [
        "# detail information for each column\n",
        "listItem = []\n",
        "for col in df.columns :\n",
        "    listItem.append([col, df[col].dtype, df[col].isna().sum(), round((df[col].isna().sum()/len(df[col])) * 100,2),\n",
        "                    df[col].nunique(), list(df[col].drop_duplicates().sample(2).values)]);\n",
        "\n",
        "dfDesc = pd.DataFrame(columns=['dataFeatures', 'dataType', 'null', 'nullPct', 'unique', 'uniqueSample'],\n",
        "                     data=listItem)\n",
        "dfDesc"
      ],
      "metadata": {
        "colab": {
          "base_uri": "https://localhost:8080/",
          "height": 394
        },
        "id": "QfhCM3b2xWnj",
        "outputId": "d2275894-4164-4fb1-8fcb-ea67789b5080"
      },
      "execution_count": 241,
      "outputs": [
        {
          "output_type": "execute_result",
          "data": {
            "text/plain": [
              "                   dataFeatures dataType  null  nullPct  unique  \\\n",
              "0                       country   object   351     0.42     162   \n",
              "1                market_segment   object     0     0.00       8   \n",
              "2        previous_cancellations    int64     0     0.00      15   \n",
              "3               booking_changes    int64     0     0.00      19   \n",
              "4                  deposit_type   object     0     0.00       3   \n",
              "5          days_in_waiting_list    int64     0     0.00     115   \n",
              "6                 customer_type   object     0     0.00       4   \n",
              "7            reserved_room_type   object     0     0.00      10   \n",
              "8   required_car_parking_spaces    int64     0     0.00       5   \n",
              "9     total_of_special_requests    int64     0     0.00       6   \n",
              "10                  is_canceled    int64     0     0.00       2   \n",
              "\n",
              "                 uniqueSample  \n",
              "0                  [SYC, THA]  \n",
              "1   [Aviation, Complementary]  \n",
              "2                    [21, 25]  \n",
              "3                     [12, 1]  \n",
              "4    [Refundable, Non Refund]  \n",
              "5                     [8, 61]  \n",
              "6          [Transient, Group]  \n",
              "7                      [E, B]  \n",
              "8                      [0, 1]  \n",
              "9                      [4, 2]  \n",
              "10                     [1, 0]  "
            ],
            "text/html": [
              "\n",
              "  <div id=\"df-c38ec276-7fc0-4eb3-ad35-7a96e47623c4\">\n",
              "    <div class=\"colab-df-container\">\n",
              "      <div>\n",
              "<style scoped>\n",
              "    .dataframe tbody tr th:only-of-type {\n",
              "        vertical-align: middle;\n",
              "    }\n",
              "\n",
              "    .dataframe tbody tr th {\n",
              "        vertical-align: top;\n",
              "    }\n",
              "\n",
              "    .dataframe thead th {\n",
              "        text-align: right;\n",
              "    }\n",
              "</style>\n",
              "<table border=\"1\" class=\"dataframe\">\n",
              "  <thead>\n",
              "    <tr style=\"text-align: right;\">\n",
              "      <th></th>\n",
              "      <th>dataFeatures</th>\n",
              "      <th>dataType</th>\n",
              "      <th>null</th>\n",
              "      <th>nullPct</th>\n",
              "      <th>unique</th>\n",
              "      <th>uniqueSample</th>\n",
              "    </tr>\n",
              "  </thead>\n",
              "  <tbody>\n",
              "    <tr>\n",
              "      <th>0</th>\n",
              "      <td>country</td>\n",
              "      <td>object</td>\n",
              "      <td>351</td>\n",
              "      <td>0.42</td>\n",
              "      <td>162</td>\n",
              "      <td>[SYC, THA]</td>\n",
              "    </tr>\n",
              "    <tr>\n",
              "      <th>1</th>\n",
              "      <td>market_segment</td>\n",
              "      <td>object</td>\n",
              "      <td>0</td>\n",
              "      <td>0.00</td>\n",
              "      <td>8</td>\n",
              "      <td>[Aviation, Complementary]</td>\n",
              "    </tr>\n",
              "    <tr>\n",
              "      <th>2</th>\n",
              "      <td>previous_cancellations</td>\n",
              "      <td>int64</td>\n",
              "      <td>0</td>\n",
              "      <td>0.00</td>\n",
              "      <td>15</td>\n",
              "      <td>[21, 25]</td>\n",
              "    </tr>\n",
              "    <tr>\n",
              "      <th>3</th>\n",
              "      <td>booking_changes</td>\n",
              "      <td>int64</td>\n",
              "      <td>0</td>\n",
              "      <td>0.00</td>\n",
              "      <td>19</td>\n",
              "      <td>[12, 1]</td>\n",
              "    </tr>\n",
              "    <tr>\n",
              "      <th>4</th>\n",
              "      <td>deposit_type</td>\n",
              "      <td>object</td>\n",
              "      <td>0</td>\n",
              "      <td>0.00</td>\n",
              "      <td>3</td>\n",
              "      <td>[Refundable, Non Refund]</td>\n",
              "    </tr>\n",
              "    <tr>\n",
              "      <th>5</th>\n",
              "      <td>days_in_waiting_list</td>\n",
              "      <td>int64</td>\n",
              "      <td>0</td>\n",
              "      <td>0.00</td>\n",
              "      <td>115</td>\n",
              "      <td>[8, 61]</td>\n",
              "    </tr>\n",
              "    <tr>\n",
              "      <th>6</th>\n",
              "      <td>customer_type</td>\n",
              "      <td>object</td>\n",
              "      <td>0</td>\n",
              "      <td>0.00</td>\n",
              "      <td>4</td>\n",
              "      <td>[Transient, Group]</td>\n",
              "    </tr>\n",
              "    <tr>\n",
              "      <th>7</th>\n",
              "      <td>reserved_room_type</td>\n",
              "      <td>object</td>\n",
              "      <td>0</td>\n",
              "      <td>0.00</td>\n",
              "      <td>10</td>\n",
              "      <td>[E, B]</td>\n",
              "    </tr>\n",
              "    <tr>\n",
              "      <th>8</th>\n",
              "      <td>required_car_parking_spaces</td>\n",
              "      <td>int64</td>\n",
              "      <td>0</td>\n",
              "      <td>0.00</td>\n",
              "      <td>5</td>\n",
              "      <td>[0, 1]</td>\n",
              "    </tr>\n",
              "    <tr>\n",
              "      <th>9</th>\n",
              "      <td>total_of_special_requests</td>\n",
              "      <td>int64</td>\n",
              "      <td>0</td>\n",
              "      <td>0.00</td>\n",
              "      <td>6</td>\n",
              "      <td>[4, 2]</td>\n",
              "    </tr>\n",
              "    <tr>\n",
              "      <th>10</th>\n",
              "      <td>is_canceled</td>\n",
              "      <td>int64</td>\n",
              "      <td>0</td>\n",
              "      <td>0.00</td>\n",
              "      <td>2</td>\n",
              "      <td>[1, 0]</td>\n",
              "    </tr>\n",
              "  </tbody>\n",
              "</table>\n",
              "</div>\n",
              "      <button class=\"colab-df-convert\" onclick=\"convertToInteractive('df-c38ec276-7fc0-4eb3-ad35-7a96e47623c4')\"\n",
              "              title=\"Convert this dataframe to an interactive table.\"\n",
              "              style=\"display:none;\">\n",
              "        \n",
              "  <svg xmlns=\"http://www.w3.org/2000/svg\" height=\"24px\"viewBox=\"0 0 24 24\"\n",
              "       width=\"24px\">\n",
              "    <path d=\"M0 0h24v24H0V0z\" fill=\"none\"/>\n",
              "    <path d=\"M18.56 5.44l.94 2.06.94-2.06 2.06-.94-2.06-.94-.94-2.06-.94 2.06-2.06.94zm-11 1L8.5 8.5l.94-2.06 2.06-.94-2.06-.94L8.5 2.5l-.94 2.06-2.06.94zm10 10l.94 2.06.94-2.06 2.06-.94-2.06-.94-.94-2.06-.94 2.06-2.06.94z\"/><path d=\"M17.41 7.96l-1.37-1.37c-.4-.4-.92-.59-1.43-.59-.52 0-1.04.2-1.43.59L10.3 9.45l-7.72 7.72c-.78.78-.78 2.05 0 2.83L4 21.41c.39.39.9.59 1.41.59.51 0 1.02-.2 1.41-.59l7.78-7.78 2.81-2.81c.8-.78.8-2.07 0-2.86zM5.41 20L4 18.59l7.72-7.72 1.47 1.35L5.41 20z\"/>\n",
              "  </svg>\n",
              "      </button>\n",
              "      \n",
              "  <style>\n",
              "    .colab-df-container {\n",
              "      display:flex;\n",
              "      flex-wrap:wrap;\n",
              "      gap: 12px;\n",
              "    }\n",
              "\n",
              "    .colab-df-convert {\n",
              "      background-color: #E8F0FE;\n",
              "      border: none;\n",
              "      border-radius: 50%;\n",
              "      cursor: pointer;\n",
              "      display: none;\n",
              "      fill: #1967D2;\n",
              "      height: 32px;\n",
              "      padding: 0 0 0 0;\n",
              "      width: 32px;\n",
              "    }\n",
              "\n",
              "    .colab-df-convert:hover {\n",
              "      background-color: #E2EBFA;\n",
              "      box-shadow: 0px 1px 2px rgba(60, 64, 67, 0.3), 0px 1px 3px 1px rgba(60, 64, 67, 0.15);\n",
              "      fill: #174EA6;\n",
              "    }\n",
              "\n",
              "    [theme=dark] .colab-df-convert {\n",
              "      background-color: #3B4455;\n",
              "      fill: #D2E3FC;\n",
              "    }\n",
              "\n",
              "    [theme=dark] .colab-df-convert:hover {\n",
              "      background-color: #434B5C;\n",
              "      box-shadow: 0px 1px 3px 1px rgba(0, 0, 0, 0.15);\n",
              "      filter: drop-shadow(0px 1px 2px rgba(0, 0, 0, 0.3));\n",
              "      fill: #FFFFFF;\n",
              "    }\n",
              "  </style>\n",
              "\n",
              "      <script>\n",
              "        const buttonEl =\n",
              "          document.querySelector('#df-c38ec276-7fc0-4eb3-ad35-7a96e47623c4 button.colab-df-convert');\n",
              "        buttonEl.style.display =\n",
              "          google.colab.kernel.accessAllowed ? 'block' : 'none';\n",
              "\n",
              "        async function convertToInteractive(key) {\n",
              "          const element = document.querySelector('#df-c38ec276-7fc0-4eb3-ad35-7a96e47623c4');\n",
              "          const dataTable =\n",
              "            await google.colab.kernel.invokeFunction('convertToInteractive',\n",
              "                                                     [key], {});\n",
              "          if (!dataTable) return;\n",
              "\n",
              "          const docLinkHtml = 'Like what you see? Visit the ' +\n",
              "            '<a target=\"_blank\" href=https://colab.research.google.com/notebooks/data_table.ipynb>data table notebook</a>'\n",
              "            + ' to learn more about interactive tables.';\n",
              "          element.innerHTML = '';\n",
              "          dataTable['output_type'] = 'display_data';\n",
              "          await google.colab.output.renderOutput(dataTable, element);\n",
              "          const docLink = document.createElement('div');\n",
              "          docLink.innerHTML = docLinkHtml;\n",
              "          element.appendChild(docLink);\n",
              "        }\n",
              "      </script>\n",
              "    </div>\n",
              "  </div>\n",
              "  "
            ]
          },
          "metadata": {},
          "execution_count": 241
        }
      ]
    },
    {
      "cell_type": "markdown",
      "source": [
        "Pertama kita akan menghilangkan baris yang tidak memiliki nilai country (null) karena dibandingkan dengan jumlah data yang kita miliki 83573, baris yang kosong hanya 351 dan ini jumlah yang kecil sekali."
      ],
      "metadata": {
        "id": "pyJCZc1-1L0t"
      }
    },
    {
      "cell_type": "code",
      "source": [
        "df_clean = df[~df['country'].isnull()]\n",
        "df_clean.shape"
      ],
      "metadata": {
        "colab": {
          "base_uri": "https://localhost:8080/"
        },
        "id": "SxXt8s7O2Fk9",
        "outputId": "79f0caee-dbdb-41d8-ba8b-f7a6f3c565a8"
      },
      "execution_count": 242,
      "outputs": [
        {
          "output_type": "execute_result",
          "data": {
            "text/plain": [
              "(83222, 11)"
            ]
          },
          "metadata": {},
          "execution_count": 242
        }
      ]
    },
    {
      "cell_type": "markdown",
      "source": [
        "Selanjutnya kita akan merubah tipe data object menjadi category, serta kolom is_canceled dari integer menjadi object karena kolom ini merupakan kolom kategorikal bukan numerik."
      ],
      "metadata": {
        "id": "_b-IYowe3hgd"
      }
    },
    {
      "cell_type": "code",
      "source": [
        "# all object columns\n",
        "c = df.select_dtypes('object').columns\n",
        "df_clean[c] = df_clean[c].astype('category')\n",
        "\n",
        "# change is_canceled data type\n",
        "df_clean['is_canceled'] = df_clean['is_canceled'].astype('category')"
      ],
      "metadata": {
        "id": "oq4cGWNd3yZz"
      },
      "execution_count": 243,
      "outputs": []
    },
    {
      "cell_type": "markdown",
      "source": [
        "Mari kita lihat lagi secara detail data yang sudah dibersihkan."
      ],
      "metadata": {
        "id": "RQ2UMK8P55kU"
      }
    },
    {
      "cell_type": "code",
      "source": [
        "listItem = []\n",
        "for col in df_clean.columns :\n",
        "    listItem.append([col, df_clean[col].dtype, df_clean[col].isna().sum(), round((df_clean[col].isna().sum()/len(df_clean[col])) * 100,2),\n",
        "                    df_clean[col].nunique(), list(df_clean[col].drop_duplicates().sample(2).values)]);\n",
        "\n",
        "dfCleanDesc = pd.DataFrame(columns=['dataFeatures', 'dataType', 'null', 'nullPct', 'unique', 'uniqueSample'],\n",
        "                     data=listItem)\n",
        "dfCleanDesc"
      ],
      "metadata": {
        "colab": {
          "base_uri": "https://localhost:8080/",
          "height": 394
        },
        "id": "GlUeE2UE4ZHW",
        "outputId": "f7e1a217-1e4d-41e6-fe41-9c9c52b94e2b"
      },
      "execution_count": 244,
      "outputs": [
        {
          "output_type": "execute_result",
          "data": {
            "text/plain": [
              "                   dataFeatures  dataType  null  nullPct  unique  \\\n",
              "0                       country  category     0      0.0     162   \n",
              "1                market_segment  category     0      0.0       8   \n",
              "2        previous_cancellations     int64     0      0.0      15   \n",
              "3               booking_changes     int64     0      0.0      19   \n",
              "4                  deposit_type  category     0      0.0       3   \n",
              "5          days_in_waiting_list     int64     0      0.0     115   \n",
              "6                 customer_type  category     0      0.0       4   \n",
              "7            reserved_room_type  category     0      0.0      10   \n",
              "8   required_car_parking_spaces     int64     0      0.0       5   \n",
              "9     total_of_special_requests     int64     0      0.0       6   \n",
              "10                  is_canceled  category     0      0.0       2   \n",
              "\n",
              "                uniqueSample  \n",
              "0                 [EST, MAC]  \n",
              "1        [Corporate, Direct]  \n",
              "2                    [14, 4]  \n",
              "3                     [6, 8]  \n",
              "4   [Refundable, No Deposit]  \n",
              "5                   [121, 2]  \n",
              "6         [Transient, Group]  \n",
              "7                     [E, B]  \n",
              "8                     [2, 0]  \n",
              "9                     [4, 2]  \n",
              "10                    [0, 1]  "
            ],
            "text/html": [
              "\n",
              "  <div id=\"df-08117326-980a-4b79-af52-39a5e7afe120\">\n",
              "    <div class=\"colab-df-container\">\n",
              "      <div>\n",
              "<style scoped>\n",
              "    .dataframe tbody tr th:only-of-type {\n",
              "        vertical-align: middle;\n",
              "    }\n",
              "\n",
              "    .dataframe tbody tr th {\n",
              "        vertical-align: top;\n",
              "    }\n",
              "\n",
              "    .dataframe thead th {\n",
              "        text-align: right;\n",
              "    }\n",
              "</style>\n",
              "<table border=\"1\" class=\"dataframe\">\n",
              "  <thead>\n",
              "    <tr style=\"text-align: right;\">\n",
              "      <th></th>\n",
              "      <th>dataFeatures</th>\n",
              "      <th>dataType</th>\n",
              "      <th>null</th>\n",
              "      <th>nullPct</th>\n",
              "      <th>unique</th>\n",
              "      <th>uniqueSample</th>\n",
              "    </tr>\n",
              "  </thead>\n",
              "  <tbody>\n",
              "    <tr>\n",
              "      <th>0</th>\n",
              "      <td>country</td>\n",
              "      <td>category</td>\n",
              "      <td>0</td>\n",
              "      <td>0.0</td>\n",
              "      <td>162</td>\n",
              "      <td>[EST, MAC]</td>\n",
              "    </tr>\n",
              "    <tr>\n",
              "      <th>1</th>\n",
              "      <td>market_segment</td>\n",
              "      <td>category</td>\n",
              "      <td>0</td>\n",
              "      <td>0.0</td>\n",
              "      <td>8</td>\n",
              "      <td>[Corporate, Direct]</td>\n",
              "    </tr>\n",
              "    <tr>\n",
              "      <th>2</th>\n",
              "      <td>previous_cancellations</td>\n",
              "      <td>int64</td>\n",
              "      <td>0</td>\n",
              "      <td>0.0</td>\n",
              "      <td>15</td>\n",
              "      <td>[14, 4]</td>\n",
              "    </tr>\n",
              "    <tr>\n",
              "      <th>3</th>\n",
              "      <td>booking_changes</td>\n",
              "      <td>int64</td>\n",
              "      <td>0</td>\n",
              "      <td>0.0</td>\n",
              "      <td>19</td>\n",
              "      <td>[6, 8]</td>\n",
              "    </tr>\n",
              "    <tr>\n",
              "      <th>4</th>\n",
              "      <td>deposit_type</td>\n",
              "      <td>category</td>\n",
              "      <td>0</td>\n",
              "      <td>0.0</td>\n",
              "      <td>3</td>\n",
              "      <td>[Refundable, No Deposit]</td>\n",
              "    </tr>\n",
              "    <tr>\n",
              "      <th>5</th>\n",
              "      <td>days_in_waiting_list</td>\n",
              "      <td>int64</td>\n",
              "      <td>0</td>\n",
              "      <td>0.0</td>\n",
              "      <td>115</td>\n",
              "      <td>[121, 2]</td>\n",
              "    </tr>\n",
              "    <tr>\n",
              "      <th>6</th>\n",
              "      <td>customer_type</td>\n",
              "      <td>category</td>\n",
              "      <td>0</td>\n",
              "      <td>0.0</td>\n",
              "      <td>4</td>\n",
              "      <td>[Transient, Group]</td>\n",
              "    </tr>\n",
              "    <tr>\n",
              "      <th>7</th>\n",
              "      <td>reserved_room_type</td>\n",
              "      <td>category</td>\n",
              "      <td>0</td>\n",
              "      <td>0.0</td>\n",
              "      <td>10</td>\n",
              "      <td>[E, B]</td>\n",
              "    </tr>\n",
              "    <tr>\n",
              "      <th>8</th>\n",
              "      <td>required_car_parking_spaces</td>\n",
              "      <td>int64</td>\n",
              "      <td>0</td>\n",
              "      <td>0.0</td>\n",
              "      <td>5</td>\n",
              "      <td>[2, 0]</td>\n",
              "    </tr>\n",
              "    <tr>\n",
              "      <th>9</th>\n",
              "      <td>total_of_special_requests</td>\n",
              "      <td>int64</td>\n",
              "      <td>0</td>\n",
              "      <td>0.0</td>\n",
              "      <td>6</td>\n",
              "      <td>[4, 2]</td>\n",
              "    </tr>\n",
              "    <tr>\n",
              "      <th>10</th>\n",
              "      <td>is_canceled</td>\n",
              "      <td>category</td>\n",
              "      <td>0</td>\n",
              "      <td>0.0</td>\n",
              "      <td>2</td>\n",
              "      <td>[0, 1]</td>\n",
              "    </tr>\n",
              "  </tbody>\n",
              "</table>\n",
              "</div>\n",
              "      <button class=\"colab-df-convert\" onclick=\"convertToInteractive('df-08117326-980a-4b79-af52-39a5e7afe120')\"\n",
              "              title=\"Convert this dataframe to an interactive table.\"\n",
              "              style=\"display:none;\">\n",
              "        \n",
              "  <svg xmlns=\"http://www.w3.org/2000/svg\" height=\"24px\"viewBox=\"0 0 24 24\"\n",
              "       width=\"24px\">\n",
              "    <path d=\"M0 0h24v24H0V0z\" fill=\"none\"/>\n",
              "    <path d=\"M18.56 5.44l.94 2.06.94-2.06 2.06-.94-2.06-.94-.94-2.06-.94 2.06-2.06.94zm-11 1L8.5 8.5l.94-2.06 2.06-.94-2.06-.94L8.5 2.5l-.94 2.06-2.06.94zm10 10l.94 2.06.94-2.06 2.06-.94-2.06-.94-.94-2.06-.94 2.06-2.06.94z\"/><path d=\"M17.41 7.96l-1.37-1.37c-.4-.4-.92-.59-1.43-.59-.52 0-1.04.2-1.43.59L10.3 9.45l-7.72 7.72c-.78.78-.78 2.05 0 2.83L4 21.41c.39.39.9.59 1.41.59.51 0 1.02-.2 1.41-.59l7.78-7.78 2.81-2.81c.8-.78.8-2.07 0-2.86zM5.41 20L4 18.59l7.72-7.72 1.47 1.35L5.41 20z\"/>\n",
              "  </svg>\n",
              "      </button>\n",
              "      \n",
              "  <style>\n",
              "    .colab-df-container {\n",
              "      display:flex;\n",
              "      flex-wrap:wrap;\n",
              "      gap: 12px;\n",
              "    }\n",
              "\n",
              "    .colab-df-convert {\n",
              "      background-color: #E8F0FE;\n",
              "      border: none;\n",
              "      border-radius: 50%;\n",
              "      cursor: pointer;\n",
              "      display: none;\n",
              "      fill: #1967D2;\n",
              "      height: 32px;\n",
              "      padding: 0 0 0 0;\n",
              "      width: 32px;\n",
              "    }\n",
              "\n",
              "    .colab-df-convert:hover {\n",
              "      background-color: #E2EBFA;\n",
              "      box-shadow: 0px 1px 2px rgba(60, 64, 67, 0.3), 0px 1px 3px 1px rgba(60, 64, 67, 0.15);\n",
              "      fill: #174EA6;\n",
              "    }\n",
              "\n",
              "    [theme=dark] .colab-df-convert {\n",
              "      background-color: #3B4455;\n",
              "      fill: #D2E3FC;\n",
              "    }\n",
              "\n",
              "    [theme=dark] .colab-df-convert:hover {\n",
              "      background-color: #434B5C;\n",
              "      box-shadow: 0px 1px 3px 1px rgba(0, 0, 0, 0.15);\n",
              "      filter: drop-shadow(0px 1px 2px rgba(0, 0, 0, 0.3));\n",
              "      fill: #FFFFFF;\n",
              "    }\n",
              "  </style>\n",
              "\n",
              "      <script>\n",
              "        const buttonEl =\n",
              "          document.querySelector('#df-08117326-980a-4b79-af52-39a5e7afe120 button.colab-df-convert');\n",
              "        buttonEl.style.display =\n",
              "          google.colab.kernel.accessAllowed ? 'block' : 'none';\n",
              "\n",
              "        async function convertToInteractive(key) {\n",
              "          const element = document.querySelector('#df-08117326-980a-4b79-af52-39a5e7afe120');\n",
              "          const dataTable =\n",
              "            await google.colab.kernel.invokeFunction('convertToInteractive',\n",
              "                                                     [key], {});\n",
              "          if (!dataTable) return;\n",
              "\n",
              "          const docLinkHtml = 'Like what you see? Visit the ' +\n",
              "            '<a target=\"_blank\" href=https://colab.research.google.com/notebooks/data_table.ipynb>data table notebook</a>'\n",
              "            + ' to learn more about interactive tables.';\n",
              "          element.innerHTML = '';\n",
              "          dataTable['output_type'] = 'display_data';\n",
              "          await google.colab.output.renderOutput(dataTable, element);\n",
              "          const docLink = document.createElement('div');\n",
              "          docLink.innerHTML = docLinkHtml;\n",
              "          element.appendChild(docLink);\n",
              "        }\n",
              "      </script>\n",
              "    </div>\n",
              "  </div>\n",
              "  "
            ]
          },
          "metadata": {},
          "execution_count": 244
        }
      ]
    },
    {
      "cell_type": "markdown",
      "source": [
        "## Check for data imbalance"
      ],
      "metadata": {
        "id": "QVJbcvfM72P9"
      }
    },
    {
      "cell_type": "markdown",
      "source": [
        "Sebelum kita masuk ke analisis, kita harus cek terlebih dahulu apakah jumlah data kita seimbang antara pengunjung yang membatalkan bookin dan yang tidak."
      ],
      "metadata": {
        "id": "BxwezeZO7P1C"
      }
    },
    {
      "cell_type": "code",
      "source": [
        "# Checking for class imbalance in the target variable\n",
        "df_clean['is_canceled'].value_counts()"
      ],
      "metadata": {
        "colab": {
          "base_uri": "https://localhost:8080/"
        },
        "id": "Bdtkl1yH7N0b",
        "outputId": "859df24e-1e76-4403-c286-593c7a30013f"
      },
      "execution_count": 245,
      "outputs": [
        {
          "output_type": "execute_result",
          "data": {
            "text/plain": [
              "0    52490\n",
              "1    30732\n",
              "Name: is_canceled, dtype: int64"
            ]
          },
          "metadata": {},
          "execution_count": 245
        }
      ]
    },
    {
      "cell_type": "code",
      "source": [
        "df_clean['is_canceled'].value_counts().plot.bar()\n",
        "plt.show()"
      ],
      "metadata": {
        "colab": {
          "base_uri": "https://localhost:8080/",
          "height": 425
        },
        "id": "9-GOlgeT7jOc",
        "outputId": "fd2f135c-3112-4979-f3ee-9e7fdd6ae446"
      },
      "execution_count": 246,
      "outputs": [
        {
          "output_type": "display_data",
          "data": {
            "text/plain": [
              "<Figure size 504x504 with 1 Axes>"
            ],
            "image/png": "[encoded data removed]"
          },
          "metadata": {
            "needs_background": "light"
          }
        }
      ]
    },
    {
      "cell_type": "markdown",
      "source": [
        "Perbandingan antara class 0 dan 1 tidak terlalu signifikan, sehingga tidak perlu di lakukan balancing."
      ],
      "metadata": {
        "id": "63y_mg5R8zf8"
      }
    },
    {
      "cell_type": "markdown",
      "source": [
        "## Group country using continent"
      ],
      "metadata": {
        "id": "XXBmdL9--okp"
      }
    },
    {
      "cell_type": "markdown",
      "source": [
        "Pada kolom country terdapat 162 unique values. Jumlah kategori ini sangat banyak dan mungkin akan menurunkan performa model kita nanti. Oleh karena itu, dapat dicoba mengelompokkan negara-negara dalam benua."
      ],
      "metadata": {
        "id": "DrBSZWX9-sOh"
      }
    },
    {
      "cell_type": "code",
      "source": [
        "# We would bin the country column in its respective continents\n",
        "europe=['PRT','GBR','ESP','IRL','FRA','ROU','NOR','POL','DEU','BEL','CHE','GRC','ITA','NLD','DNK','RUS','SWE','EST',\n",
        "       'CZE','FIN','LUX','SVN','ALB','UKR','SMR','LVA','SRB','AUT','BLR','LTU','TUR','HUN','HRV','GEO','AND','SVK',\n",
        "       'MKD','BIH','BGR','MLT','ISL','MCO','LIE','MNE']\n",
        "\n",
        "north_a=['USA','MEX','PRI','CRI','CUB','HND','NIC','GAB','PAN','SLV','GTM']\n",
        "\n",
        "south_a=['ARG','BRA','CHL','URY','COL','VEN','SUR','PER','ECU','BOL','PRY','GUY']\n",
        "\n",
        "asia=['OMN','CN','IND','CHN','ISR','KOR','ARE','HKG','IRN','CYP','KWT','MDV','KAZ','PAK','IDN','LBN','PHL','AZE','BHR',\n",
        "     'THA','MYS','ARM','JPN','LKA','JOR','SYR','SGP','SAU','VNM','QAT','UZB','NPL','MAC','TWN','IRQ','KHM','BGD','TJK',\n",
        "     'TMP','MMR','LAO']\n",
        "\n",
        "africa=['MOZ','BWA','MAR','ZAF','AGO','ZMB','ZWE','DZA','TUN','CAF','NGA','SEN','SYC','CMR','MUS','COM','UGA','CIV',\n",
        "       'BDI','EGY','MWI','MDG','TGO','DJI','STP','ETH','RWA','BEN','TZA','GHA','KEN','GNB','BFA','LBY','MLI','NAM',\n",
        "       'MRT','SDN','SLE']\n",
        "\n",
        "australia=['AUS']\n",
        "\n",
        "Others=['CYM','CPV','JAM','GIB','JEY','GGY','FJI','NZL','DOM','PLW','BHS','KNA','IMN','VGB','GLP','UMI','MYT','FRO',\n",
        "       'BRB','ABW','AIA','DMA','PYF','LCA','ATA','ASM','NCL','KIR','ATF']"
      ],
      "metadata": {
        "id": "e9Qei3V7_Iii"
      },
      "execution_count": 247,
      "outputs": []
    },
    {
      "cell_type": "code",
      "source": [
        "def continent(x):\n",
        "    if x in europe:\n",
        "        return 'Europe'\n",
        "    elif x in north_a:\n",
        "        return 'North America'\n",
        "    elif x in south_a:\n",
        "        return 'South America'\n",
        "    elif x in asia:\n",
        "        return 'Asia'\n",
        "    elif x in africa:\n",
        "        return 'Africa'\n",
        "    elif x in australia:\n",
        "        return 'Australia'\n",
        "    else:\n",
        "        return 'Others'\n",
        "\n",
        "df_clean_grouped = df_clean.copy()\n",
        "df_clean_grouped['country'] = df_clean_grouped['country'].apply(continent)\n",
        "df_clean_grouped['country'] = df_clean_grouped['country'].astype('category')"
      ],
      "metadata": {
        "id": "8XZD1ZnH_N8X"
      },
      "execution_count": 248,
      "outputs": []
    },
    {
      "cell_type": "code",
      "source": [
        "df_clean_grouped['country'].unique()"
      ],
      "metadata": {
        "colab": {
          "base_uri": "https://localhost:8080/"
        },
        "id": "uCfWlWSdA-Oq",
        "outputId": "41c47a88-fe9e-4ca7-d3be-358f5a7be02e"
      },
      "execution_count": 249,
      "outputs": [
        {
          "output_type": "execute_result",
          "data": {
            "text/plain": [
              "['Europe', 'Others', 'Asia', 'South America', 'Africa', 'North America', 'Australia']\n",
              "Categories (7, object): ['Africa', 'Asia', 'Australia', 'Europe', 'North America', 'Others',\n",
              "                         'South America']"
            ]
          },
          "metadata": {},
          "execution_count": 249
        }
      ]
    },
    {
      "cell_type": "code",
      "source": [
        "df_clean_grouped.shape"
      ],
      "metadata": {
        "colab": {
          "base_uri": "https://localhost:8080/"
        },
        "id": "NhYzFzxgBET5",
        "outputId": "bd2bab28-5376-4ea9-89a5-d304652a55bd"
      },
      "execution_count": 250,
      "outputs": [
        {
          "output_type": "execute_result",
          "data": {
            "text/plain": [
              "(83222, 11)"
            ]
          },
          "metadata": {},
          "execution_count": 250
        }
      ]
    },
    {
      "cell_type": "markdown",
      "source": [
        "# Data Analysis"
      ],
      "metadata": {
        "id": "MEZuG3IFwGC6"
      }
    },
    {
      "cell_type": "markdown",
      "source": [
        "## Country"
      ],
      "metadata": {
        "id": "qVrTQHIZErtB"
      }
    },
    {
      "cell_type": "code",
      "source": [
        "plt.figure(figsize=(8,8))\n",
        "sns.countplot(x='country',data=df_clean_grouped)\n",
        "plt.title('Sebaran pembatalan tiap benua')\n",
        "plt.xticks(rotation=60,ha='right')\n",
        "plt.show()"
      ],
      "metadata": {
        "colab": {
          "base_uri": "https://localhost:8080/",
          "height": 0
        },
        "id": "RraUqrohEvR4",
        "outputId": "f34d431d-c5bb-42d5-d710-38e3addb0aee"
      },
      "execution_count": 251,
      "outputs": [
        {
          "output_type": "display_data",
          "data": {
            "text/plain": [
              "<Figure size 576x576 with 1 Axes>"
            ],
            "image/png": "[encoded data removed]"
          },
          "metadata": {
            "needs_background": "light"
          }
        }
      ]
    },
    {
      "cell_type": "markdown",
      "source": [
        "Kami melihat bahwa kebanyakan orang yang melakukan booking adalah orang Eropa. Dan yang terendah berasal dari Australia dan Others."
      ],
      "metadata": {
        "id": "GBJzwXHXe0l1"
      }
    },
    {
      "cell_type": "code",
      "source": [
        "tbl=pd.crosstab(df_clean_grouped['country'],df_clean_grouped['is_canceled'],margins=True)\n",
        "tbl"
      ],
      "metadata": {
        "colab": {
          "base_uri": "https://localhost:8080/",
          "height": 0
        },
        "id": "hjzGffmve3tp",
        "outputId": "55ab4249-04cc-4f7c-8405-8920513fb704"
      },
      "execution_count": 252,
      "outputs": [
        {
          "output_type": "execute_result",
          "data": {
            "text/plain": [
              "is_canceled        0      1    All\n",
              "country                           \n",
              "Africa           430    316    746\n",
              "Asia            2003    938   2941\n",
              "Australia        225     76    301\n",
              "Europe         47331  28320  75651\n",
              "North America   1206    365   1571\n",
              "Others            80     41    121\n",
              "South America   1215    676   1891\n",
              "All            52490  30732  83222"
            ],
            "text/html": [
              "\n",
              "  <div id=\"df-4eff34c7-df9b-418a-9252-85c5cc230622\">\n",
              "    <div class=\"colab-df-container\">\n",
              "      <div>\n",
              "<style scoped>\n",
              "    .dataframe tbody tr th:only-of-type {\n",
              "        vertical-align: middle;\n",
              "    }\n",
              "\n",
              "    .dataframe tbody tr th {\n",
              "        vertical-align: top;\n",
              "    }\n",
              "\n",
              "    .dataframe thead th {\n",
              "        text-align: right;\n",
              "    }\n",
              "</style>\n",
              "<table border=\"1\" class=\"dataframe\">\n",
              "  <thead>\n",
              "    <tr style=\"text-align: right;\">\n",
              "      <th>is_canceled</th>\n",
              "      <th>0</th>\n",
              "      <th>1</th>\n",
              "      <th>All</th>\n",
              "    </tr>\n",
              "    <tr>\n",
              "      <th>country</th>\n",
              "      <th></th>\n",
              "      <th></th>\n",
              "      <th></th>\n",
              "    </tr>\n",
              "  </thead>\n",
              "  <tbody>\n",
              "    <tr>\n",
              "      <th>Africa</th>\n",
              "      <td>430</td>\n",
              "      <td>316</td>\n",
              "      <td>746</td>\n",
              "    </tr>\n",
              "    <tr>\n",
              "      <th>Asia</th>\n",
              "      <td>2003</td>\n",
              "      <td>938</td>\n",
              "      <td>2941</td>\n",
              "    </tr>\n",
              "    <tr>\n",
              "      <th>Australia</th>\n",
              "      <td>225</td>\n",
              "      <td>76</td>\n",
              "      <td>301</td>\n",
              "    </tr>\n",
              "    <tr>\n",
              "      <th>Europe</th>\n",
              "      <td>47331</td>\n",
              "      <td>28320</td>\n",
              "      <td>75651</td>\n",
              "    </tr>\n",
              "    <tr>\n",
              "      <th>North America</th>\n",
              "      <td>1206</td>\n",
              "      <td>365</td>\n",
              "      <td>1571</td>\n",
              "    </tr>\n",
              "    <tr>\n",
              "      <th>Others</th>\n",
              "      <td>80</td>\n",
              "      <td>41</td>\n",
              "      <td>121</td>\n",
              "    </tr>\n",
              "    <tr>\n",
              "      <th>South America</th>\n",
              "      <td>1215</td>\n",
              "      <td>676</td>\n",
              "      <td>1891</td>\n",
              "    </tr>\n",
              "    <tr>\n",
              "      <th>All</th>\n",
              "      <td>52490</td>\n",
              "      <td>30732</td>\n",
              "      <td>83222</td>\n",
              "    </tr>\n",
              "  </tbody>\n",
              "</table>\n",
              "</div>\n",
              "      <button class=\"colab-df-convert\" onclick=\"convertToInteractive('df-4eff34c7-df9b-418a-9252-85c5cc230622')\"\n",
              "              title=\"Convert this dataframe to an interactive table.\"\n",
              "              style=\"display:none;\">\n",
              "        \n",
              "  <svg xmlns=\"http://www.w3.org/2000/svg\" height=\"24px\"viewBox=\"0 0 24 24\"\n",
              "       width=\"24px\">\n",
              "    <path d=\"M0 0h24v24H0V0z\" fill=\"none\"/>\n",
              "    <path d=\"M18.56 5.44l.94 2.06.94-2.06 2.06-.94-2.06-.94-.94-2.06-.94 2.06-2.06.94zm-11 1L8.5 8.5l.94-2.06 2.06-.94-2.06-.94L8.5 2.5l-.94 2.06-2.06.94zm10 10l.94 2.06.94-2.06 2.06-.94-2.06-.94-.94-2.06-.94 2.06-2.06.94z\"/><path d=\"M17.41 7.96l-1.37-1.37c-.4-.4-.92-.59-1.43-.59-.52 0-1.04.2-1.43.59L10.3 9.45l-7.72 7.72c-.78.78-.78 2.05 0 2.83L4 21.41c.39.39.9.59 1.41.59.51 0 1.02-.2 1.41-.59l7.78-7.78 2.81-2.81c.8-.78.8-2.07 0-2.86zM5.41 20L4 18.59l7.72-7.72 1.47 1.35L5.41 20z\"/>\n",
              "  </svg>\n",
              "      </button>\n",
              "      \n",
              "  <style>\n",
              "    .colab-df-container {\n",
              "      display:flex;\n",
              "      flex-wrap:wrap;\n",
              "      gap: 12px;\n",
              "    }\n",
              "\n",
              "    .colab-df-convert {\n",
              "      background-color: #E8F0FE;\n",
              "      border: none;\n",
              "      border-radius: 50%;\n",
              "      cursor: pointer;\n",
              "      display: none;\n",
              "      fill: #1967D2;\n",
              "      height: 32px;\n",
              "      padding: 0 0 0 0;\n",
              "      width: 32px;\n",
              "    }\n",
              "\n",
              "    .colab-df-convert:hover {\n",
              "      background-color: #E2EBFA;\n",
              "      box-shadow: 0px 1px 2px rgba(60, 64, 67, 0.3), 0px 1px 3px 1px rgba(60, 64, 67, 0.15);\n",
              "      fill: #174EA6;\n",
              "    }\n",
              "\n",
              "    [theme=dark] .colab-df-convert {\n",
              "      background-color: #3B4455;\n",
              "      fill: #D2E3FC;\n",
              "    }\n",
              "\n",
              "    [theme=dark] .colab-df-convert:hover {\n",
              "      background-color: #434B5C;\n",
              "      box-shadow: 0px 1px 3px 1px rgba(0, 0, 0, 0.15);\n",
              "      filter: drop-shadow(0px 1px 2px rgba(0, 0, 0, 0.3));\n",
              "      fill: #FFFFFF;\n",
              "    }\n",
              "  </style>\n",
              "\n",
              "      <script>\n",
              "        const buttonEl =\n",
              "          document.querySelector('#df-4eff34c7-df9b-418a-9252-85c5cc230622 button.colab-df-convert');\n",
              "        buttonEl.style.display =\n",
              "          google.colab.kernel.accessAllowed ? 'block' : 'none';\n",
              "\n",
              "        async function convertToInteractive(key) {\n",
              "          const element = document.querySelector('#df-4eff34c7-df9b-418a-9252-85c5cc230622');\n",
              "          const dataTable =\n",
              "            await google.colab.kernel.invokeFunction('convertToInteractive',\n",
              "                                                     [key], {});\n",
              "          if (!dataTable) return;\n",
              "\n",
              "          const docLinkHtml = 'Like what you see? Visit the ' +\n",
              "            '<a target=\"_blank\" href=https://colab.research.google.com/notebooks/data_table.ipynb>data table notebook</a>'\n",
              "            + ' to learn more about interactive tables.';\n",
              "          element.innerHTML = '';\n",
              "          dataTable['output_type'] = 'display_data';\n",
              "          await google.colab.output.renderOutput(dataTable, element);\n",
              "          const docLink = document.createElement('div');\n",
              "          docLink.innerHTML = docLinkHtml;\n",
              "          element.appendChild(docLink);\n",
              "        }\n",
              "      </script>\n",
              "    </div>\n",
              "  </div>\n",
              "  "
            ]
          },
          "metadata": {},
          "execution_count": 252
        }
      ]
    },
    {
      "cell_type": "code",
      "source": [
        "tbl['cancel_percent']=tbl[1]*100/tbl['All']\n",
        "tbl"
      ],
      "metadata": {
        "colab": {
          "base_uri": "https://localhost:8080/",
          "height": 0
        },
        "id": "7_Tn8RVLe7Ky",
        "outputId": "55c6625a-fc08-40bb-99b9-8807d2204bc5"
      },
      "execution_count": 253,
      "outputs": [
        {
          "output_type": "execute_result",
          "data": {
            "text/plain": [
              "is_canceled        0      1    All  cancel_percent\n",
              "country                                           \n",
              "Africa           430    316    746       42.359249\n",
              "Asia            2003    938   2941       31.893914\n",
              "Australia        225     76    301       25.249169\n",
              "Europe         47331  28320  75651       37.435064\n",
              "North America   1206    365   1571       23.233609\n",
              "Others            80     41    121       33.884298\n",
              "South America   1215    676   1891       35.748281\n",
              "All            52490  30732  83222       36.927735"
            ],
            "text/html": [
              "\n",
              "  <div id=\"df-d4ed33bf-0888-49fb-9309-6ffc148f6176\">\n",
              "    <div class=\"colab-df-container\">\n",
              "      <div>\n",
              "<style scoped>\n",
              "    .dataframe tbody tr th:only-of-type {\n",
              "        vertical-align: middle;\n",
              "    }\n",
              "\n",
              "    .dataframe tbody tr th {\n",
              "        vertical-align: top;\n",
              "    }\n",
              "\n",
              "    .dataframe thead th {\n",
              "        text-align: right;\n",
              "    }\n",
              "</style>\n",
              "<table border=\"1\" class=\"dataframe\">\n",
              "  <thead>\n",
              "    <tr style=\"text-align: right;\">\n",
              "      <th>is_canceled</th>\n",
              "      <th>0</th>\n",
              "      <th>1</th>\n",
              "      <th>All</th>\n",
              "      <th>cancel_percent</th>\n",
              "    </tr>\n",
              "    <tr>\n",
              "      <th>country</th>\n",
              "      <th></th>\n",
              "      <th></th>\n",
              "      <th></th>\n",
              "      <th></th>\n",
              "    </tr>\n",
              "  </thead>\n",
              "  <tbody>\n",
              "    <tr>\n",
              "      <th>Africa</th>\n",
              "      <td>430</td>\n",
              "      <td>316</td>\n",
              "      <td>746</td>\n",
              "      <td>42.359249</td>\n",
              "    </tr>\n",
              "    <tr>\n",
              "      <th>Asia</th>\n",
              "      <td>2003</td>\n",
              "      <td>938</td>\n",
              "      <td>2941</td>\n",
              "      <td>31.893914</td>\n",
              "    </tr>\n",
              "    <tr>\n",
              "      <th>Australia</th>\n",
              "      <td>225</td>\n",
              "      <td>76</td>\n",
              "      <td>301</td>\n",
              "      <td>25.249169</td>\n",
              "    </tr>\n",
              "    <tr>\n",
              "      <th>Europe</th>\n",
              "      <td>47331</td>\n",
              "      <td>28320</td>\n",
              "      <td>75651</td>\n",
              "      <td>37.435064</td>\n",
              "    </tr>\n",
              "    <tr>\n",
              "      <th>North America</th>\n",
              "      <td>1206</td>\n",
              "      <td>365</td>\n",
              "      <td>1571</td>\n",
              "      <td>23.233609</td>\n",
              "    </tr>\n",
              "    <tr>\n",
              "      <th>Others</th>\n",
              "      <td>80</td>\n",
              "      <td>41</td>\n",
              "      <td>121</td>\n",
              "      <td>33.884298</td>\n",
              "    </tr>\n",
              "    <tr>\n",
              "      <th>South America</th>\n",
              "      <td>1215</td>\n",
              "      <td>676</td>\n",
              "      <td>1891</td>\n",
              "      <td>35.748281</td>\n",
              "    </tr>\n",
              "    <tr>\n",
              "      <th>All</th>\n",
              "      <td>52490</td>\n",
              "      <td>30732</td>\n",
              "      <td>83222</td>\n",
              "      <td>36.927735</td>\n",
              "    </tr>\n",
              "  </tbody>\n",
              "</table>\n",
              "</div>\n",
              "      <button class=\"colab-df-convert\" onclick=\"convertToInteractive('df-d4ed33bf-0888-49fb-9309-6ffc148f6176')\"\n",
              "              title=\"Convert this dataframe to an interactive table.\"\n",
              "              style=\"display:none;\">\n",
              "        \n",
              "  <svg xmlns=\"http://www.w3.org/2000/svg\" height=\"24px\"viewBox=\"0 0 24 24\"\n",
              "       width=\"24px\">\n",
              "    <path d=\"M0 0h24v24H0V0z\" fill=\"none\"/>\n",
              "    <path d=\"M18.56 5.44l.94 2.06.94-2.06 2.06-.94-2.06-.94-.94-2.06-.94 2.06-2.06.94zm-11 1L8.5 8.5l.94-2.06 2.06-.94-2.06-.94L8.5 2.5l-.94 2.06-2.06.94zm10 10l.94 2.06.94-2.06 2.06-.94-2.06-.94-.94-2.06-.94 2.06-2.06.94z\"/><path d=\"M17.41 7.96l-1.37-1.37c-.4-.4-.92-.59-1.43-.59-.52 0-1.04.2-1.43.59L10.3 9.45l-7.72 7.72c-.78.78-.78 2.05 0 2.83L4 21.41c.39.39.9.59 1.41.59.51 0 1.02-.2 1.41-.59l7.78-7.78 2.81-2.81c.8-.78.8-2.07 0-2.86zM5.41 20L4 18.59l7.72-7.72 1.47 1.35L5.41 20z\"/>\n",
              "  </svg>\n",
              "      </button>\n",
              "      \n",
              "  <style>\n",
              "    .colab-df-container {\n",
              "      display:flex;\n",
              "      flex-wrap:wrap;\n",
              "      gap: 12px;\n",
              "    }\n",
              "\n",
              "    .colab-df-convert {\n",
              "      background-color: #E8F0FE;\n",
              "      border: none;\n",
              "      border-radius: 50%;\n",
              "      cursor: pointer;\n",
              "      display: none;\n",
              "      fill: #1967D2;\n",
              "      height: 32px;\n",
              "      padding: 0 0 0 0;\n",
              "      width: 32px;\n",
              "    }\n",
              "\n",
              "    .colab-df-convert:hover {\n",
              "      background-color: #E2EBFA;\n",
              "      box-shadow: 0px 1px 2px rgba(60, 64, 67, 0.3), 0px 1px 3px 1px rgba(60, 64, 67, 0.15);\n",
              "      fill: #174EA6;\n",
              "    }\n",
              "\n",
              "    [theme=dark] .colab-df-convert {\n",
              "      background-color: #3B4455;\n",
              "      fill: #D2E3FC;\n",
              "    }\n",
              "\n",
              "    [theme=dark] .colab-df-convert:hover {\n",
              "      background-color: #434B5C;\n",
              "      box-shadow: 0px 1px 3px 1px rgba(0, 0, 0, 0.15);\n",
              "      filter: drop-shadow(0px 1px 2px rgba(0, 0, 0, 0.3));\n",
              "      fill: #FFFFFF;\n",
              "    }\n",
              "  </style>\n",
              "\n",
              "      <script>\n",
              "        const buttonEl =\n",
              "          document.querySelector('#df-d4ed33bf-0888-49fb-9309-6ffc148f6176 button.colab-df-convert');\n",
              "        buttonEl.style.display =\n",
              "          google.colab.kernel.accessAllowed ? 'block' : 'none';\n",
              "\n",
              "        async function convertToInteractive(key) {\n",
              "          const element = document.querySelector('#df-d4ed33bf-0888-49fb-9309-6ffc148f6176');\n",
              "          const dataTable =\n",
              "            await google.colab.kernel.invokeFunction('convertToInteractive',\n",
              "                                                     [key], {});\n",
              "          if (!dataTable) return;\n",
              "\n",
              "          const docLinkHtml = 'Like what you see? Visit the ' +\n",
              "            '<a target=\"_blank\" href=https://colab.research.google.com/notebooks/data_table.ipynb>data table notebook</a>'\n",
              "            + ' to learn more about interactive tables.';\n",
              "          element.innerHTML = '';\n",
              "          dataTable['output_type'] = 'display_data';\n",
              "          await google.colab.output.renderOutput(dataTable, element);\n",
              "          const docLink = document.createElement('div');\n",
              "          docLink.innerHTML = docLinkHtml;\n",
              "          element.appendChild(docLink);\n",
              "        }\n",
              "      </script>\n",
              "    </div>\n",
              "  </div>\n",
              "  "
            ]
          },
          "metadata": {},
          "execution_count": 253
        }
      ]
    },
    {
      "cell_type": "code",
      "source": [
        "plt.figure(figsize=(7,7))\n",
        "tbl.drop('All',axis=0)['cancel_percent'].plot.bar()\n",
        "plt.title('Persentase pembatalan tiap benua')\n",
        "plt.xticks(rotation=60,ha='right')\n",
        "plt.show()"
      ],
      "metadata": {
        "colab": {
          "base_uri": "https://localhost:8080/",
          "height": 0
        },
        "id": "Q6s-Waxye8Zp",
        "outputId": "0069d931-aab0-41b0-dd27-0a264ac0e146"
      },
      "execution_count": 254,
      "outputs": [
        {
          "output_type": "display_data",
          "data": {
            "text/plain": [
              "<Figure size 504x504 with 1 Axes>"
            ],
            "image/png": "[encoded data removed]"
          },
          "metadata": {
            "needs_background": "light"
          }
        }
      ]
    },
    {
      "cell_type": "markdown",
      "source": [
        "Dapat kita lihat bahwa benua yang memiliki tingkat pembatalan tertinggi merupakan benua Afrika, dan yang terendah merupakan Amerika Utara."
      ],
      "metadata": {
        "id": "C3-CxE5wfAwg"
      }
    },
    {
      "cell_type": "markdown",
      "source": [
        "### Tes Statistik\n",
        "\n",
        "h0: Tingkat pembatalan sama di semua wilayah negara\n",
        "\n",
        "h1: Tingkat pembatalan tidak sama di semua wilayah negara"
      ],
      "metadata": {
        "id": "pr--ZaHlf_Nt"
      }
    },
    {
      "cell_type": "code",
      "source": [
        "# Untuk tes ini kita akan menggunakan tes kontingensi chi2 \n",
        "tbl=pd.crosstab(df_clean_grouped['country'],df_clean_grouped['is_canceled']) \n",
        "tbl"
      ],
      "metadata": {
        "colab": {
          "base_uri": "https://localhost:8080/",
          "height": 0
        },
        "id": "36lwYHSigS6t",
        "outputId": "7c618b64-904a-49e6-9a3e-74338908fb9c"
      },
      "execution_count": 255,
      "outputs": [
        {
          "output_type": "execute_result",
          "data": {
            "text/plain": [
              "is_canceled        0      1\n",
              "country                    \n",
              "Africa           430    316\n",
              "Asia            2003    938\n",
              "Australia        225     76\n",
              "Europe         47331  28320\n",
              "North America   1206    365\n",
              "Others            80     41\n",
              "South America   1215    676"
            ],
            "text/html": [
              "\n",
              "  <div id=\"df-e8646a07-751f-45bb-a8d7-e61221acc213\">\n",
              "    <div class=\"colab-df-container\">\n",
              "      <div>\n",
              "<style scoped>\n",
              "    .dataframe tbody tr th:only-of-type {\n",
              "        vertical-align: middle;\n",
              "    }\n",
              "\n",
              "    .dataframe tbody tr th {\n",
              "        vertical-align: top;\n",
              "    }\n",
              "\n",
              "    .dataframe thead th {\n",
              "        text-align: right;\n",
              "    }\n",
              "</style>\n",
              "<table border=\"1\" class=\"dataframe\">\n",
              "  <thead>\n",
              "    <tr style=\"text-align: right;\">\n",
              "      <th>is_canceled</th>\n",
              "      <th>0</th>\n",
              "      <th>1</th>\n",
              "    </tr>\n",
              "    <tr>\n",
              "      <th>country</th>\n",
              "      <th></th>\n",
              "      <th></th>\n",
              "    </tr>\n",
              "  </thead>\n",
              "  <tbody>\n",
              "    <tr>\n",
              "      <th>Africa</th>\n",
              "      <td>430</td>\n",
              "      <td>316</td>\n",
              "    </tr>\n",
              "    <tr>\n",
              "      <th>Asia</th>\n",
              "      <td>2003</td>\n",
              "      <td>938</td>\n",
              "    </tr>\n",
              "    <tr>\n",
              "      <th>Australia</th>\n",
              "      <td>225</td>\n",
              "      <td>76</td>\n",
              "    </tr>\n",
              "    <tr>\n",
              "      <th>Europe</th>\n",
              "      <td>47331</td>\n",
              "      <td>28320</td>\n",
              "    </tr>\n",
              "    <tr>\n",
              "      <th>North America</th>\n",
              "      <td>1206</td>\n",
              "      <td>365</td>\n",
              "    </tr>\n",
              "    <tr>\n",
              "      <th>Others</th>\n",
              "      <td>80</td>\n",
              "      <td>41</td>\n",
              "    </tr>\n",
              "    <tr>\n",
              "      <th>South America</th>\n",
              "      <td>1215</td>\n",
              "      <td>676</td>\n",
              "    </tr>\n",
              "  </tbody>\n",
              "</table>\n",
              "</div>\n",
              "      <button class=\"colab-df-convert\" onclick=\"convertToInteractive('df-e8646a07-751f-45bb-a8d7-e61221acc213')\"\n",
              "              title=\"Convert this dataframe to an interactive table.\"\n",
              "              style=\"display:none;\">\n",
              "        \n",
              "  <svg xmlns=\"http://www.w3.org/2000/svg\" height=\"24px\"viewBox=\"0 0 24 24\"\n",
              "       width=\"24px\">\n",
              "    <path d=\"M0 0h24v24H0V0z\" fill=\"none\"/>\n",
              "    <path d=\"M18.56 5.44l.94 2.06.94-2.06 2.06-.94-2.06-.94-.94-2.06-.94 2.06-2.06.94zm-11 1L8.5 8.5l.94-2.06 2.06-.94-2.06-.94L8.5 2.5l-.94 2.06-2.06.94zm10 10l.94 2.06.94-2.06 2.06-.94-2.06-.94-.94-2.06-.94 2.06-2.06.94z\"/><path d=\"M17.41 7.96l-1.37-1.37c-.4-.4-.92-.59-1.43-.59-.52 0-1.04.2-1.43.59L10.3 9.45l-7.72 7.72c-.78.78-.78 2.05 0 2.83L4 21.41c.39.39.9.59 1.41.59.51 0 1.02-.2 1.41-.59l7.78-7.78 2.81-2.81c.8-.78.8-2.07 0-2.86zM5.41 20L4 18.59l7.72-7.72 1.47 1.35L5.41 20z\"/>\n",
              "  </svg>\n",
              "      </button>\n",
              "      \n",
              "  <style>\n",
              "    .colab-df-container {\n",
              "      display:flex;\n",
              "      flex-wrap:wrap;\n",
              "      gap: 12px;\n",
              "    }\n",
              "\n",
              "    .colab-df-convert {\n",
              "      background-color: #E8F0FE;\n",
              "      border: none;\n",
              "      border-radius: 50%;\n",
              "      cursor: pointer;\n",
              "      display: none;\n",
              "      fill: #1967D2;\n",
              "      height: 32px;\n",
              "      padding: 0 0 0 0;\n",
              "      width: 32px;\n",
              "    }\n",
              "\n",
              "    .colab-df-convert:hover {\n",
              "      background-color: #E2EBFA;\n",
              "      box-shadow: 0px 1px 2px rgba(60, 64, 67, 0.3), 0px 1px 3px 1px rgba(60, 64, 67, 0.15);\n",
              "      fill: #174EA6;\n",
              "    }\n",
              "\n",
              "    [theme=dark] .colab-df-convert {\n",
              "      background-color: #3B4455;\n",
              "      fill: #D2E3FC;\n",
              "    }\n",
              "\n",
              "    [theme=dark] .colab-df-convert:hover {\n",
              "      background-color: #434B5C;\n",
              "      box-shadow: 0px 1px 3px 1px rgba(0, 0, 0, 0.15);\n",
              "      filter: drop-shadow(0px 1px 2px rgba(0, 0, 0, 0.3));\n",
              "      fill: #FFFFFF;\n",
              "    }\n",
              "  </style>\n",
              "\n",
              "      <script>\n",
              "        const buttonEl =\n",
              "          document.querySelector('#df-e8646a07-751f-45bb-a8d7-e61221acc213 button.colab-df-convert');\n",
              "        buttonEl.style.display =\n",
              "          google.colab.kernel.accessAllowed ? 'block' : 'none';\n",
              "\n",
              "        async function convertToInteractive(key) {\n",
              "          const element = document.querySelector('#df-e8646a07-751f-45bb-a8d7-e61221acc213');\n",
              "          const dataTable =\n",
              "            await google.colab.kernel.invokeFunction('convertToInteractive',\n",
              "                                                     [key], {});\n",
              "          if (!dataTable) return;\n",
              "\n",
              "          const docLinkHtml = 'Like what you see? Visit the ' +\n",
              "            '<a target=\"_blank\" href=https://colab.research.google.com/notebooks/data_table.ipynb>data table notebook</a>'\n",
              "            + ' to learn more about interactive tables.';\n",
              "          element.innerHTML = '';\n",
              "          dataTable['output_type'] = 'display_data';\n",
              "          await google.colab.output.renderOutput(dataTable, element);\n",
              "          const docLink = document.createElement('div');\n",
              "          docLink.innerHTML = docLinkHtml;\n",
              "          element.appendChild(docLink);\n",
              "        }\n",
              "      </script>\n",
              "    </div>\n",
              "  </div>\n",
              "  "
            ]
          },
          "metadata": {},
          "execution_count": 255
        }
      ]
    },
    {
      "cell_type": "code",
      "source": [
        "statistic,pvalue,dof,expected=stats.chi2_contingency(tbl)\n",
        "print('Nilai P-Value =',pvalue)"
      ],
      "metadata": {
        "colab": {
          "base_uri": "https://localhost:8080/"
        },
        "id": "_DNvNJlXginR",
        "outputId": "22dbf480-0cd3-45ef-f9a7-ecf7ef68a259"
      },
      "execution_count": 256,
      "outputs": [
        {
          "output_type": "stream",
          "name": "stdout",
          "text": [
            "Nilai P-Value = 1.6949608526107885e-39\n"
          ]
        }
      ]
    },
    {
      "cell_type": "markdown",
      "source": [
        "Kita lihat bahwa nilai p-value sangat kecil. Oleh karena itu, kita dapat tolak h0. Kesimpulannya, tingkat pembatalan berbeda di semua benua."
      ],
      "metadata": {
        "id": "M9D9h2gjglUa"
      }
    },
    {
      "cell_type": "markdown",
      "source": [
        "## Market Segment"
      ],
      "metadata": {
        "id": "mLHzLpoXKbJH"
      }
    },
    {
      "cell_type": "code",
      "source": [
        "plt.rcParams['figure.figsize']=[7,7]\n",
        "sns.countplot(x='market_segment',data=df_clean_grouped)\n",
        "plt.xticks(rotation=60,ha='right')\n",
        "plt.show()"
      ],
      "metadata": {
        "colab": {
          "base_uri": "https://localhost:8080/",
          "height": 0
        },
        "id": "oSFvG2YXhMGu",
        "outputId": "0c36722e-8f41-4f29-9946-c06cc067e2c9"
      },
      "execution_count": 257,
      "outputs": [
        {
          "output_type": "display_data",
          "data": {
            "text/plain": [
              "<Figure size 504x504 with 1 Axes>"
            ],
            "image/png": "[encoded data removed]"
          },
          "metadata": {
            "needs_background": "light"
          }
        }
      ]
    },
    {
      "cell_type": "markdown",
      "source": [
        "Segmentasi pasar terbesar ada pada travel agen online. "
      ],
      "metadata": {
        "id": "DiX3teIbhSfo"
      }
    },
    {
      "cell_type": "code",
      "source": [
        "tbl=pd.crosstab(df_clean_grouped['market_segment'],df_clean_grouped['is_canceled'],margins=True)\n",
        "tbl"
      ],
      "metadata": {
        "colab": {
          "base_uri": "https://localhost:8080/",
          "height": 0
        },
        "id": "GpJP03HshUc2",
        "outputId": "a5e56485-f974-4c62-f288-23af1676adfb"
      },
      "execution_count": 258,
      "outputs": [
        {
          "output_type": "execute_result",
          "data": {
            "text/plain": [
              "is_canceled         0      1    All\n",
              "market_segment                     \n",
              "Aviation          130     35    165\n",
              "Complementary     438     68    506\n",
              "Corporate        2990    678   3668\n",
              "Direct           7437   1339   8776\n",
              "Groups           5306   8412  13718\n",
              "Offline TA/TO   11214   5766  16980\n",
              "Online TA       24975  14433  39408\n",
              "Undefined           0      1      1\n",
              "All             52490  30732  83222"
            ],
            "text/html": [
              "\n",
              "  <div id=\"df-4c41b2b9-5271-4975-bc96-7b60f4a95565\">\n",
              "    <div class=\"colab-df-container\">\n",
              "      <div>\n",
              "<style scoped>\n",
              "    .dataframe tbody tr th:only-of-type {\n",
              "        vertical-align: middle;\n",
              "    }\n",
              "\n",
              "    .dataframe tbody tr th {\n",
              "        vertical-align: top;\n",
              "    }\n",
              "\n",
              "    .dataframe thead th {\n",
              "        text-align: right;\n",
              "    }\n",
              "</style>\n",
              "<table border=\"1\" class=\"dataframe\">\n",
              "  <thead>\n",
              "    <tr style=\"text-align: right;\">\n",
              "      <th>is_canceled</th>\n",
              "      <th>0</th>\n",
              "      <th>1</th>\n",
              "      <th>All</th>\n",
              "    </tr>\n",
              "    <tr>\n",
              "      <th>market_segment</th>\n",
              "      <th></th>\n",
              "      <th></th>\n",
              "      <th></th>\n",
              "    </tr>\n",
              "  </thead>\n",
              "  <tbody>\n",
              "    <tr>\n",
              "      <th>Aviation</th>\n",
              "      <td>130</td>\n",
              "      <td>35</td>\n",
              "      <td>165</td>\n",
              "    </tr>\n",
              "    <tr>\n",
              "      <th>Complementary</th>\n",
              "      <td>438</td>\n",
              "      <td>68</td>\n",
              "      <td>506</td>\n",
              "    </tr>\n",
              "    <tr>\n",
              "      <th>Corporate</th>\n",
              "      <td>2990</td>\n",
              "      <td>678</td>\n",
              "      <td>3668</td>\n",
              "    </tr>\n",
              "    <tr>\n",
              "      <th>Direct</th>\n",
              "      <td>7437</td>\n",
              "      <td>1339</td>\n",
              "      <td>8776</td>\n",
              "    </tr>\n",
              "    <tr>\n",
              "      <th>Groups</th>\n",
              "      <td>5306</td>\n",
              "      <td>8412</td>\n",
              "      <td>13718</td>\n",
              "    </tr>\n",
              "    <tr>\n",
              "      <th>Offline TA/TO</th>\n",
              "      <td>11214</td>\n",
              "      <td>5766</td>\n",
              "      <td>16980</td>\n",
              "    </tr>\n",
              "    <tr>\n",
              "      <th>Online TA</th>\n",
              "      <td>24975</td>\n",
              "      <td>14433</td>\n",
              "      <td>39408</td>\n",
              "    </tr>\n",
              "    <tr>\n",
              "      <th>Undefined</th>\n",
              "      <td>0</td>\n",
              "      <td>1</td>\n",
              "      <td>1</td>\n",
              "    </tr>\n",
              "    <tr>\n",
              "      <th>All</th>\n",
              "      <td>52490</td>\n",
              "      <td>30732</td>\n",
              "      <td>83222</td>\n",
              "    </tr>\n",
              "  </tbody>\n",
              "</table>\n",
              "</div>\n",
              "      <button class=\"colab-df-convert\" onclick=\"convertToInteractive('df-4c41b2b9-5271-4975-bc96-7b60f4a95565')\"\n",
              "              title=\"Convert this dataframe to an interactive table.\"\n",
              "              style=\"display:none;\">\n",
              "        \n",
              "  <svg xmlns=\"http://www.w3.org/2000/svg\" height=\"24px\"viewBox=\"0 0 24 24\"\n",
              "       width=\"24px\">\n",
              "    <path d=\"M0 0h24v24H0V0z\" fill=\"none\"/>\n",
              "    <path d=\"M18.56 5.44l.94 2.06.94-2.06 2.06-.94-2.06-.94-.94-2.06-.94 2.06-2.06.94zm-11 1L8.5 8.5l.94-2.06 2.06-.94-2.06-.94L8.5 2.5l-.94 2.06-2.06.94zm10 10l.94 2.06.94-2.06 2.06-.94-2.06-.94-.94-2.06-.94 2.06-2.06.94z\"/><path d=\"M17.41 7.96l-1.37-1.37c-.4-.4-.92-.59-1.43-.59-.52 0-1.04.2-1.43.59L10.3 9.45l-7.72 7.72c-.78.78-.78 2.05 0 2.83L4 21.41c.39.39.9.59 1.41.59.51 0 1.02-.2 1.41-.59l7.78-7.78 2.81-2.81c.8-.78.8-2.07 0-2.86zM5.41 20L4 18.59l7.72-7.72 1.47 1.35L5.41 20z\"/>\n",
              "  </svg>\n",
              "      </button>\n",
              "      \n",
              "  <style>\n",
              "    .colab-df-container {\n",
              "      display:flex;\n",
              "      flex-wrap:wrap;\n",
              "      gap: 12px;\n",
              "    }\n",
              "\n",
              "    .colab-df-convert {\n",
              "      background-color: #E8F0FE;\n",
              "      border: none;\n",
              "      border-radius: 50%;\n",
              "      cursor: pointer;\n",
              "      display: none;\n",
              "      fill: #1967D2;\n",
              "      height: 32px;\n",
              "      padding: 0 0 0 0;\n",
              "      width: 32px;\n",
              "    }\n",
              "\n",
              "    .colab-df-convert:hover {\n",
              "      background-color: #E2EBFA;\n",
              "      box-shadow: 0px 1px 2px rgba(60, 64, 67, 0.3), 0px 1px 3px 1px rgba(60, 64, 67, 0.15);\n",
              "      fill: #174EA6;\n",
              "    }\n",
              "\n",
              "    [theme=dark] .colab-df-convert {\n",
              "      background-color: #3B4455;\n",
              "      fill: #D2E3FC;\n",
              "    }\n",
              "\n",
              "    [theme=dark] .colab-df-convert:hover {\n",
              "      background-color: #434B5C;\n",
              "      box-shadow: 0px 1px 3px 1px rgba(0, 0, 0, 0.15);\n",
              "      filter: drop-shadow(0px 1px 2px rgba(0, 0, 0, 0.3));\n",
              "      fill: #FFFFFF;\n",
              "    }\n",
              "  </style>\n",
              "\n",
              "      <script>\n",
              "        const buttonEl =\n",
              "          document.querySelector('#df-4c41b2b9-5271-4975-bc96-7b60f4a95565 button.colab-df-convert');\n",
              "        buttonEl.style.display =\n",
              "          google.colab.kernel.accessAllowed ? 'block' : 'none';\n",
              "\n",
              "        async function convertToInteractive(key) {\n",
              "          const element = document.querySelector('#df-4c41b2b9-5271-4975-bc96-7b60f4a95565');\n",
              "          const dataTable =\n",
              "            await google.colab.kernel.invokeFunction('convertToInteractive',\n",
              "                                                     [key], {});\n",
              "          if (!dataTable) return;\n",
              "\n",
              "          const docLinkHtml = 'Like what you see? Visit the ' +\n",
              "            '<a target=\"_blank\" href=https://colab.research.google.com/notebooks/data_table.ipynb>data table notebook</a>'\n",
              "            + ' to learn more about interactive tables.';\n",
              "          element.innerHTML = '';\n",
              "          dataTable['output_type'] = 'display_data';\n",
              "          await google.colab.output.renderOutput(dataTable, element);\n",
              "          const docLink = document.createElement('div');\n",
              "          docLink.innerHTML = docLinkHtml;\n",
              "          element.appendChild(docLink);\n",
              "        }\n",
              "      </script>\n",
              "    </div>\n",
              "  </div>\n",
              "  "
            ]
          },
          "metadata": {},
          "execution_count": 258
        }
      ]
    },
    {
      "cell_type": "code",
      "source": [
        "tbl['cancel_percent']=tbl[1]*100/tbl['All']\n",
        "tbl"
      ],
      "metadata": {
        "colab": {
          "base_uri": "https://localhost:8080/",
          "height": 0
        },
        "id": "BRoME6D2hWER",
        "outputId": "fea58fa7-c7ec-4667-b192-503a1198acfd"
      },
      "execution_count": 259,
      "outputs": [
        {
          "output_type": "execute_result",
          "data": {
            "text/plain": [
              "is_canceled         0      1    All  cancel_percent\n",
              "market_segment                                     \n",
              "Aviation          130     35    165       21.212121\n",
              "Complementary     438     68    506       13.438735\n",
              "Corporate        2990    678   3668       18.484188\n",
              "Direct           7437   1339   8776       15.257521\n",
              "Groups           5306   8412  13718       61.320892\n",
              "Offline TA/TO   11214   5766  16980       33.957597\n",
              "Online TA       24975  14433  39408       36.624543\n",
              "Undefined           0      1      1      100.000000\n",
              "All             52490  30732  83222       36.927735"
            ],
            "text/html": [
              "\n",
              "  <div id=\"df-de94e7dd-a1f2-4c20-a767-a68ef04b91e4\">\n",
              "    <div class=\"colab-df-container\">\n",
              "      <div>\n",
              "<style scoped>\n",
              "    .dataframe tbody tr th:only-of-type {\n",
              "        vertical-align: middle;\n",
              "    }\n",
              "\n",
              "    .dataframe tbody tr th {\n",
              "        vertical-align: top;\n",
              "    }\n",
              "\n",
              "    .dataframe thead th {\n",
              "        text-align: right;\n",
              "    }\n",
              "</style>\n",
              "<table border=\"1\" class=\"dataframe\">\n",
              "  <thead>\n",
              "    <tr style=\"text-align: right;\">\n",
              "      <th>is_canceled</th>\n",
              "      <th>0</th>\n",
              "      <th>1</th>\n",
              "      <th>All</th>\n",
              "      <th>cancel_percent</th>\n",
              "    </tr>\n",
              "    <tr>\n",
              "      <th>market_segment</th>\n",
              "      <th></th>\n",
              "      <th></th>\n",
              "      <th></th>\n",
              "      <th></th>\n",
              "    </tr>\n",
              "  </thead>\n",
              "  <tbody>\n",
              "    <tr>\n",
              "      <th>Aviation</th>\n",
              "      <td>130</td>\n",
              "      <td>35</td>\n",
              "      <td>165</td>\n",
              "      <td>21.212121</td>\n",
              "    </tr>\n",
              "    <tr>\n",
              "      <th>Complementary</th>\n",
              "      <td>438</td>\n",
              "      <td>68</td>\n",
              "      <td>506</td>\n",
              "      <td>13.438735</td>\n",
              "    </tr>\n",
              "    <tr>\n",
              "      <th>Corporate</th>\n",
              "      <td>2990</td>\n",
              "      <td>678</td>\n",
              "      <td>3668</td>\n",
              "      <td>18.484188</td>\n",
              "    </tr>\n",
              "    <tr>\n",
              "      <th>Direct</th>\n",
              "      <td>7437</td>\n",
              "      <td>1339</td>\n",
              "      <td>8776</td>\n",
              "      <td>15.257521</td>\n",
              "    </tr>\n",
              "    <tr>\n",
              "      <th>Groups</th>\n",
              "      <td>5306</td>\n",
              "      <td>8412</td>\n",
              "      <td>13718</td>\n",
              "      <td>61.320892</td>\n",
              "    </tr>\n",
              "    <tr>\n",
              "      <th>Offline TA/TO</th>\n",
              "      <td>11214</td>\n",
              "      <td>5766</td>\n",
              "      <td>16980</td>\n",
              "      <td>33.957597</td>\n",
              "    </tr>\n",
              "    <tr>\n",
              "      <th>Online TA</th>\n",
              "      <td>24975</td>\n",
              "      <td>14433</td>\n",
              "      <td>39408</td>\n",
              "      <td>36.624543</td>\n",
              "    </tr>\n",
              "    <tr>\n",
              "      <th>Undefined</th>\n",
              "      <td>0</td>\n",
              "      <td>1</td>\n",
              "      <td>1</td>\n",
              "      <td>100.000000</td>\n",
              "    </tr>\n",
              "    <tr>\n",
              "      <th>All</th>\n",
              "      <td>52490</td>\n",
              "      <td>30732</td>\n",
              "      <td>83222</td>\n",
              "      <td>36.927735</td>\n",
              "    </tr>\n",
              "  </tbody>\n",
              "</table>\n",
              "</div>\n",
              "      <button class=\"colab-df-convert\" onclick=\"convertToInteractive('df-de94e7dd-a1f2-4c20-a767-a68ef04b91e4')\"\n",
              "              title=\"Convert this dataframe to an interactive table.\"\n",
              "              style=\"display:none;\">\n",
              "        \n",
              "  <svg xmlns=\"http://www.w3.org/2000/svg\" height=\"24px\"viewBox=\"0 0 24 24\"\n",
              "       width=\"24px\">\n",
              "    <path d=\"M0 0h24v24H0V0z\" fill=\"none\"/>\n",
              "    <path d=\"M18.56 5.44l.94 2.06.94-2.06 2.06-.94-2.06-.94-.94-2.06-.94 2.06-2.06.94zm-11 1L8.5 8.5l.94-2.06 2.06-.94-2.06-.94L8.5 2.5l-.94 2.06-2.06.94zm10 10l.94 2.06.94-2.06 2.06-.94-2.06-.94-.94-2.06-.94 2.06-2.06.94z\"/><path d=\"M17.41 7.96l-1.37-1.37c-.4-.4-.92-.59-1.43-.59-.52 0-1.04.2-1.43.59L10.3 9.45l-7.72 7.72c-.78.78-.78 2.05 0 2.83L4 21.41c.39.39.9.59 1.41.59.51 0 1.02-.2 1.41-.59l7.78-7.78 2.81-2.81c.8-.78.8-2.07 0-2.86zM5.41 20L4 18.59l7.72-7.72 1.47 1.35L5.41 20z\"/>\n",
              "  </svg>\n",
              "      </button>\n",
              "      \n",
              "  <style>\n",
              "    .colab-df-container {\n",
              "      display:flex;\n",
              "      flex-wrap:wrap;\n",
              "      gap: 12px;\n",
              "    }\n",
              "\n",
              "    .colab-df-convert {\n",
              "      background-color: #E8F0FE;\n",
              "      border: none;\n",
              "      border-radius: 50%;\n",
              "      cursor: pointer;\n",
              "      display: none;\n",
              "      fill: #1967D2;\n",
              "      height: 32px;\n",
              "      padding: 0 0 0 0;\n",
              "      width: 32px;\n",
              "    }\n",
              "\n",
              "    .colab-df-convert:hover {\n",
              "      background-color: #E2EBFA;\n",
              "      box-shadow: 0px 1px 2px rgba(60, 64, 67, 0.3), 0px 1px 3px 1px rgba(60, 64, 67, 0.15);\n",
              "      fill: #174EA6;\n",
              "    }\n",
              "\n",
              "    [theme=dark] .colab-df-convert {\n",
              "      background-color: #3B4455;\n",
              "      fill: #D2E3FC;\n",
              "    }\n",
              "\n",
              "    [theme=dark] .colab-df-convert:hover {\n",
              "      background-color: #434B5C;\n",
              "      box-shadow: 0px 1px 3px 1px rgba(0, 0, 0, 0.15);\n",
              "      filter: drop-shadow(0px 1px 2px rgba(0, 0, 0, 0.3));\n",
              "      fill: #FFFFFF;\n",
              "    }\n",
              "  </style>\n",
              "\n",
              "      <script>\n",
              "        const buttonEl =\n",
              "          document.querySelector('#df-de94e7dd-a1f2-4c20-a767-a68ef04b91e4 button.colab-df-convert');\n",
              "        buttonEl.style.display =\n",
              "          google.colab.kernel.accessAllowed ? 'block' : 'none';\n",
              "\n",
              "        async function convertToInteractive(key) {\n",
              "          const element = document.querySelector('#df-de94e7dd-a1f2-4c20-a767-a68ef04b91e4');\n",
              "          const dataTable =\n",
              "            await google.colab.kernel.invokeFunction('convertToInteractive',\n",
              "                                                     [key], {});\n",
              "          if (!dataTable) return;\n",
              "\n",
              "          const docLinkHtml = 'Like what you see? Visit the ' +\n",
              "            '<a target=\"_blank\" href=https://colab.research.google.com/notebooks/data_table.ipynb>data table notebook</a>'\n",
              "            + ' to learn more about interactive tables.';\n",
              "          element.innerHTML = '';\n",
              "          dataTable['output_type'] = 'display_data';\n",
              "          await google.colab.output.renderOutput(dataTable, element);\n",
              "          const docLink = document.createElement('div');\n",
              "          docLink.innerHTML = docLinkHtml;\n",
              "          element.appendChild(docLink);\n",
              "        }\n",
              "      </script>\n",
              "    </div>\n",
              "  </div>\n",
              "  "
            ]
          },
          "metadata": {},
          "execution_count": 259
        }
      ]
    },
    {
      "cell_type": "code",
      "source": [
        "tbl.drop('All',axis=0)['cancel_percent'].plot.bar()\n",
        "plt.title('Tingkat pembatalan tiap segmen pasar')\n",
        "plt.xticks(rotation=60,ha='right')\n",
        "plt.show()"
      ],
      "metadata": {
        "colab": {
          "base_uri": "https://localhost:8080/",
          "height": 0
        },
        "id": "9AP0sUI9hXdW",
        "outputId": "498326c8-8f19-4de3-dd38-f77dc0961304"
      },
      "execution_count": 260,
      "outputs": [
        {
          "output_type": "display_data",
          "data": {
            "text/plain": [
              "<Figure size 504x504 with 1 Axes>"
            ],
            "image/png": "[encoded data removed]"
          },
          "metadata": {
            "needs_background": "light"
          }
        }
      ]
    },
    {
      "cell_type": "markdown",
      "source": [
        "Kami lihat bahwa segmen pasar yang tidak terdefinisi memiliki tingkat pembatalan tertinggi. Tapi hanya ada dua catatan dimana segmen pasar tidak terdefinisi. Di antara segmen pasar lainnya, tingkat pembatalan paling tinggi di segmen TA online."
      ],
      "metadata": {
        "id": "AKwryYVvhcgK"
      }
    },
    {
      "cell_type": "markdown",
      "source": [
        "### Tes Statistik"
      ],
      "metadata": {
        "id": "AiP0qJE4hc7M"
      }
    },
    {
      "cell_type": "markdown",
      "source": [
        "h0: Tingkat pembatalan sama di semua segmen pasar\n",
        "\n",
        "h1: Tingkat pembatalan tidak sama di semua segmen pasar"
      ],
      "metadata": {
        "id": "d34TXq96WqHv"
      }
    },
    {
      "cell_type": "code",
      "source": [
        "# Untuk tes ini kita akan menggunakan tes kontingensi chi2\n",
        "tbl = pd.crosstab(df_clean_grouped['market_segment'], df_clean_grouped['is_canceled'])\n",
        "tbl"
      ],
      "metadata": {
        "colab": {
          "base_uri": "https://localhost:8080/",
          "height": 0
        },
        "id": "hqOAWqnCUEAX",
        "outputId": "feeaa8d7-6c4f-48ab-f42b-287a4c2871b1"
      },
      "execution_count": 261,
      "outputs": [
        {
          "output_type": "execute_result",
          "data": {
            "text/plain": [
              "is_canceled         0      1\n",
              "market_segment              \n",
              "Aviation          130     35\n",
              "Complementary     438     68\n",
              "Corporate        2990    678\n",
              "Direct           7437   1339\n",
              "Groups           5306   8412\n",
              "Offline TA/TO   11214   5766\n",
              "Online TA       24975  14433\n",
              "Undefined           0      1"
            ],
            "text/html": [
              "\n",
              "  <div id=\"df-409bf21b-fc72-4251-8cf8-1cf6af7f1cf8\">\n",
              "    <div class=\"colab-df-container\">\n",
              "      <div>\n",
              "<style scoped>\n",
              "    .dataframe tbody tr th:only-of-type {\n",
              "        vertical-align: middle;\n",
              "    }\n",
              "\n",
              "    .dataframe tbody tr th {\n",
              "        vertical-align: top;\n",
              "    }\n",
              "\n",
              "    .dataframe thead th {\n",
              "        text-align: right;\n",
              "    }\n",
              "</style>\n",
              "<table border=\"1\" class=\"dataframe\">\n",
              "  <thead>\n",
              "    <tr style=\"text-align: right;\">\n",
              "      <th>is_canceled</th>\n",
              "      <th>0</th>\n",
              "      <th>1</th>\n",
              "    </tr>\n",
              "    <tr>\n",
              "      <th>market_segment</th>\n",
              "      <th></th>\n",
              "      <th></th>\n",
              "    </tr>\n",
              "  </thead>\n",
              "  <tbody>\n",
              "    <tr>\n",
              "      <th>Aviation</th>\n",
              "      <td>130</td>\n",
              "      <td>35</td>\n",
              "    </tr>\n",
              "    <tr>\n",
              "      <th>Complementary</th>\n",
              "      <td>438</td>\n",
              "      <td>68</td>\n",
              "    </tr>\n",
              "    <tr>\n",
              "      <th>Corporate</th>\n",
              "      <td>2990</td>\n",
              "      <td>678</td>\n",
              "    </tr>\n",
              "    <tr>\n",
              "      <th>Direct</th>\n",
              "      <td>7437</td>\n",
              "      <td>1339</td>\n",
              "    </tr>\n",
              "    <tr>\n",
              "      <th>Groups</th>\n",
              "      <td>5306</td>\n",
              "      <td>8412</td>\n",
              "    </tr>\n",
              "    <tr>\n",
              "      <th>Offline TA/TO</th>\n",
              "      <td>11214</td>\n",
              "      <td>5766</td>\n",
              "    </tr>\n",
              "    <tr>\n",
              "      <th>Online TA</th>\n",
              "      <td>24975</td>\n",
              "      <td>14433</td>\n",
              "    </tr>\n",
              "    <tr>\n",
              "      <th>Undefined</th>\n",
              "      <td>0</td>\n",
              "      <td>1</td>\n",
              "    </tr>\n",
              "  </tbody>\n",
              "</table>\n",
              "</div>\n",
              "      <button class=\"colab-df-convert\" onclick=\"convertToInteractive('df-409bf21b-fc72-4251-8cf8-1cf6af7f1cf8')\"\n",
              "              title=\"Convert this dataframe to an interactive table.\"\n",
              "              style=\"display:none;\">\n",
              "        \n",
              "  <svg xmlns=\"http://www.w3.org/2000/svg\" height=\"24px\"viewBox=\"0 0 24 24\"\n",
              "       width=\"24px\">\n",
              "    <path d=\"M0 0h24v24H0V0z\" fill=\"none\"/>\n",
              "    <path d=\"M18.56 5.44l.94 2.06.94-2.06 2.06-.94-2.06-.94-.94-2.06-.94 2.06-2.06.94zm-11 1L8.5 8.5l.94-2.06 2.06-.94-2.06-.94L8.5 2.5l-.94 2.06-2.06.94zm10 10l.94 2.06.94-2.06 2.06-.94-2.06-.94-.94-2.06-.94 2.06-2.06.94z\"/><path d=\"M17.41 7.96l-1.37-1.37c-.4-.4-.92-.59-1.43-.59-.52 0-1.04.2-1.43.59L10.3 9.45l-7.72 7.72c-.78.78-.78 2.05 0 2.83L4 21.41c.39.39.9.59 1.41.59.51 0 1.02-.2 1.41-.59l7.78-7.78 2.81-2.81c.8-.78.8-2.07 0-2.86zM5.41 20L4 18.59l7.72-7.72 1.47 1.35L5.41 20z\"/>\n",
              "  </svg>\n",
              "      </button>\n",
              "      \n",
              "  <style>\n",
              "    .colab-df-container {\n",
              "      display:flex;\n",
              "      flex-wrap:wrap;\n",
              "      gap: 12px;\n",
              "    }\n",
              "\n",
              "    .colab-df-convert {\n",
              "      background-color: #E8F0FE;\n",
              "      border: none;\n",
              "      border-radius: 50%;\n",
              "      cursor: pointer;\n",
              "      display: none;\n",
              "      fill: #1967D2;\n",
              "      height: 32px;\n",
              "      padding: 0 0 0 0;\n",
              "      width: 32px;\n",
              "    }\n",
              "\n",
              "    .colab-df-convert:hover {\n",
              "      background-color: #E2EBFA;\n",
              "      box-shadow: 0px 1px 2px rgba(60, 64, 67, 0.3), 0px 1px 3px 1px rgba(60, 64, 67, 0.15);\n",
              "      fill: #174EA6;\n",
              "    }\n",
              "\n",
              "    [theme=dark] .colab-df-convert {\n",
              "      background-color: #3B4455;\n",
              "      fill: #D2E3FC;\n",
              "    }\n",
              "\n",
              "    [theme=dark] .colab-df-convert:hover {\n",
              "      background-color: #434B5C;\n",
              "      box-shadow: 0px 1px 3px 1px rgba(0, 0, 0, 0.15);\n",
              "      filter: drop-shadow(0px 1px 2px rgba(0, 0, 0, 0.3));\n",
              "      fill: #FFFFFF;\n",
              "    }\n",
              "  </style>\n",
              "\n",
              "      <script>\n",
              "        const buttonEl =\n",
              "          document.querySelector('#df-409bf21b-fc72-4251-8cf8-1cf6af7f1cf8 button.colab-df-convert');\n",
              "        buttonEl.style.display =\n",
              "          google.colab.kernel.accessAllowed ? 'block' : 'none';\n",
              "\n",
              "        async function convertToInteractive(key) {\n",
              "          const element = document.querySelector('#df-409bf21b-fc72-4251-8cf8-1cf6af7f1cf8');\n",
              "          const dataTable =\n",
              "            await google.colab.kernel.invokeFunction('convertToInteractive',\n",
              "                                                     [key], {});\n",
              "          if (!dataTable) return;\n",
              "\n",
              "          const docLinkHtml = 'Like what you see? Visit the ' +\n",
              "            '<a target=\"_blank\" href=https://colab.research.google.com/notebooks/data_table.ipynb>data table notebook</a>'\n",
              "            + ' to learn more about interactive tables.';\n",
              "          element.innerHTML = '';\n",
              "          dataTable['output_type'] = 'display_data';\n",
              "          await google.colab.output.renderOutput(dataTable, element);\n",
              "          const docLink = document.createElement('div');\n",
              "          docLink.innerHTML = docLinkHtml;\n",
              "          element.appendChild(docLink);\n",
              "        }\n",
              "      </script>\n",
              "    </div>\n",
              "  </div>\n",
              "  "
            ]
          },
          "metadata": {},
          "execution_count": 261
        }
      ]
    },
    {
      "cell_type": "code",
      "source": [
        "statistic, pvalue, dof, expected = stats.chi2_contingency(tbl)\n",
        "print('Nilai P-Value =', pvalue)"
      ],
      "metadata": {
        "colab": {
          "base_uri": "https://localhost:8080/"
        },
        "id": "_ftknVL9Zbpz",
        "outputId": "509b8810-9f50-472a-808e-f4a8c8e22b75"
      },
      "execution_count": 262,
      "outputs": [
        {
          "output_type": "stream",
          "name": "stdout",
          "text": [
            "Nilai P-Value = 0.0\n"
          ]
        }
      ]
    },
    {
      "cell_type": "markdown",
      "source": [
        "Dapat kita lihat bahwa p-valuenya 0. Kesimpulannya, tingkat pembatalan berbeda-beda tiap market segment."
      ],
      "metadata": {
        "id": "ugV1Y6oQZlRW"
      }
    },
    {
      "cell_type": "markdown",
      "source": [
        "## Previous Cancellation"
      ],
      "metadata": {
        "id": "DRw1wuwPKbAP"
      }
    },
    {
      "cell_type": "code",
      "source": [
        "sns.distplot(df_clean_grouped['previous_cancellations'])\n",
        "plt.show()"
      ],
      "metadata": {
        "colab": {
          "base_uri": "https://localhost:8080/",
          "height": 0
        },
        "id": "EntPNNRsiphb",
        "outputId": "4aacaa2b-a887-41f5-f48e-c0ce5e4a0631"
      },
      "execution_count": 263,
      "outputs": [
        {
          "output_type": "display_data",
          "data": {
            "text/plain": [
              "<Figure size 504x504 with 1 Axes>"
            ],
            "image/png": "[encoded data removed]"
          },
          "metadata": {
            "needs_background": "light"
          }
        }
      ]
    },
    {
      "cell_type": "markdown",
      "source": [
        "Dapat kita lihat bahwa sebagian besar pengunjung tidak memiliki pembatalan sebelumnya. Ini dapat disebabkan karena mayoritas pengunjung adalah pengunjung baru."
      ],
      "metadata": {
        "id": "fj7zDU9KiuVp"
      }
    },
    {
      "cell_type": "markdown",
      "source": [
        "### Tes Statistik"
      ],
      "metadata": {
        "id": "ptgqiPBCim6j"
      }
    },
    {
      "cell_type": "markdown",
      "source": [
        "h0: Jumlah rata-rata pembatalan sebelumnya sama antara pemesanan yang dibatalkan dan tidak dibatalkan\n",
        "\n",
        "\n",
        "h1: Jumlah rata-rata pembatalan sebelumnya tidak sama antara pemesanan yang dibatalkan dan tidak dibatalkan"
      ],
      "metadata": {
        "id": "F2G6zYgBbGfv"
      }
    },
    {
      "cell_type": "code",
      "source": [
        "# Untuk pengujian ini kita akan menggunakan uji-t independen 2 sampel\n",
        "# Untuk ini kami perlu membuat 2 sampel berbeda, satu untuk booking yang dibatalkan dan satu lagi untuk booking yang tidak dibatalkan\n",
        "cancelled_sample = df_clean_grouped.loc[df_clean_grouped['is_canceled']==1, 'previous_cancellations']\n",
        "non_cancelled_sample = df_clean_grouped.loc[df_clean_grouped['is_canceled']==0, 'previous_cancellations']"
      ],
      "metadata": {
        "id": "-rX7nrSsbpk3"
      },
      "execution_count": 264,
      "outputs": []
    },
    {
      "cell_type": "code",
      "source": [
        "print('Nilai P-Value =',stats.ttest_ind(cancelled_sample,non_cancelled_sample)[1])"
      ],
      "metadata": {
        "colab": {
          "base_uri": "https://localhost:8080/"
        },
        "id": "bJA88MvIbuEx",
        "outputId": "8cc1fea5-6c91-4188-92f4-71b447f35567"
      },
      "execution_count": 265,
      "outputs": [
        {
          "output_type": "stream",
          "name": "stdout",
          "text": [
            "Nilai P-Value = 1.0544467056780734e-219\n"
          ]
        }
      ]
    },
    {
      "cell_type": "markdown",
      "source": [
        "Dapat kita lihat bahwa p-value yang kita dapat sangat kecil. Oleh karena itu, kita tolak h0. Kesimpulannya, jumlah rata-rata pembatalan sebelumnya tidak sama di seluruh booking yang dibatalkan dan yang tidak dibatalkan."
      ],
      "metadata": {
        "id": "Re1OWmcoaHrZ"
      }
    },
    {
      "cell_type": "markdown",
      "source": [
        "## Booking Changes"
      ],
      "metadata": {
        "id": "4V5wsfGuKa3H"
      }
    },
    {
      "cell_type": "code",
      "source": [
        "sns.countplot(x='booking_changes',data=df_clean_grouped)\n",
        "plt.show()"
      ],
      "metadata": {
        "colab": {
          "base_uri": "https://localhost:8080/",
          "height": 0
        },
        "id": "1TEaPHeljZw-",
        "outputId": "92ca71fe-49b0-4b77-95f5-35dfbcf70d94"
      },
      "execution_count": 266,
      "outputs": [
        {
          "output_type": "display_data",
          "data": {
            "text/plain": [
              "<Figure size 504x504 with 1 Axes>"
            ],
            "image/png": "[encoded data removed]"
          },
          "metadata": {
            "needs_background": "light"
          }
        }
      ]
    },
    {
      "cell_type": "markdown",
      "source": [
        "Dapat kita lihat bahwa sebagian besar pengunjugan tidak melakukan perubahan apa pun pada booking mereka."
      ],
      "metadata": {
        "id": "ym-WZf-4jfgl"
      }
    },
    {
      "cell_type": "code",
      "source": [
        "sns.boxplot(x='is_canceled',y='booking_changes',data=df_clean_grouped)\n",
        "plt.show()"
      ],
      "metadata": {
        "colab": {
          "base_uri": "https://localhost:8080/",
          "height": 0
        },
        "id": "iJdyDlTMjgln",
        "outputId": "55884577-3bcd-468d-87b3-533c22a32161"
      },
      "execution_count": 267,
      "outputs": [
        {
          "output_type": "display_data",
          "data": {
            "text/plain": [
              "<Figure size 504x504 with 1 Axes>"
            ],
            "image/png": "[encoded data removed]"
          },
          "metadata": {
            "needs_background": "light"
          }
        }
      ]
    },
    {
      "cell_type": "markdown",
      "source": [
        "Kita lihat bahwa booking yang tidak dibatalkan memiliki jumlah perubahan yang lebih tinggi."
      ],
      "metadata": {
        "id": "9I1z9gQHji1U"
      }
    },
    {
      "cell_type": "markdown",
      "source": [
        "### Tes Statistik"
      ],
      "metadata": {
        "id": "YMURYUQ6jYOD"
      }
    },
    {
      "cell_type": "markdown",
      "source": [
        "h0: Jumlah rata-rata perubahan pada booking yang dibatalkan dan tidak dibatalkan adalah sama.\n",
        "\n",
        "h1: Jumlah rata-rata perubahan pada booking yang dibatalkan dan yang tidak dibatalkan tidak sama"
      ],
      "metadata": {
        "id": "CY1QU_2ocybH"
      }
    },
    {
      "cell_type": "code",
      "source": [
        "# Untuk pengujian ini kita akan menggunakan uji t 2 sampel independen\n",
        "# Untuk ini kita perlu membuat dua sampel, satu untuk dibatalkan dan yang lainnya untuk tidak dibatalkan\n",
        "cancelled_samp=df_clean_grouped.loc[df_clean_grouped['is_canceled']==1,'booking_changes']\n",
        "non_cancelled_samp=df_clean_grouped.loc[df_clean_grouped['is_canceled']==0,'booking_changes']\n",
        "print('Nilai P-Value =',stats.ttest_ind(cancelled_samp,non_cancelled_samp)[1])"
      ],
      "metadata": {
        "colab": {
          "base_uri": "https://localhost:8080/"
        },
        "id": "-PIDSUFQcy40",
        "outputId": "cc4687a9-e3d4-4433-9b67-26b7f1cd97e4"
      },
      "execution_count": 268,
      "outputs": [
        {
          "output_type": "stream",
          "name": "stdout",
          "text": [
            "Nilai P-Value = 0.0\n"
          ]
        }
      ]
    },
    {
      "cell_type": "markdown",
      "source": [
        "Dapat kita lihat nilai p-value yang kita dapat sangat kecil. Oleh karena itu kita harus menolak hipotesis nol kita. Kesimpulannya, rata-rata jumlah perubahan pemesanan pada pemesanan yang dibatalkan dan yang tidak dibatalkan tidak sama."
      ],
      "metadata": {
        "id": "bY8ou8jhc2OU"
      }
    },
    {
      "cell_type": "markdown",
      "source": [
        "## Deposit Type"
      ],
      "metadata": {
        "id": "HayjukCQKat3"
      }
    },
    {
      "cell_type": "code",
      "source": [
        "sns.countplot(x='deposit_type',data=df_clean_grouped)\n",
        "plt.show()"
      ],
      "metadata": {
        "colab": {
          "base_uri": "https://localhost:8080/",
          "height": 0
        },
        "id": "qm1HmjspklXu",
        "outputId": "e3aad64e-e55d-4b9f-b5be-cc7490bce78a"
      },
      "execution_count": 269,
      "outputs": [
        {
          "output_type": "display_data",
          "data": {
            "text/plain": [
              "<Figure size 504x504 with 1 Axes>"
            ],
            "image/png": "[encoded data removed]"
          },
          "metadata": {
            "needs_background": "light"
          }
        }
      ]
    },
    {
      "cell_type": "markdown",
      "source": [
        "Kita dapat melihat bahwa sebagian besar bookng dilakukan tanpa deposit, sangat sedikit booking yang dapat direfund dan tidak dapat direfund."
      ],
      "metadata": {
        "id": "cxYPbvktko3H"
      }
    },
    {
      "cell_type": "code",
      "source": [
        "tbl=pd.crosstab(df_clean_grouped['deposit_type'],df_clean_grouped['is_canceled'],margins=True)\n",
        "tbl"
      ],
      "metadata": {
        "colab": {
          "base_uri": "https://localhost:8080/",
          "height": 0
        },
        "id": "XF-jh3hhkp-3",
        "outputId": "e080d04e-5b18-4a09-ee94-cb58cfc874d4"
      },
      "execution_count": 270,
      "outputs": [
        {
          "output_type": "execute_result",
          "data": {
            "text/plain": [
              "is_canceled       0      1    All\n",
              "deposit_type                     \n",
              "No Deposit    52340  20672  73012\n",
              "Non Refund       63  10037  10100\n",
              "Refundable       87     23    110\n",
              "All           52490  30732  83222"
            ],
            "text/html": [
              "\n",
              "  <div id=\"df-ed3a925c-392c-4b49-8d67-9f8f45161dc2\">\n",
              "    <div class=\"colab-df-container\">\n",
              "      <div>\n",
              "<style scoped>\n",
              "    .dataframe tbody tr th:only-of-type {\n",
              "        vertical-align: middle;\n",
              "    }\n",
              "\n",
              "    .dataframe tbody tr th {\n",
              "        vertical-align: top;\n",
              "    }\n",
              "\n",
              "    .dataframe thead th {\n",
              "        text-align: right;\n",
              "    }\n",
              "</style>\n",
              "<table border=\"1\" class=\"dataframe\">\n",
              "  <thead>\n",
              "    <tr style=\"text-align: right;\">\n",
              "      <th>is_canceled</th>\n",
              "      <th>0</th>\n",
              "      <th>1</th>\n",
              "      <th>All</th>\n",
              "    </tr>\n",
              "    <tr>\n",
              "      <th>deposit_type</th>\n",
              "      <th></th>\n",
              "      <th></th>\n",
              "      <th></th>\n",
              "    </tr>\n",
              "  </thead>\n",
              "  <tbody>\n",
              "    <tr>\n",
              "      <th>No Deposit</th>\n",
              "      <td>52340</td>\n",
              "      <td>20672</td>\n",
              "      <td>73012</td>\n",
              "    </tr>\n",
              "    <tr>\n",
              "      <th>Non Refund</th>\n",
              "      <td>63</td>\n",
              "      <td>10037</td>\n",
              "      <td>10100</td>\n",
              "    </tr>\n",
              "    <tr>\n",
              "      <th>Refundable</th>\n",
              "      <td>87</td>\n",
              "      <td>23</td>\n",
              "      <td>110</td>\n",
              "    </tr>\n",
              "    <tr>\n",
              "      <th>All</th>\n",
              "      <td>52490</td>\n",
              "      <td>30732</td>\n",
              "      <td>83222</td>\n",
              "    </tr>\n",
              "  </tbody>\n",
              "</table>\n",
              "</div>\n",
              "      <button class=\"colab-df-convert\" onclick=\"convertToInteractive('df-ed3a925c-392c-4b49-8d67-9f8f45161dc2')\"\n",
              "              title=\"Convert this dataframe to an interactive table.\"\n",
              "              style=\"display:none;\">\n",
              "        \n",
              "  <svg xmlns=\"http://www.w3.org/2000/svg\" height=\"24px\"viewBox=\"0 0 24 24\"\n",
              "       width=\"24px\">\n",
              "    <path d=\"M0 0h24v24H0V0z\" fill=\"none\"/>\n",
              "    <path d=\"M18.56 5.44l.94 2.06.94-2.06 2.06-.94-2.06-.94-.94-2.06-.94 2.06-2.06.94zm-11 1L8.5 8.5l.94-2.06 2.06-.94-2.06-.94L8.5 2.5l-.94 2.06-2.06.94zm10 10l.94 2.06.94-2.06 2.06-.94-2.06-.94-.94-2.06-.94 2.06-2.06.94z\"/><path d=\"M17.41 7.96l-1.37-1.37c-.4-.4-.92-.59-1.43-.59-.52 0-1.04.2-1.43.59L10.3 9.45l-7.72 7.72c-.78.78-.78 2.05 0 2.83L4 21.41c.39.39.9.59 1.41.59.51 0 1.02-.2 1.41-.59l7.78-7.78 2.81-2.81c.8-.78.8-2.07 0-2.86zM5.41 20L4 18.59l7.72-7.72 1.47 1.35L5.41 20z\"/>\n",
              "  </svg>\n",
              "      </button>\n",
              "      \n",
              "  <style>\n",
              "    .colab-df-container {\n",
              "      display:flex;\n",
              "      flex-wrap:wrap;\n",
              "      gap: 12px;\n",
              "    }\n",
              "\n",
              "    .colab-df-convert {\n",
              "      background-color: #E8F0FE;\n",
              "      border: none;\n",
              "      border-radius: 50%;\n",
              "      cursor: pointer;\n",
              "      display: none;\n",
              "      fill: #1967D2;\n",
              "      height: 32px;\n",
              "      padding: 0 0 0 0;\n",
              "      width: 32px;\n",
              "    }\n",
              "\n",
              "    .colab-df-convert:hover {\n",
              "      background-color: #E2EBFA;\n",
              "      box-shadow: 0px 1px 2px rgba(60, 64, 67, 0.3), 0px 1px 3px 1px rgba(60, 64, 67, 0.15);\n",
              "      fill: #174EA6;\n",
              "    }\n",
              "\n",
              "    [theme=dark] .colab-df-convert {\n",
              "      background-color: #3B4455;\n",
              "      fill: #D2E3FC;\n",
              "    }\n",
              "\n",
              "    [theme=dark] .colab-df-convert:hover {\n",
              "      background-color: #434B5C;\n",
              "      box-shadow: 0px 1px 3px 1px rgba(0, 0, 0, 0.15);\n",
              "      filter: drop-shadow(0px 1px 2px rgba(0, 0, 0, 0.3));\n",
              "      fill: #FFFFFF;\n",
              "    }\n",
              "  </style>\n",
              "\n",
              "      <script>\n",
              "        const buttonEl =\n",
              "          document.querySelector('#df-ed3a925c-392c-4b49-8d67-9f8f45161dc2 button.colab-df-convert');\n",
              "        buttonEl.style.display =\n",
              "          google.colab.kernel.accessAllowed ? 'block' : 'none';\n",
              "\n",
              "        async function convertToInteractive(key) {\n",
              "          const element = document.querySelector('#df-ed3a925c-392c-4b49-8d67-9f8f45161dc2');\n",
              "          const dataTable =\n",
              "            await google.colab.kernel.invokeFunction('convertToInteractive',\n",
              "                                                     [key], {});\n",
              "          if (!dataTable) return;\n",
              "\n",
              "          const docLinkHtml = 'Like what you see? Visit the ' +\n",
              "            '<a target=\"_blank\" href=https://colab.research.google.com/notebooks/data_table.ipynb>data table notebook</a>'\n",
              "            + ' to learn more about interactive tables.';\n",
              "          element.innerHTML = '';\n",
              "          dataTable['output_type'] = 'display_data';\n",
              "          await google.colab.output.renderOutput(dataTable, element);\n",
              "          const docLink = document.createElement('div');\n",
              "          docLink.innerHTML = docLinkHtml;\n",
              "          element.appendChild(docLink);\n",
              "        }\n",
              "      </script>\n",
              "    </div>\n",
              "  </div>\n",
              "  "
            ]
          },
          "metadata": {},
          "execution_count": 270
        }
      ]
    },
    {
      "cell_type": "code",
      "source": [
        "tbl['cancel_percent']=tbl[1]*100/tbl['All']"
      ],
      "metadata": {
        "id": "fm4KsunxkrAu"
      },
      "execution_count": 271,
      "outputs": []
    },
    {
      "cell_type": "code",
      "source": [
        "tbl.drop('All',axis=0)['cancel_percent'].plot.bar()\n",
        "plt.xticks(rotation=60,ha='right')\n",
        "plt.title('Tingkat pembatalan pada tiap tipe deposit')\n",
        "plt.show()"
      ],
      "metadata": {
        "colab": {
          "base_uri": "https://localhost:8080/",
          "height": 0
        },
        "id": "yQKv_QXEkr-C",
        "outputId": "728c2168-0181-4087-ee88-e9fae1c3ddec"
      },
      "execution_count": 272,
      "outputs": [
        {
          "output_type": "display_data",
          "data": {
            "text/plain": [
              "<Figure size 504x504 with 1 Axes>"
            ],
            "image/png": "[encoded data removed]"
          },
          "metadata": {
            "needs_background": "light"
          }
        }
      ]
    },
    {
      "cell_type": "markdown",
      "source": [
        "Dari analisis kolom di atas kami menyimpulkan bahwa, tidak masuk akal ada persentase pembatalan yang sangat besar pada booking yang tidak dapat di refund."
      ],
      "metadata": {
        "id": "hgIgDWwmkwAU"
      }
    },
    {
      "cell_type": "markdown",
      "source": [
        "### Tes Statistik"
      ],
      "metadata": {
        "id": "jkxvPqKukjbs"
      }
    },
    {
      "cell_type": "markdown",
      "source": [
        "h0: Tingkat pembatalan di semua jenis deposit adalah sama.\n",
        "\n",
        "h1: tingkat pembatalan di semua jenis deposit tidak sama."
      ],
      "metadata": {
        "id": "6qz3Ys7DdHe9"
      }
    },
    {
      "cell_type": "code",
      "source": [
        "# Untuk tes ini kita akan menggunakan tes chi2_contingency \n",
        "tbl=pd.crosstab(df_clean_grouped['deposit_type'],df['is_canceled']) \n",
        "tbl"
      ],
      "metadata": {
        "colab": {
          "base_uri": "https://localhost:8080/",
          "height": 0
        },
        "id": "TYo3pZ3SdJGW",
        "outputId": "f093ba03-4b6f-4243-b8af-9d50646ba91c"
      },
      "execution_count": 273,
      "outputs": [
        {
          "output_type": "execute_result",
          "data": {
            "text/plain": [
              "is_canceled       0      1\n",
              "deposit_type              \n",
              "No Deposit    52340  20672\n",
              "Non Refund       63  10037\n",
              "Refundable       87     23"
            ],
            "text/html": [
              "\n",
              "  <div id=\"df-887886cb-1c65-43ce-8071-5e9b3fbc449e\">\n",
              "    <div class=\"colab-df-container\">\n",
              "      <div>\n",
              "<style scoped>\n",
              "    .dataframe tbody tr th:only-of-type {\n",
              "        vertical-align: middle;\n",
              "    }\n",
              "\n",
              "    .dataframe tbody tr th {\n",
              "        vertical-align: top;\n",
              "    }\n",
              "\n",
              "    .dataframe thead th {\n",
              "        text-align: right;\n",
              "    }\n",
              "</style>\n",
              "<table border=\"1\" class=\"dataframe\">\n",
              "  <thead>\n",
              "    <tr style=\"text-align: right;\">\n",
              "      <th>is_canceled</th>\n",
              "      <th>0</th>\n",
              "      <th>1</th>\n",
              "    </tr>\n",
              "    <tr>\n",
              "      <th>deposit_type</th>\n",
              "      <th></th>\n",
              "      <th></th>\n",
              "    </tr>\n",
              "  </thead>\n",
              "  <tbody>\n",
              "    <tr>\n",
              "      <th>No Deposit</th>\n",
              "      <td>52340</td>\n",
              "      <td>20672</td>\n",
              "    </tr>\n",
              "    <tr>\n",
              "      <th>Non Refund</th>\n",
              "      <td>63</td>\n",
              "      <td>10037</td>\n",
              "    </tr>\n",
              "    <tr>\n",
              "      <th>Refundable</th>\n",
              "      <td>87</td>\n",
              "      <td>23</td>\n",
              "    </tr>\n",
              "  </tbody>\n",
              "</table>\n",
              "</div>\n",
              "      <button class=\"colab-df-convert\" onclick=\"convertToInteractive('df-887886cb-1c65-43ce-8071-5e9b3fbc449e')\"\n",
              "              title=\"Convert this dataframe to an interactive table.\"\n",
              "              style=\"display:none;\">\n",
              "        \n",
              "  <svg xmlns=\"http://www.w3.org/2000/svg\" height=\"24px\"viewBox=\"0 0 24 24\"\n",
              "       width=\"24px\">\n",
              "    <path d=\"M0 0h24v24H0V0z\" fill=\"none\"/>\n",
              "    <path d=\"M18.56 5.44l.94 2.06.94-2.06 2.06-.94-2.06-.94-.94-2.06-.94 2.06-2.06.94zm-11 1L8.5 8.5l.94-2.06 2.06-.94-2.06-.94L8.5 2.5l-.94 2.06-2.06.94zm10 10l.94 2.06.94-2.06 2.06-.94-2.06-.94-.94-2.06-.94 2.06-2.06.94z\"/><path d=\"M17.41 7.96l-1.37-1.37c-.4-.4-.92-.59-1.43-.59-.52 0-1.04.2-1.43.59L10.3 9.45l-7.72 7.72c-.78.78-.78 2.05 0 2.83L4 21.41c.39.39.9.59 1.41.59.51 0 1.02-.2 1.41-.59l7.78-7.78 2.81-2.81c.8-.78.8-2.07 0-2.86zM5.41 20L4 18.59l7.72-7.72 1.47 1.35L5.41 20z\"/>\n",
              "  </svg>\n",
              "      </button>\n",
              "      \n",
              "  <style>\n",
              "    .colab-df-container {\n",
              "      display:flex;\n",
              "      flex-wrap:wrap;\n",
              "      gap: 12px;\n",
              "    }\n",
              "\n",
              "    .colab-df-convert {\n",
              "      background-color: #E8F0FE;\n",
              "      border: none;\n",
              "      border-radius: 50%;\n",
              "      cursor: pointer;\n",
              "      display: none;\n",
              "      fill: #1967D2;\n",
              "      height: 32px;\n",
              "      padding: 0 0 0 0;\n",
              "      width: 32px;\n",
              "    }\n",
              "\n",
              "    .colab-df-convert:hover {\n",
              "      background-color: #E2EBFA;\n",
              "      box-shadow: 0px 1px 2px rgba(60, 64, 67, 0.3), 0px 1px 3px 1px rgba(60, 64, 67, 0.15);\n",
              "      fill: #174EA6;\n",
              "    }\n",
              "\n",
              "    [theme=dark] .colab-df-convert {\n",
              "      background-color: #3B4455;\n",
              "      fill: #D2E3FC;\n",
              "    }\n",
              "\n",
              "    [theme=dark] .colab-df-convert:hover {\n",
              "      background-color: #434B5C;\n",
              "      box-shadow: 0px 1px 3px 1px rgba(0, 0, 0, 0.15);\n",
              "      filter: drop-shadow(0px 1px 2px rgba(0, 0, 0, 0.3));\n",
              "      fill: #FFFFFF;\n",
              "    }\n",
              "  </style>\n",
              "\n",
              "      <script>\n",
              "        const buttonEl =\n",
              "          document.querySelector('#df-887886cb-1c65-43ce-8071-5e9b3fbc449e button.colab-df-convert');\n",
              "        buttonEl.style.display =\n",
              "          google.colab.kernel.accessAllowed ? 'block' : 'none';\n",
              "\n",
              "        async function convertToInteractive(key) {\n",
              "          const element = document.querySelector('#df-887886cb-1c65-43ce-8071-5e9b3fbc449e');\n",
              "          const dataTable =\n",
              "            await google.colab.kernel.invokeFunction('convertToInteractive',\n",
              "                                                     [key], {});\n",
              "          if (!dataTable) return;\n",
              "\n",
              "          const docLinkHtml = 'Like what you see? Visit the ' +\n",
              "            '<a target=\"_blank\" href=https://colab.research.google.com/notebooks/data_table.ipynb>data table notebook</a>'\n",
              "            + ' to learn more about interactive tables.';\n",
              "          element.innerHTML = '';\n",
              "          dataTable['output_type'] = 'display_data';\n",
              "          await google.colab.output.renderOutput(dataTable, element);\n",
              "          const docLink = document.createElement('div');\n",
              "          docLink.innerHTML = docLinkHtml;\n",
              "          element.appendChild(docLink);\n",
              "        }\n",
              "      </script>\n",
              "    </div>\n",
              "  </div>\n",
              "  "
            ]
          },
          "metadata": {},
          "execution_count": 273
        }
      ]
    },
    {
      "cell_type": "code",
      "source": [
        "statistic,pvalue,dof,exp=stats.chi2_contingency(tbl)\n",
        "print('Nilai P-Value =',pvalue)"
      ],
      "metadata": {
        "colab": {
          "base_uri": "https://localhost:8080/"
        },
        "id": "nLeCtbmfdScg",
        "outputId": "996047d4-bef2-4759-98ae-28fa72646d28"
      },
      "execution_count": 274,
      "outputs": [
        {
          "output_type": "stream",
          "name": "stdout",
          "text": [
            "Nilai P-Value = 0.0\n"
          ]
        }
      ]
    },
    {
      "cell_type": "markdown",
      "source": [
        "Kami melihat bahwa nilai p untuk pengujian kami menjadi nol. Oleh karena itu kita harus menolak hipotesis nol kita. Kesimpulannya, tingkat pembatalan tidak sama di semua jenis deposit."
      ],
      "metadata": {
        "id": "Vns0ykAZdTOb"
      }
    },
    {
      "cell_type": "markdown",
      "source": [
        "## Days in Waiting List"
      ],
      "metadata": {
        "id": "TfiyI_rCKakX"
      }
    },
    {
      "cell_type": "markdown",
      "source": [
        "h0: Jumlah rata-rata hari dalam daftar tunggu adalah sama untuk booking yang dibatalkan dan tidak dibatalkan \n",
        "\n",
        "h1: Jumlah hari rata-rata dalam daftar tunggu tidak sama di seluruh booking yang dibatalkan dan yang tidak dibatalkan"
      ],
      "metadata": {
        "id": "cVLw4bfKecMY"
      }
    },
    {
      "cell_type": "code",
      "source": [
        "# Untuk pengujian ini kita akan menggunakan uji t 2 sampel independen\n",
        "# Untuk ini kita perlu membuat dua sampel, satu untuk dibatalkan dan yang lainnya untuk tidak dibatalkan\n",
        "cancelled_samp=df_clean_grouped.loc[df_clean_grouped['is_canceled']==1,'days_in_waiting_list']\n",
        "non_cancelled_samp=df_clean_grouped.loc[df_clean_grouped['is_canceled']==0,'days_in_waiting_list']\n",
        "print('Nilai P-Value =',stats.ttest_ind(cancelled_samp,non_cancelled_samp)[1])"
      ],
      "metadata": {
        "colab": {
          "base_uri": "https://localhost:8080/"
        },
        "id": "IHzy9A5gedzs",
        "outputId": "ff7c5390-a8c9-4144-d3b4-c079b274f248"
      },
      "execution_count": 275,
      "outputs": [
        {
          "output_type": "stream",
          "name": "stdout",
          "text": [
            "Nilai P-Value = 7.883101551226524e-59\n"
          ]
        }
      ]
    },
    {
      "cell_type": "markdown",
      "source": [
        "Dapat kita lihat bahwa nilai p-value yang kita peroleh sangat kecil, oleh karena itu kita dapat tolak h0. Dan memiliki kesimpulan bahwa jumlah hari dalam daftar tunggu tidak sama untuk booking yang dibatalkan dan tidak dibatalkan."
      ],
      "metadata": {
        "id": "Sc3cJ6tOeiOA"
      }
    },
    {
      "cell_type": "markdown",
      "source": [
        "## Customer Type"
      ],
      "metadata": {
        "id": "w_dwzj0HKaa_"
      }
    },
    {
      "cell_type": "code",
      "source": [
        "sns.countplot(x='customer_type',data=df_clean_grouped)\n",
        "plt.show()"
      ],
      "metadata": {
        "colab": {
          "base_uri": "https://localhost:8080/",
          "height": 0
        },
        "id": "A330BS9pdXrX",
        "outputId": "3b246cfc-7319-4e85-e9b7-1a49ad1fcf3e"
      },
      "execution_count": 276,
      "outputs": [
        {
          "output_type": "display_data",
          "data": {
            "text/plain": [
              "<Figure size 504x504 with 1 Axes>"
            ],
            "image/png": "[encoded data removed]"
          },
          "metadata": {
            "needs_background": "light"
          }
        }
      ]
    },
    {
      "cell_type": "markdown",
      "source": [
        "Sebagian besar booking berasal dari pelanggan sementara, artinya mereka menginap kurang dari 30 hari berturut-turut."
      ],
      "metadata": {
        "id": "fh_AxqI-dZ4V"
      }
    },
    {
      "cell_type": "markdown",
      "source": [
        "### Tes Statistik"
      ],
      "metadata": {
        "id": "wF5wJ_urnKpK"
      }
    },
    {
      "cell_type": "markdown",
      "source": [
        "h0: Tingkat pembatalan sama di semua jenis pelanggan \n",
        "\n",
        "h1: Tingkat pembatalan tidak sama di semua jenis pelanggan"
      ],
      "metadata": {
        "id": "7UV4CEZ0nO2C"
      }
    },
    {
      "cell_type": "code",
      "source": [
        "# Untuk tes ini kita akan menggunakan tes chi2_contingency \n",
        "# Untuk ini kita perlu membuat tab silang yang diperlukan \n",
        "tbl=pd.crosstab(df_clean_grouped['customer_type'],df_clean_grouped['is_canceled']) \n",
        "tbl"
      ],
      "metadata": {
        "colab": {
          "base_uri": "https://localhost:8080/",
          "height": 0
        },
        "id": "2p2i9cdFnMrS",
        "outputId": "bacd3cd7-6d5c-4998-cb60-bdc3dff20535"
      },
      "execution_count": 277,
      "outputs": [
        {
          "output_type": "execute_result",
          "data": {
            "text/plain": [
              "is_canceled          0      1\n",
              "customer_type                \n",
              "Contract          1997    885\n",
              "Group              379     40\n",
              "Transient        37083  25331\n",
              "Transient-Party  13031   4476"
            ],
            "text/html": [
              "\n",
              "  <div id=\"df-da8b727e-c3ba-4baa-b6f4-6508b20ce931\">\n",
              "    <div class=\"colab-df-container\">\n",
              "      <div>\n",
              "<style scoped>\n",
              "    .dataframe tbody tr th:only-of-type {\n",
              "        vertical-align: middle;\n",
              "    }\n",
              "\n",
              "    .dataframe tbody tr th {\n",
              "        vertical-align: top;\n",
              "    }\n",
              "\n",
              "    .dataframe thead th {\n",
              "        text-align: right;\n",
              "    }\n",
              "</style>\n",
              "<table border=\"1\" class=\"dataframe\">\n",
              "  <thead>\n",
              "    <tr style=\"text-align: right;\">\n",
              "      <th>is_canceled</th>\n",
              "      <th>0</th>\n",
              "      <th>1</th>\n",
              "    </tr>\n",
              "    <tr>\n",
              "      <th>customer_type</th>\n",
              "      <th></th>\n",
              "      <th></th>\n",
              "    </tr>\n",
              "  </thead>\n",
              "  <tbody>\n",
              "    <tr>\n",
              "      <th>Contract</th>\n",
              "      <td>1997</td>\n",
              "      <td>885</td>\n",
              "    </tr>\n",
              "    <tr>\n",
              "      <th>Group</th>\n",
              "      <td>379</td>\n",
              "      <td>40</td>\n",
              "    </tr>\n",
              "    <tr>\n",
              "      <th>Transient</th>\n",
              "      <td>37083</td>\n",
              "      <td>25331</td>\n",
              "    </tr>\n",
              "    <tr>\n",
              "      <th>Transient-Party</th>\n",
              "      <td>13031</td>\n",
              "      <td>4476</td>\n",
              "    </tr>\n",
              "  </tbody>\n",
              "</table>\n",
              "</div>\n",
              "      <button class=\"colab-df-convert\" onclick=\"convertToInteractive('df-da8b727e-c3ba-4baa-b6f4-6508b20ce931')\"\n",
              "              title=\"Convert this dataframe to an interactive table.\"\n",
              "              style=\"display:none;\">\n",
              "        \n",
              "  <svg xmlns=\"http://www.w3.org/2000/svg\" height=\"24px\"viewBox=\"0 0 24 24\"\n",
              "       width=\"24px\">\n",
              "    <path d=\"M0 0h24v24H0V0z\" fill=\"none\"/>\n",
              "    <path d=\"M18.56 5.44l.94 2.06.94-2.06 2.06-.94-2.06-.94-.94-2.06-.94 2.06-2.06.94zm-11 1L8.5 8.5l.94-2.06 2.06-.94-2.06-.94L8.5 2.5l-.94 2.06-2.06.94zm10 10l.94 2.06.94-2.06 2.06-.94-2.06-.94-.94-2.06-.94 2.06-2.06.94z\"/><path d=\"M17.41 7.96l-1.37-1.37c-.4-.4-.92-.59-1.43-.59-.52 0-1.04.2-1.43.59L10.3 9.45l-7.72 7.72c-.78.78-.78 2.05 0 2.83L4 21.41c.39.39.9.59 1.41.59.51 0 1.02-.2 1.41-.59l7.78-7.78 2.81-2.81c.8-.78.8-2.07 0-2.86zM5.41 20L4 18.59l7.72-7.72 1.47 1.35L5.41 20z\"/>\n",
              "  </svg>\n",
              "      </button>\n",
              "      \n",
              "  <style>\n",
              "    .colab-df-container {\n",
              "      display:flex;\n",
              "      flex-wrap:wrap;\n",
              "      gap: 12px;\n",
              "    }\n",
              "\n",
              "    .colab-df-convert {\n",
              "      background-color: #E8F0FE;\n",
              "      border: none;\n",
              "      border-radius: 50%;\n",
              "      cursor: pointer;\n",
              "      display: none;\n",
              "      fill: #1967D2;\n",
              "      height: 32px;\n",
              "      padding: 0 0 0 0;\n",
              "      width: 32px;\n",
              "    }\n",
              "\n",
              "    .colab-df-convert:hover {\n",
              "      background-color: #E2EBFA;\n",
              "      box-shadow: 0px 1px 2px rgba(60, 64, 67, 0.3), 0px 1px 3px 1px rgba(60, 64, 67, 0.15);\n",
              "      fill: #174EA6;\n",
              "    }\n",
              "\n",
              "    [theme=dark] .colab-df-convert {\n",
              "      background-color: #3B4455;\n",
              "      fill: #D2E3FC;\n",
              "    }\n",
              "\n",
              "    [theme=dark] .colab-df-convert:hover {\n",
              "      background-color: #434B5C;\n",
              "      box-shadow: 0px 1px 3px 1px rgba(0, 0, 0, 0.15);\n",
              "      filter: drop-shadow(0px 1px 2px rgba(0, 0, 0, 0.3));\n",
              "      fill: #FFFFFF;\n",
              "    }\n",
              "  </style>\n",
              "\n",
              "      <script>\n",
              "        const buttonEl =\n",
              "          document.querySelector('#df-da8b727e-c3ba-4baa-b6f4-6508b20ce931 button.colab-df-convert');\n",
              "        buttonEl.style.display =\n",
              "          google.colab.kernel.accessAllowed ? 'block' : 'none';\n",
              "\n",
              "        async function convertToInteractive(key) {\n",
              "          const element = document.querySelector('#df-da8b727e-c3ba-4baa-b6f4-6508b20ce931');\n",
              "          const dataTable =\n",
              "            await google.colab.kernel.invokeFunction('convertToInteractive',\n",
              "                                                     [key], {});\n",
              "          if (!dataTable) return;\n",
              "\n",
              "          const docLinkHtml = 'Like what you see? Visit the ' +\n",
              "            '<a target=\"_blank\" href=https://colab.research.google.com/notebooks/data_table.ipynb>data table notebook</a>'\n",
              "            + ' to learn more about interactive tables.';\n",
              "          element.innerHTML = '';\n",
              "          dataTable['output_type'] = 'display_data';\n",
              "          await google.colab.output.renderOutput(dataTable, element);\n",
              "          const docLink = document.createElement('div');\n",
              "          docLink.innerHTML = docLinkHtml;\n",
              "          element.appendChild(docLink);\n",
              "        }\n",
              "      </script>\n",
              "    </div>\n",
              "  </div>\n",
              "  "
            ]
          },
          "metadata": {},
          "execution_count": 277
        }
      ]
    },
    {
      "cell_type": "code",
      "source": [
        "statistic,pvalue,dof,exp=stats.chi2_contingency(tbl)\n",
        "print('Nilai P-Value =',pvalue)"
      ],
      "metadata": {
        "colab": {
          "base_uri": "https://localhost:8080/"
        },
        "id": "zezg24mqndji",
        "outputId": "95101896-ef5c-42e9-c45b-3eb13ffbf7eb"
      },
      "execution_count": 278,
      "outputs": [
        {
          "output_type": "stream",
          "name": "stdout",
          "text": [
            "Nilai P-Value = 0.0\n"
          ]
        }
      ]
    },
    {
      "cell_type": "markdown",
      "source": [
        "Kita lihat bahwa nilai p untuk tes yang diberikan sangat kecil. Oleh karena itu kita dapat menolak hipotesis nol kita. Kesimpulannya, tingkat pembatalan di semua jenis pengunjung tidak sama."
      ],
      "metadata": {
        "id": "fvyL3Un0nhzL"
      }
    },
    {
      "cell_type": "markdown",
      "source": [
        "## Reserved Room Type"
      ],
      "metadata": {
        "id": "Hy8H6R8mKaPh"
      }
    },
    {
      "cell_type": "code",
      "source": [
        "sns.countplot(x='reserved_room_type',data=df_clean_grouped)\n",
        "plt.show()"
      ],
      "metadata": {
        "colab": {
          "base_uri": "https://localhost:8080/",
          "height": 0
        },
        "id": "AhXCPh1pdcdM",
        "outputId": "70be052b-620e-4ecf-ac18-459259e733bd"
      },
      "execution_count": 279,
      "outputs": [
        {
          "output_type": "display_data",
          "data": {
            "text/plain": [
              "<Figure size 504x504 with 1 Axes>"
            ],
            "image/png": "[encoded data removed]"
          },
          "metadata": {
            "needs_background": "light"
          }
        }
      ]
    },
    {
      "cell_type": "markdown",
      "source": [
        "Kamar hotel tipe A sepertinya menjadi tipe kamar yang paling banyak dipesan. Kamar ini bisa menjadi tipe kamar paling ekonomis yang tersedia di hotel. Sedangkan kamar L dan P memiliki data yang sangat sedikit, dan bisa jadi kamar-kamar ini merupakan kamar mewah / suite."
      ],
      "metadata": {
        "id": "T1bKrBM5ddCM"
      }
    },
    {
      "cell_type": "code",
      "source": [
        "tbl=pd.crosstab(df_clean_grouped['reserved_room_type'],df_clean_grouped['is_canceled'],margins=True)\n",
        "tbl"
      ],
      "metadata": {
        "colab": {
          "base_uri": "https://localhost:8080/",
          "height": 0
        },
        "id": "TVHqOvgcdmUW",
        "outputId": "52fefe07-3271-478c-cc35-6214a51aad28"
      },
      "execution_count": 280,
      "outputs": [
        {
          "output_type": "execute_result",
          "data": {
            "text/plain": [
              "is_canceled             0      1    All\n",
              "reserved_room_type                     \n",
              "A                   36405  23356  59761\n",
              "B                     532    255    787\n",
              "C                     459    213    672\n",
              "D                    9237   4268  13505\n",
              "E                    3272   1349   4621\n",
              "F                    1426    606   2032\n",
              "G                     919    519   1438\n",
              "H                     238    163    401\n",
              "L                       2      1      3\n",
              "P                       0      2      2\n",
              "All                 52490  30732  83222"
            ],
            "text/html": [
              "\n",
              "  <div id=\"df-4b251f19-1b95-48f9-ad4c-40cbb4520d76\">\n",
              "    <div class=\"colab-df-container\">\n",
              "      <div>\n",
              "<style scoped>\n",
              "    .dataframe tbody tr th:only-of-type {\n",
              "        vertical-align: middle;\n",
              "    }\n",
              "\n",
              "    .dataframe tbody tr th {\n",
              "        vertical-align: top;\n",
              "    }\n",
              "\n",
              "    .dataframe thead th {\n",
              "        text-align: right;\n",
              "    }\n",
              "</style>\n",
              "<table border=\"1\" class=\"dataframe\">\n",
              "  <thead>\n",
              "    <tr style=\"text-align: right;\">\n",
              "      <th>is_canceled</th>\n",
              "      <th>0</th>\n",
              "      <th>1</th>\n",
              "      <th>All</th>\n",
              "    </tr>\n",
              "    <tr>\n",
              "      <th>reserved_room_type</th>\n",
              "      <th></th>\n",
              "      <th></th>\n",
              "      <th></th>\n",
              "    </tr>\n",
              "  </thead>\n",
              "  <tbody>\n",
              "    <tr>\n",
              "      <th>A</th>\n",
              "      <td>36405</td>\n",
              "      <td>23356</td>\n",
              "      <td>59761</td>\n",
              "    </tr>\n",
              "    <tr>\n",
              "      <th>B</th>\n",
              "      <td>532</td>\n",
              "      <td>255</td>\n",
              "      <td>787</td>\n",
              "    </tr>\n",
              "    <tr>\n",
              "      <th>C</th>\n",
              "      <td>459</td>\n",
              "      <td>213</td>\n",
              "      <td>672</td>\n",
              "    </tr>\n",
              "    <tr>\n",
              "      <th>D</th>\n",
              "      <td>9237</td>\n",
              "      <td>4268</td>\n",
              "      <td>13505</td>\n",
              "    </tr>\n",
              "    <tr>\n",
              "      <th>E</th>\n",
              "      <td>3272</td>\n",
              "      <td>1349</td>\n",
              "      <td>4621</td>\n",
              "    </tr>\n",
              "    <tr>\n",
              "      <th>F</th>\n",
              "      <td>1426</td>\n",
              "      <td>606</td>\n",
              "      <td>2032</td>\n",
              "    </tr>\n",
              "    <tr>\n",
              "      <th>G</th>\n",
              "      <td>919</td>\n",
              "      <td>519</td>\n",
              "      <td>1438</td>\n",
              "    </tr>\n",
              "    <tr>\n",
              "      <th>H</th>\n",
              "      <td>238</td>\n",
              "      <td>163</td>\n",
              "      <td>401</td>\n",
              "    </tr>\n",
              "    <tr>\n",
              "      <th>L</th>\n",
              "      <td>2</td>\n",
              "      <td>1</td>\n",
              "      <td>3</td>\n",
              "    </tr>\n",
              "    <tr>\n",
              "      <th>P</th>\n",
              "      <td>0</td>\n",
              "      <td>2</td>\n",
              "      <td>2</td>\n",
              "    </tr>\n",
              "    <tr>\n",
              "      <th>All</th>\n",
              "      <td>52490</td>\n",
              "      <td>30732</td>\n",
              "      <td>83222</td>\n",
              "    </tr>\n",
              "  </tbody>\n",
              "</table>\n",
              "</div>\n",
              "      <button class=\"colab-df-convert\" onclick=\"convertToInteractive('df-4b251f19-1b95-48f9-ad4c-40cbb4520d76')\"\n",
              "              title=\"Convert this dataframe to an interactive table.\"\n",
              "              style=\"display:none;\">\n",
              "        \n",
              "  <svg xmlns=\"http://www.w3.org/2000/svg\" height=\"24px\"viewBox=\"0 0 24 24\"\n",
              "       width=\"24px\">\n",
              "    <path d=\"M0 0h24v24H0V0z\" fill=\"none\"/>\n",
              "    <path d=\"M18.56 5.44l.94 2.06.94-2.06 2.06-.94-2.06-.94-.94-2.06-.94 2.06-2.06.94zm-11 1L8.5 8.5l.94-2.06 2.06-.94-2.06-.94L8.5 2.5l-.94 2.06-2.06.94zm10 10l.94 2.06.94-2.06 2.06-.94-2.06-.94-.94-2.06-.94 2.06-2.06.94z\"/><path d=\"M17.41 7.96l-1.37-1.37c-.4-.4-.92-.59-1.43-.59-.52 0-1.04.2-1.43.59L10.3 9.45l-7.72 7.72c-.78.78-.78 2.05 0 2.83L4 21.41c.39.39.9.59 1.41.59.51 0 1.02-.2 1.41-.59l7.78-7.78 2.81-2.81c.8-.78.8-2.07 0-2.86zM5.41 20L4 18.59l7.72-7.72 1.47 1.35L5.41 20z\"/>\n",
              "  </svg>\n",
              "      </button>\n",
              "      \n",
              "  <style>\n",
              "    .colab-df-container {\n",
              "      display:flex;\n",
              "      flex-wrap:wrap;\n",
              "      gap: 12px;\n",
              "    }\n",
              "\n",
              "    .colab-df-convert {\n",
              "      background-color: #E8F0FE;\n",
              "      border: none;\n",
              "      border-radius: 50%;\n",
              "      cursor: pointer;\n",
              "      display: none;\n",
              "      fill: #1967D2;\n",
              "      height: 32px;\n",
              "      padding: 0 0 0 0;\n",
              "      width: 32px;\n",
              "    }\n",
              "\n",
              "    .colab-df-convert:hover {\n",
              "      background-color: #E2EBFA;\n",
              "      box-shadow: 0px 1px 2px rgba(60, 64, 67, 0.3), 0px 1px 3px 1px rgba(60, 64, 67, 0.15);\n",
              "      fill: #174EA6;\n",
              "    }\n",
              "\n",
              "    [theme=dark] .colab-df-convert {\n",
              "      background-color: #3B4455;\n",
              "      fill: #D2E3FC;\n",
              "    }\n",
              "\n",
              "    [theme=dark] .colab-df-convert:hover {\n",
              "      background-color: #434B5C;\n",
              "      box-shadow: 0px 1px 3px 1px rgba(0, 0, 0, 0.15);\n",
              "      filter: drop-shadow(0px 1px 2px rgba(0, 0, 0, 0.3));\n",
              "      fill: #FFFFFF;\n",
              "    }\n",
              "  </style>\n",
              "\n",
              "      <script>\n",
              "        const buttonEl =\n",
              "          document.querySelector('#df-4b251f19-1b95-48f9-ad4c-40cbb4520d76 button.colab-df-convert');\n",
              "        buttonEl.style.display =\n",
              "          google.colab.kernel.accessAllowed ? 'block' : 'none';\n",
              "\n",
              "        async function convertToInteractive(key) {\n",
              "          const element = document.querySelector('#df-4b251f19-1b95-48f9-ad4c-40cbb4520d76');\n",
              "          const dataTable =\n",
              "            await google.colab.kernel.invokeFunction('convertToInteractive',\n",
              "                                                     [key], {});\n",
              "          if (!dataTable) return;\n",
              "\n",
              "          const docLinkHtml = 'Like what you see? Visit the ' +\n",
              "            '<a target=\"_blank\" href=https://colab.research.google.com/notebooks/data_table.ipynb>data table notebook</a>'\n",
              "            + ' to learn more about interactive tables.';\n",
              "          element.innerHTML = '';\n",
              "          dataTable['output_type'] = 'display_data';\n",
              "          await google.colab.output.renderOutput(dataTable, element);\n",
              "          const docLink = document.createElement('div');\n",
              "          docLink.innerHTML = docLinkHtml;\n",
              "          element.appendChild(docLink);\n",
              "        }\n",
              "      </script>\n",
              "    </div>\n",
              "  </div>\n",
              "  "
            ]
          },
          "metadata": {},
          "execution_count": 280
        }
      ]
    },
    {
      "cell_type": "code",
      "source": [
        "tbl['cancel_percent']=tbl[1]*100/tbl['All']"
      ],
      "metadata": {
        "id": "jzCGvJKDdplW"
      },
      "execution_count": 281,
      "outputs": []
    },
    {
      "cell_type": "code",
      "source": [
        "tbl.drop('All',axis=0)['cancel_percent'].plot.bar()\n",
        "plt.show()"
      ],
      "metadata": {
        "colab": {
          "base_uri": "https://localhost:8080/",
          "height": 0
        },
        "id": "F-n5Vh6ndq9v",
        "outputId": "7b8b15ee-4c31-4c1e-92f7-de3f5b68f7ec"
      },
      "execution_count": 282,
      "outputs": [
        {
          "output_type": "display_data",
          "data": {
            "text/plain": [
              "<Figure size 504x504 with 1 Axes>"
            ],
            "image/png": "[encoded data removed]"
          },
          "metadata": {
            "needs_background": "light"
          }
        }
      ]
    },
    {
      "cell_type": "markdown",
      "source": [
        "Kamar tipe P memiliki tingkat pembatalan tertinggi."
      ],
      "metadata": {
        "id": "D8Fu4edZduNJ"
      }
    },
    {
      "cell_type": "markdown",
      "source": [
        "## Required Car Parking Spaces"
      ],
      "metadata": {
        "id": "ylEJI87YKaF_"
      }
    },
    {
      "cell_type": "code",
      "source": [
        "sns.distplot(df_clean_grouped['required_car_parking_spaces'])\n",
        "plt.show()"
      ],
      "metadata": {
        "colab": {
          "base_uri": "https://localhost:8080/",
          "height": 0
        },
        "id": "HrlMnHfid2FN",
        "outputId": "9d8b3487-4cc9-43ff-94a2-a5796d36a1ac"
      },
      "execution_count": 283,
      "outputs": [
        {
          "output_type": "display_data",
          "data": {
            "text/plain": [
              "<Figure size 504x504 with 1 Axes>"
            ],
            "image/png": "[encoded data removed]"
          },
          "metadata": {
            "needs_background": "light"
          }
        }
      ]
    },
    {
      "cell_type": "markdown",
      "source": [
        "Sebagian besar pesanan tidak memerlukan atau paling banyak 1 tempat parkir mobil, meskipun ada catatan yang menunjukkan jumlah tempat parkir lebih banyak. Ini bisa berupa keluarga yang bepergian bersama dan perjalanan bisnis yang lebih besar."
      ],
      "metadata": {
        "id": "MBpNXUYsd3_V"
      }
    },
    {
      "cell_type": "code",
      "source": [
        "sns.boxplot(x='is_canceled',y='required_car_parking_spaces',data=df_clean_grouped)\n",
        "plt.show()"
      ],
      "metadata": {
        "colab": {
          "base_uri": "https://localhost:8080/",
          "height": 0
        },
        "id": "EESzukbrd6e3",
        "outputId": "e32f8bf2-0771-4e92-f04f-7b01fe40b84e"
      },
      "execution_count": 284,
      "outputs": [
        {
          "output_type": "display_data",
          "data": {
            "text/plain": [
              "<Figure size 504x504 with 1 Axes>"
            ],
            "image/png": "[encoded data removed]"
          },
          "metadata": {
            "needs_background": "light"
          }
        }
      ]
    },
    {
      "cell_type": "markdown",
      "source": [
        "Kami melihat bahwa booking yang tidak dibatalkan membutuhkan lebih banyak ruang parkir mobil dibandingkan dengan booking yang dibatalkan"
      ],
      "metadata": {
        "id": "8TNYi1dMd8xk"
      }
    },
    {
      "cell_type": "markdown",
      "source": [
        "### Tes Statistik"
      ],
      "metadata": {
        "id": "qyEhYIVfoz-a"
      }
    },
    {
      "cell_type": "markdown",
      "source": [
        "h0: Jumlah rata-rata ruang parkir mobil yang dibutuhkan sama untuk pemesanan yang dibatalkan dan yang tidak dibatalkan \n",
        "\n",
        "h1: Jumlah rata-rata ruang parkir mobil yang dibutuhkan tidak sama di seluruh pemesanan yang dibatalkan dan yang tidak dibatalkan"
      ],
      "metadata": {
        "id": "GSyMNaVVo4MI"
      }
    },
    {
      "cell_type": "code",
      "source": [
        "# Untuk pengujian ini kita akan menggunakan uji t 2 sampel independen\n",
        "# Untuk ini kita perlu membuat dua sampel, satu untuk dibatalkan dan yang lainnya untuk tidak dibatalkan\n",
        "cancelled_samp=df_clean_grouped.loc[df_clean_grouped['is_canceled']==1,'required_car_parking_spaces']\n",
        "non_cancelled_samp=df_clean_grouped.loc[df_clean_grouped['is_canceled']==0,'required_car_parking_spaces']\n",
        "print('Nilai P-Value =',stats.ttest_ind(cancelled_samp,non_cancelled_samp)[1])"
      ],
      "metadata": {
        "colab": {
          "base_uri": "https://localhost:8080/"
        },
        "id": "ny797Bloo_Iz",
        "outputId": "f682aa48-4630-4ba1-f6b1-6f7f1261bb28"
      },
      "execution_count": 285,
      "outputs": [
        {
          "output_type": "stream",
          "name": "stdout",
          "text": [
            "Nilai P-Value = 0.0\n"
          ]
        }
      ]
    },
    {
      "cell_type": "markdown",
      "source": [
        "Kita melihat bahwa nilai p untuk tes yang diberikan menjadi nol. Oleh karena itu kita harus menolak hipotesis nol kita. Kesimpulannya, rata-rata jumlah ruang parkir mobil yang dibutuhkan tidak sama antara pemesanan yang dibatalkan dan tidak dibatalkan"
      ],
      "metadata": {
        "id": "PD65pySMpNdE"
      }
    },
    {
      "cell_type": "markdown",
      "source": [
        "## Total of Special Requests"
      ],
      "metadata": {
        "id": "X4fnzhM3KZ4f"
      }
    },
    {
      "cell_type": "code",
      "source": [
        "sns.countplot(x='total_of_special_requests',data=df_clean_grouped)\n",
        "plt.show()"
      ],
      "metadata": {
        "colab": {
          "base_uri": "https://localhost:8080/",
          "height": 0
        },
        "id": "2gJFVuIHeAki",
        "outputId": "d3b21d38-7802-4237-95a3-26899fe6e78b"
      },
      "execution_count": 286,
      "outputs": [
        {
          "output_type": "display_data",
          "data": {
            "text/plain": [
              "<Figure size 504x504 with 1 Axes>"
            ],
            "image/png": "[encoded data removed]"
          },
          "metadata": {
            "needs_background": "light"
          }
        }
      ]
    },
    {
      "cell_type": "markdown",
      "source": [
        "Kita lihat bahwa sebagian besar orang tidak membuat permintaan khusus apa pun untuk pemesanan mereka. Biasanya, jika ada permintaan khusus yang dibuat, terbatas pada 1 atau 2 permintaan khusus."
      ],
      "metadata": {
        "id": "g9B1sl_BeCaz"
      }
    },
    {
      "cell_type": "code",
      "source": [
        "tbl=pd.crosstab(df_clean_grouped['total_of_special_requests'],df_clean_grouped['is_canceled'],margins=True)\n",
        "tbl"
      ],
      "metadata": {
        "colab": {
          "base_uri": "https://localhost:8080/",
          "height": 0
        },
        "id": "_LHKk9eKeDft",
        "outputId": "f2520d59-e5f3-4686-ab26-82f086bd31c8"
      },
      "execution_count": 287,
      "outputs": [
        {
          "output_type": "execute_result",
          "data": {
            "text/plain": [
              "is_canceled                    0      1    All\n",
              "total_of_special_requests                     \n",
              "0                          25620  23331  48951\n",
              "1                          18037   5104  23141\n",
              "2                           7126   1963   9089\n",
              "3                           1470    306   1776\n",
              "4                            207     28    235\n",
              "5                             30      0     30\n",
              "All                        52490  30732  83222"
            ],
            "text/html": [
              "\n",
              "  <div id=\"df-637cbfcf-472a-44b6-854c-0b2e63660ab1\">\n",
              "    <div class=\"colab-df-container\">\n",
              "      <div>\n",
              "<style scoped>\n",
              "    .dataframe tbody tr th:only-of-type {\n",
              "        vertical-align: middle;\n",
              "    }\n",
              "\n",
              "    .dataframe tbody tr th {\n",
              "        vertical-align: top;\n",
              "    }\n",
              "\n",
              "    .dataframe thead th {\n",
              "        text-align: right;\n",
              "    }\n",
              "</style>\n",
              "<table border=\"1\" class=\"dataframe\">\n",
              "  <thead>\n",
              "    <tr style=\"text-align: right;\">\n",
              "      <th>is_canceled</th>\n",
              "      <th>0</th>\n",
              "      <th>1</th>\n",
              "      <th>All</th>\n",
              "    </tr>\n",
              "    <tr>\n",
              "      <th>total_of_special_requests</th>\n",
              "      <th></th>\n",
              "      <th></th>\n",
              "      <th></th>\n",
              "    </tr>\n",
              "  </thead>\n",
              "  <tbody>\n",
              "    <tr>\n",
              "      <th>0</th>\n",
              "      <td>25620</td>\n",
              "      <td>23331</td>\n",
              "      <td>48951</td>\n",
              "    </tr>\n",
              "    <tr>\n",
              "      <th>1</th>\n",
              "      <td>18037</td>\n",
              "      <td>5104</td>\n",
              "      <td>23141</td>\n",
              "    </tr>\n",
              "    <tr>\n",
              "      <th>2</th>\n",
              "      <td>7126</td>\n",
              "      <td>1963</td>\n",
              "      <td>9089</td>\n",
              "    </tr>\n",
              "    <tr>\n",
              "      <th>3</th>\n",
              "      <td>1470</td>\n",
              "      <td>306</td>\n",
              "      <td>1776</td>\n",
              "    </tr>\n",
              "    <tr>\n",
              "      <th>4</th>\n",
              "      <td>207</td>\n",
              "      <td>28</td>\n",
              "      <td>235</td>\n",
              "    </tr>\n",
              "    <tr>\n",
              "      <th>5</th>\n",
              "      <td>30</td>\n",
              "      <td>0</td>\n",
              "      <td>30</td>\n",
              "    </tr>\n",
              "    <tr>\n",
              "      <th>All</th>\n",
              "      <td>52490</td>\n",
              "      <td>30732</td>\n",
              "      <td>83222</td>\n",
              "    </tr>\n",
              "  </tbody>\n",
              "</table>\n",
              "</div>\n",
              "      <button class=\"colab-df-convert\" onclick=\"convertToInteractive('df-637cbfcf-472a-44b6-854c-0b2e63660ab1')\"\n",
              "              title=\"Convert this dataframe to an interactive table.\"\n",
              "              style=\"display:none;\">\n",
              "        \n",
              "  <svg xmlns=\"http://www.w3.org/2000/svg\" height=\"24px\"viewBox=\"0 0 24 24\"\n",
              "       width=\"24px\">\n",
              "    <path d=\"M0 0h24v24H0V0z\" fill=\"none\"/>\n",
              "    <path d=\"M18.56 5.44l.94 2.06.94-2.06 2.06-.94-2.06-.94-.94-2.06-.94 2.06-2.06.94zm-11 1L8.5 8.5l.94-2.06 2.06-.94-2.06-.94L8.5 2.5l-.94 2.06-2.06.94zm10 10l.94 2.06.94-2.06 2.06-.94-2.06-.94-.94-2.06-.94 2.06-2.06.94z\"/><path d=\"M17.41 7.96l-1.37-1.37c-.4-.4-.92-.59-1.43-.59-.52 0-1.04.2-1.43.59L10.3 9.45l-7.72 7.72c-.78.78-.78 2.05 0 2.83L4 21.41c.39.39.9.59 1.41.59.51 0 1.02-.2 1.41-.59l7.78-7.78 2.81-2.81c.8-.78.8-2.07 0-2.86zM5.41 20L4 18.59l7.72-7.72 1.47 1.35L5.41 20z\"/>\n",
              "  </svg>\n",
              "      </button>\n",
              "      \n",
              "  <style>\n",
              "    .colab-df-container {\n",
              "      display:flex;\n",
              "      flex-wrap:wrap;\n",
              "      gap: 12px;\n",
              "    }\n",
              "\n",
              "    .colab-df-convert {\n",
              "      background-color: #E8F0FE;\n",
              "      border: none;\n",
              "      border-radius: 50%;\n",
              "      cursor: pointer;\n",
              "      display: none;\n",
              "      fill: #1967D2;\n",
              "      height: 32px;\n",
              "      padding: 0 0 0 0;\n",
              "      width: 32px;\n",
              "    }\n",
              "\n",
              "    .colab-df-convert:hover {\n",
              "      background-color: #E2EBFA;\n",
              "      box-shadow: 0px 1px 2px rgba(60, 64, 67, 0.3), 0px 1px 3px 1px rgba(60, 64, 67, 0.15);\n",
              "      fill: #174EA6;\n",
              "    }\n",
              "\n",
              "    [theme=dark] .colab-df-convert {\n",
              "      background-color: #3B4455;\n",
              "      fill: #D2E3FC;\n",
              "    }\n",
              "\n",
              "    [theme=dark] .colab-df-convert:hover {\n",
              "      background-color: #434B5C;\n",
              "      box-shadow: 0px 1px 3px 1px rgba(0, 0, 0, 0.15);\n",
              "      filter: drop-shadow(0px 1px 2px rgba(0, 0, 0, 0.3));\n",
              "      fill: #FFFFFF;\n",
              "    }\n",
              "  </style>\n",
              "\n",
              "      <script>\n",
              "        const buttonEl =\n",
              "          document.querySelector('#df-637cbfcf-472a-44b6-854c-0b2e63660ab1 button.colab-df-convert');\n",
              "        buttonEl.style.display =\n",
              "          google.colab.kernel.accessAllowed ? 'block' : 'none';\n",
              "\n",
              "        async function convertToInteractive(key) {\n",
              "          const element = document.querySelector('#df-637cbfcf-472a-44b6-854c-0b2e63660ab1');\n",
              "          const dataTable =\n",
              "            await google.colab.kernel.invokeFunction('convertToInteractive',\n",
              "                                                     [key], {});\n",
              "          if (!dataTable) return;\n",
              "\n",
              "          const docLinkHtml = 'Like what you see? Visit the ' +\n",
              "            '<a target=\"_blank\" href=https://colab.research.google.com/notebooks/data_table.ipynb>data table notebook</a>'\n",
              "            + ' to learn more about interactive tables.';\n",
              "          element.innerHTML = '';\n",
              "          dataTable['output_type'] = 'display_data';\n",
              "          await google.colab.output.renderOutput(dataTable, element);\n",
              "          const docLink = document.createElement('div');\n",
              "          docLink.innerHTML = docLinkHtml;\n",
              "          element.appendChild(docLink);\n",
              "        }\n",
              "      </script>\n",
              "    </div>\n",
              "  </div>\n",
              "  "
            ]
          },
          "metadata": {},
          "execution_count": 287
        }
      ]
    },
    {
      "cell_type": "code",
      "source": [
        "tbl['cancel_percent']=tbl[1]*100/tbl['All']"
      ],
      "metadata": {
        "id": "x_G8pJhmeEk6"
      },
      "execution_count": 288,
      "outputs": []
    },
    {
      "cell_type": "code",
      "source": [
        "tbl.drop('All',axis=0)['cancel_percent'].plot.bar()\n",
        "plt.xticks(rotation=0)\n",
        "plt.show()"
      ],
      "metadata": {
        "colab": {
          "base_uri": "https://localhost:8080/",
          "height": 0
        },
        "id": "TNrkfVaqeFjs",
        "outputId": "38c4f8a2-13dc-4cb6-ac91-85d49eb25635"
      },
      "execution_count": 289,
      "outputs": [
        {
          "output_type": "display_data",
          "data": {
            "text/plain": [
              "<Figure size 504x504 with 1 Axes>"
            ],
            "image/png": "[encoded data removed]"
          },
          "metadata": {
            "needs_background": "light"
          }
        }
      ]
    },
    {
      "cell_type": "markdown",
      "source": [
        "Dari atas kita melihat bahwa semakin banyak jumlah permintaan khusus yang dilakukan pengunjung, semakin kecil kemungkinan dia untuk membatalkan pemesanannya."
      ],
      "metadata": {
        "id": "blerrkRpeH3m"
      }
    },
    {
      "cell_type": "markdown",
      "source": [
        "# Data Preparation"
      ],
      "metadata": {
        "id": "kknjGbdBwG2q"
      }
    },
    {
      "cell_type": "code",
      "source": [
        "df_clean_grouped.head()"
      ],
      "metadata": {
        "colab": {
          "base_uri": "https://localhost:8080/",
          "height": 270
        },
        "id": "ts8ASDtBp_JD",
        "outputId": "df9d689b-0c0f-4e52-dc7d-c90c0e870d0a"
      },
      "execution_count": 290,
      "outputs": [
        {
          "output_type": "execute_result",
          "data": {
            "text/plain": [
              "  country market_segment  previous_cancellations  booking_changes  \\\n",
              "0  Europe  Offline TA/TO                       0                0   \n",
              "1  Europe      Online TA                       0                0   \n",
              "2  Europe      Online TA                       0                1   \n",
              "3  Europe      Online TA                       0                0   \n",
              "4  Europe      Online TA                       0                2   \n",
              "\n",
              "  deposit_type  days_in_waiting_list    customer_type reserved_room_type  \\\n",
              "0   No Deposit                     0  Transient-Party                  A   \n",
              "1   No Deposit                     0        Transient                  A   \n",
              "2   No Deposit                     0        Transient                  A   \n",
              "3   No Deposit                     0        Transient                  A   \n",
              "4   No Deposit                     0        Transient                  A   \n",
              "\n",
              "   required_car_parking_spaces  total_of_special_requests is_canceled  \n",
              "0                            0                          0           0  \n",
              "1                            0                          2           0  \n",
              "2                            0                          2           0  \n",
              "3                            0                          1           1  \n",
              "4                            0                          2           0  "
            ],
            "text/html": [
              "\n",
              "  <div id=\"df-018a185d-7ee6-4523-8f26-af3bfc0a3ea9\">\n",
              "    <div class=\"colab-df-container\">\n",
              "      <div>\n",
              "<style scoped>\n",
              "    .dataframe tbody tr th:only-of-type {\n",
              "        vertical-align: middle;\n",
              "    }\n",
              "\n",
              "    .dataframe tbody tr th {\n",
              "        vertical-align: top;\n",
              "    }\n",
              "\n",
              "    .dataframe thead th {\n",
              "        text-align: right;\n",
              "    }\n",
              "</style>\n",
              "<table border=\"1\" class=\"dataframe\">\n",
              "  <thead>\n",
              "    <tr style=\"text-align: right;\">\n",
              "      <th></th>\n",
              "      <th>country</th>\n",
              "      <th>market_segment</th>\n",
              "      <th>previous_cancellations</th>\n",
              "      <th>booking_changes</th>\n",
              "      <th>deposit_type</th>\n",
              "      <th>days_in_waiting_list</th>\n",
              "      <th>customer_type</th>\n",
              "      <th>reserved_room_type</th>\n",
              "      <th>required_car_parking_spaces</th>\n",
              "      <th>total_of_special_requests</th>\n",
              "      <th>is_canceled</th>\n",
              "    </tr>\n",
              "  </thead>\n",
              "  <tbody>\n",
              "    <tr>\n",
              "      <th>0</th>\n",
              "      <td>Europe</td>\n",
              "      <td>Offline TA/TO</td>\n",
              "      <td>0</td>\n",
              "      <td>0</td>\n",
              "      <td>No Deposit</td>\n",
              "      <td>0</td>\n",
              "      <td>Transient-Party</td>\n",
              "      <td>A</td>\n",
              "      <td>0</td>\n",
              "      <td>0</td>\n",
              "      <td>0</td>\n",
              "    </tr>\n",
              "    <tr>\n",
              "      <th>1</th>\n",
              "      <td>Europe</td>\n",
              "      <td>Online TA</td>\n",
              "      <td>0</td>\n",
              "      <td>0</td>\n",
              "      <td>No Deposit</td>\n",
              "      <td>0</td>\n",
              "      <td>Transient</td>\n",
              "      <td>A</td>\n",
              "      <td>0</td>\n",
              "      <td>2</td>\n",
              "      <td>0</td>\n",
              "    </tr>\n",
              "    <tr>\n",
              "      <th>2</th>\n",
              "      <td>Europe</td>\n",
              "      <td>Online TA</td>\n",
              "      <td>0</td>\n",
              "      <td>1</td>\n",
              "      <td>No Deposit</td>\n",
              "      <td>0</td>\n",
              "      <td>Transient</td>\n",
              "      <td>A</td>\n",
              "      <td>0</td>\n",
              "      <td>2</td>\n",
              "      <td>0</td>\n",
              "    </tr>\n",
              "    <tr>\n",
              "      <th>3</th>\n",
              "      <td>Europe</td>\n",
              "      <td>Online TA</td>\n",
              "      <td>0</td>\n",
              "      <td>0</td>\n",
              "      <td>No Deposit</td>\n",
              "      <td>0</td>\n",
              "      <td>Transient</td>\n",
              "      <td>A</td>\n",
              "      <td>0</td>\n",
              "      <td>1</td>\n",
              "      <td>1</td>\n",
              "    </tr>\n",
              "    <tr>\n",
              "      <th>4</th>\n",
              "      <td>Europe</td>\n",
              "      <td>Online TA</td>\n",
              "      <td>0</td>\n",
              "      <td>2</td>\n",
              "      <td>No Deposit</td>\n",
              "      <td>0</td>\n",
              "      <td>Transient</td>\n",
              "      <td>A</td>\n",
              "      <td>0</td>\n",
              "      <td>2</td>\n",
              "      <td>0</td>\n",
              "    </tr>\n",
              "  </tbody>\n",
              "</table>\n",
              "</div>\n",
              "      <button class=\"colab-df-convert\" onclick=\"convertToInteractive('df-018a185d-7ee6-4523-8f26-af3bfc0a3ea9')\"\n",
              "              title=\"Convert this dataframe to an interactive table.\"\n",
              "              style=\"display:none;\">\n",
              "        \n",
              "  <svg xmlns=\"http://www.w3.org/2000/svg\" height=\"24px\"viewBox=\"0 0 24 24\"\n",
              "       width=\"24px\">\n",
              "    <path d=\"M0 0h24v24H0V0z\" fill=\"none\"/>\n",
              "    <path d=\"M18.56 5.44l.94 2.06.94-2.06 2.06-.94-2.06-.94-.94-2.06-.94 2.06-2.06.94zm-11 1L8.5 8.5l.94-2.06 2.06-.94-2.06-.94L8.5 2.5l-.94 2.06-2.06.94zm10 10l.94 2.06.94-2.06 2.06-.94-2.06-.94-.94-2.06-.94 2.06-2.06.94z\"/><path d=\"M17.41 7.96l-1.37-1.37c-.4-.4-.92-.59-1.43-.59-.52 0-1.04.2-1.43.59L10.3 9.45l-7.72 7.72c-.78.78-.78 2.05 0 2.83L4 21.41c.39.39.9.59 1.41.59.51 0 1.02-.2 1.41-.59l7.78-7.78 2.81-2.81c.8-.78.8-2.07 0-2.86zM5.41 20L4 18.59l7.72-7.72 1.47 1.35L5.41 20z\"/>\n",
              "  </svg>\n",
              "      </button>\n",
              "      \n",
              "  <style>\n",
              "    .colab-df-container {\n",
              "      display:flex;\n",
              "      flex-wrap:wrap;\n",
              "      gap: 12px;\n",
              "    }\n",
              "\n",
              "    .colab-df-convert {\n",
              "      background-color: #E8F0FE;\n",
              "      border: none;\n",
              "      border-radius: 50%;\n",
              "      cursor: pointer;\n",
              "      display: none;\n",
              "      fill: #1967D2;\n",
              "      height: 32px;\n",
              "      padding: 0 0 0 0;\n",
              "      width: 32px;\n",
              "    }\n",
              "\n",
              "    .colab-df-convert:hover {\n",
              "      background-color: #E2EBFA;\n",
              "      box-shadow: 0px 1px 2px rgba(60, 64, 67, 0.3), 0px 1px 3px 1px rgba(60, 64, 67, 0.15);\n",
              "      fill: #174EA6;\n",
              "    }\n",
              "\n",
              "    [theme=dark] .colab-df-convert {\n",
              "      background-color: #3B4455;\n",
              "      fill: #D2E3FC;\n",
              "    }\n",
              "\n",
              "    [theme=dark] .colab-df-convert:hover {\n",
              "      background-color: #434B5C;\n",
              "      box-shadow: 0px 1px 3px 1px rgba(0, 0, 0, 0.15);\n",
              "      filter: drop-shadow(0px 1px 2px rgba(0, 0, 0, 0.3));\n",
              "      fill: #FFFFFF;\n",
              "    }\n",
              "  </style>\n",
              "\n",
              "      <script>\n",
              "        const buttonEl =\n",
              "          document.querySelector('#df-018a185d-7ee6-4523-8f26-af3bfc0a3ea9 button.colab-df-convert');\n",
              "        buttonEl.style.display =\n",
              "          google.colab.kernel.accessAllowed ? 'block' : 'none';\n",
              "\n",
              "        async function convertToInteractive(key) {\n",
              "          const element = document.querySelector('#df-018a185d-7ee6-4523-8f26-af3bfc0a3ea9');\n",
              "          const dataTable =\n",
              "            await google.colab.kernel.invokeFunction('convertToInteractive',\n",
              "                                                     [key], {});\n",
              "          if (!dataTable) return;\n",
              "\n",
              "          const docLinkHtml = 'Like what you see? Visit the ' +\n",
              "            '<a target=\"_blank\" href=https://colab.research.google.com/notebooks/data_table.ipynb>data table notebook</a>'\n",
              "            + ' to learn more about interactive tables.';\n",
              "          element.innerHTML = '';\n",
              "          dataTable['output_type'] = 'display_data';\n",
              "          await google.colab.output.renderOutput(dataTable, element);\n",
              "          const docLink = document.createElement('div');\n",
              "          docLink.innerHTML = docLinkHtml;\n",
              "          element.appendChild(docLink);\n",
              "        }\n",
              "      </script>\n",
              "    </div>\n",
              "  </div>\n",
              "  "
            ]
          },
          "metadata": {},
          "execution_count": 290
        }
      ]
    },
    {
      "cell_type": "code",
      "source": [
        "listItem = []\n",
        "for col in df.columns :\n",
        "    listItem.append([col, df_clean_grouped[col].dtype, df_clean_grouped[col].isna().sum(), round((df_clean_grouped[col].isna().sum()/len(df_clean_grouped[col])) * 100,2),\n",
        "                    df_clean_grouped[col].nunique(), list(df_clean_grouped[col].drop_duplicates().sample(2).values)]);\n",
        "\n",
        "dfDesc = pd.DataFrame(columns=['dataFeatures', 'dataType', 'null', 'nullPct', 'unique', 'uniqueSample'],\n",
        "                     data=listItem)\n",
        "dfDesc"
      ],
      "metadata": {
        "colab": {
          "base_uri": "https://localhost:8080/",
          "height": 394
        },
        "id": "eNRebV1Qumy7",
        "outputId": "e42ca03b-d7c1-4f8e-cad5-0d2b47192c5b"
      },
      "execution_count": 291,
      "outputs": [
        {
          "output_type": "execute_result",
          "data": {
            "text/plain": [
              "                   dataFeatures  dataType  null  nullPct  unique  \\\n",
              "0                       country  category     0      0.0       7   \n",
              "1                market_segment  category     0      0.0       8   \n",
              "2        previous_cancellations     int64     0      0.0      15   \n",
              "3               booking_changes     int64     0      0.0      19   \n",
              "4                  deposit_type  category     0      0.0       3   \n",
              "5          days_in_waiting_list     int64     0      0.0     115   \n",
              "6                 customer_type  category     0      0.0       4   \n",
              "7            reserved_room_type  category     0      0.0      10   \n",
              "8   required_car_parking_spaces     int64     0      0.0       5   \n",
              "9     total_of_special_requests     int64     0      0.0       6   \n",
              "10                  is_canceled  category     0      0.0       2   \n",
              "\n",
              "                  uniqueSample  \n",
              "0             [Africa, Europe]  \n",
              "1   [Complementary, Undefined]  \n",
              "2                      [5, 19]  \n",
              "3                      [4, 21]  \n",
              "4     [Non Refund, Refundable]  \n",
              "5                    [120, 21]  \n",
              "6            [Contract, Group]  \n",
              "7                       [G, C]  \n",
              "8                       [3, 1]  \n",
              "9                       [1, 2]  \n",
              "10                      [0, 1]  "
            ],
            "text/html": [
              "\n",
              "  <div id=\"df-aee210d3-8530-42a0-83ad-2159e61fa425\">\n",
              "    <div class=\"colab-df-container\">\n",
              "      <div>\n",
              "<style scoped>\n",
              "    .dataframe tbody tr th:only-of-type {\n",
              "        vertical-align: middle;\n",
              "    }\n",
              "\n",
              "    .dataframe tbody tr th {\n",
              "        vertical-align: top;\n",
              "    }\n",
              "\n",
              "    .dataframe thead th {\n",
              "        text-align: right;\n",
              "    }\n",
              "</style>\n",
              "<table border=\"1\" class=\"dataframe\">\n",
              "  <thead>\n",
              "    <tr style=\"text-align: right;\">\n",
              "      <th></th>\n",
              "      <th>dataFeatures</th>\n",
              "      <th>dataType</th>\n",
              "      <th>null</th>\n",
              "      <th>nullPct</th>\n",
              "      <th>unique</th>\n",
              "      <th>uniqueSample</th>\n",
              "    </tr>\n",
              "  </thead>\n",
              "  <tbody>\n",
              "    <tr>\n",
              "      <th>0</th>\n",
              "      <td>country</td>\n",
              "      <td>category</td>\n",
              "      <td>0</td>\n",
              "      <td>0.0</td>\n",
              "      <td>7</td>\n",
              "      <td>[Africa, Europe]</td>\n",
              "    </tr>\n",
              "    <tr>\n",
              "      <th>1</th>\n",
              "      <td>market_segment</td>\n",
              "      <td>category</td>\n",
              "      <td>0</td>\n",
              "      <td>0.0</td>\n",
              "      <td>8</td>\n",
              "      <td>[Complementary, Undefined]</td>\n",
              "    </tr>\n",
              "    <tr>\n",
              "      <th>2</th>\n",
              "      <td>previous_cancellations</td>\n",
              "      <td>int64</td>\n",
              "      <td>0</td>\n",
              "      <td>0.0</td>\n",
              "      <td>15</td>\n",
              "      <td>[5, 19]</td>\n",
              "    </tr>\n",
              "    <tr>\n",
              "      <th>3</th>\n",
              "      <td>booking_changes</td>\n",
              "      <td>int64</td>\n",
              "      <td>0</td>\n",
              "      <td>0.0</td>\n",
              "      <td>19</td>\n",
              "      <td>[4, 21]</td>\n",
              "    </tr>\n",
              "    <tr>\n",
              "      <th>4</th>\n",
              "      <td>deposit_type</td>\n",
              "      <td>category</td>\n",
              "      <td>0</td>\n",
              "      <td>0.0</td>\n",
              "      <td>3</td>\n",
              "      <td>[Non Refund, Refundable]</td>\n",
              "    </tr>\n",
              "    <tr>\n",
              "      <th>5</th>\n",
              "      <td>days_in_waiting_list</td>\n",
              "      <td>int64</td>\n",
              "      <td>0</td>\n",
              "      <td>0.0</td>\n",
              "      <td>115</td>\n",
              "      <td>[120, 21]</td>\n",
              "    </tr>\n",
              "    <tr>\n",
              "      <th>6</th>\n",
              "      <td>customer_type</td>\n",
              "      <td>category</td>\n",
              "      <td>0</td>\n",
              "      <td>0.0</td>\n",
              "      <td>4</td>\n",
              "      <td>[Contract, Group]</td>\n",
              "    </tr>\n",
              "    <tr>\n",
              "      <th>7</th>\n",
              "      <td>reserved_room_type</td>\n",
              "      <td>category</td>\n",
              "      <td>0</td>\n",
              "      <td>0.0</td>\n",
              "      <td>10</td>\n",
              "      <td>[G, C]</td>\n",
              "    </tr>\n",
              "    <tr>\n",
              "      <th>8</th>\n",
              "      <td>required_car_parking_spaces</td>\n",
              "      <td>int64</td>\n",
              "      <td>0</td>\n",
              "      <td>0.0</td>\n",
              "      <td>5</td>\n",
              "      <td>[3, 1]</td>\n",
              "    </tr>\n",
              "    <tr>\n",
              "      <th>9</th>\n",
              "      <td>total_of_special_requests</td>\n",
              "      <td>int64</td>\n",
              "      <td>0</td>\n",
              "      <td>0.0</td>\n",
              "      <td>6</td>\n",
              "      <td>[1, 2]</td>\n",
              "    </tr>\n",
              "    <tr>\n",
              "      <th>10</th>\n",
              "      <td>is_canceled</td>\n",
              "      <td>category</td>\n",
              "      <td>0</td>\n",
              "      <td>0.0</td>\n",
              "      <td>2</td>\n",
              "      <td>[0, 1]</td>\n",
              "    </tr>\n",
              "  </tbody>\n",
              "</table>\n",
              "</div>\n",
              "      <button class=\"colab-df-convert\" onclick=\"convertToInteractive('df-aee210d3-8530-42a0-83ad-2159e61fa425')\"\n",
              "              title=\"Convert this dataframe to an interactive table.\"\n",
              "              style=\"display:none;\">\n",
              "        \n",
              "  <svg xmlns=\"http://www.w3.org/2000/svg\" height=\"24px\"viewBox=\"0 0 24 24\"\n",
              "       width=\"24px\">\n",
              "    <path d=\"M0 0h24v24H0V0z\" fill=\"none\"/>\n",
              "    <path d=\"M18.56 5.44l.94 2.06.94-2.06 2.06-.94-2.06-.94-.94-2.06-.94 2.06-2.06.94zm-11 1L8.5 8.5l.94-2.06 2.06-.94-2.06-.94L8.5 2.5l-.94 2.06-2.06.94zm10 10l.94 2.06.94-2.06 2.06-.94-2.06-.94-.94-2.06-.94 2.06-2.06.94z\"/><path d=\"M17.41 7.96l-1.37-1.37c-.4-.4-.92-.59-1.43-.59-.52 0-1.04.2-1.43.59L10.3 9.45l-7.72 7.72c-.78.78-.78 2.05 0 2.83L4 21.41c.39.39.9.59 1.41.59.51 0 1.02-.2 1.41-.59l7.78-7.78 2.81-2.81c.8-.78.8-2.07 0-2.86zM5.41 20L4 18.59l7.72-7.72 1.47 1.35L5.41 20z\"/>\n",
              "  </svg>\n",
              "      </button>\n",
              "      \n",
              "  <style>\n",
              "    .colab-df-container {\n",
              "      display:flex;\n",
              "      flex-wrap:wrap;\n",
              "      gap: 12px;\n",
              "    }\n",
              "\n",
              "    .colab-df-convert {\n",
              "      background-color: #E8F0FE;\n",
              "      border: none;\n",
              "      border-radius: 50%;\n",
              "      cursor: pointer;\n",
              "      display: none;\n",
              "      fill: #1967D2;\n",
              "      height: 32px;\n",
              "      padding: 0 0 0 0;\n",
              "      width: 32px;\n",
              "    }\n",
              "\n",
              "    .colab-df-convert:hover {\n",
              "      background-color: #E2EBFA;\n",
              "      box-shadow: 0px 1px 2px rgba(60, 64, 67, 0.3), 0px 1px 3px 1px rgba(60, 64, 67, 0.15);\n",
              "      fill: #174EA6;\n",
              "    }\n",
              "\n",
              "    [theme=dark] .colab-df-convert {\n",
              "      background-color: #3B4455;\n",
              "      fill: #D2E3FC;\n",
              "    }\n",
              "\n",
              "    [theme=dark] .colab-df-convert:hover {\n",
              "      background-color: #434B5C;\n",
              "      box-shadow: 0px 1px 3px 1px rgba(0, 0, 0, 0.15);\n",
              "      filter: drop-shadow(0px 1px 2px rgba(0, 0, 0, 0.3));\n",
              "      fill: #FFFFFF;\n",
              "    }\n",
              "  </style>\n",
              "\n",
              "      <script>\n",
              "        const buttonEl =\n",
              "          document.querySelector('#df-aee210d3-8530-42a0-83ad-2159e61fa425 button.colab-df-convert');\n",
              "        buttonEl.style.display =\n",
              "          google.colab.kernel.accessAllowed ? 'block' : 'none';\n",
              "\n",
              "        async function convertToInteractive(key) {\n",
              "          const element = document.querySelector('#df-aee210d3-8530-42a0-83ad-2159e61fa425');\n",
              "          const dataTable =\n",
              "            await google.colab.kernel.invokeFunction('convertToInteractive',\n",
              "                                                     [key], {});\n",
              "          if (!dataTable) return;\n",
              "\n",
              "          const docLinkHtml = 'Like what you see? Visit the ' +\n",
              "            '<a target=\"_blank\" href=https://colab.research.google.com/notebooks/data_table.ipynb>data table notebook</a>'\n",
              "            + ' to learn more about interactive tables.';\n",
              "          element.innerHTML = '';\n",
              "          dataTable['output_type'] = 'display_data';\n",
              "          await google.colab.output.renderOutput(dataTable, element);\n",
              "          const docLink = document.createElement('div');\n",
              "          docLink.innerHTML = docLinkHtml;\n",
              "          element.appendChild(docLink);\n",
              "        }\n",
              "      </script>\n",
              "    </div>\n",
              "  </div>\n",
              "  "
            ]
          },
          "metadata": {},
          "execution_count": 291
        }
      ]
    },
    {
      "cell_type": "markdown",
      "source": [
        "Sekarang mari kita melakukan fitur encoding untuk fitur2 categorical yang kita miliki.\n",
        "Yang akan kita lakukan adalah :\n",
        "\n",
        "1. Merubah fitur/kolom `deposit_type` dan `customer_type` menggunakan One Hot Encoding, karena fitur ini tidak memiliki urutan/tidak ordinal, dan juga jumlah unique datanya hanya sedikit.\n",
        "2. Merubah fitur/kolom `country`, `market_segment` dan `reserved_room_type` menggunakan Binary Encoding, karena fitur-fitur ini memiliki unique data yang banyak dan tidak memiliki urutan/tidak ordinal, bila kita menggunakan One Hot Encoding akan terlalu banyak fitur baru yg terbuat, dan kalau kita menggunakan Ordinal/Label Encoding hasilnya dapat kurang cocok/kurang baik. Oleh karena itu kita akan mencoba menggunakan Binary Encoding saja."
      ],
      "metadata": {
        "id": "NcLvPay5t9Hl"
      }
    },
    {
      "cell_type": "code",
      "source": [
        "transformer = ColumnTransformer([\n",
        "    ('onehot', OneHotEncoder(drop='first'), ['deposit_type','customer_type']),\n",
        "    ('binary', ce.BinaryEncoder(), ['country', 'market_segment', 'reserved_room_type'])\n",
        "], remainder='passthrough')"
      ],
      "metadata": {
        "id": "CgHZrDuWv_wr"
      },
      "execution_count": 292,
      "outputs": []
    },
    {
      "cell_type": "code",
      "source": [
        "x = df_clean_grouped.drop(columns=['is_canceled'])\n",
        "y = df_clean_grouped['is_canceled']"
      ],
      "metadata": {
        "id": "-D_TvSOuyUqq"
      },
      "execution_count": 293,
      "outputs": []
    },
    {
      "cell_type": "code",
      "source": [
        "x_train,x_test,y_train,y_test=train_test_split(x,y,stratify=y,test_size=0.3,random_state=999)"
      ],
      "metadata": {
        "id": "kWXPQZ_bzvyE"
      },
      "execution_count": 294,
      "outputs": []
    },
    {
      "cell_type": "code",
      "source": [
        "testing = pd.DataFrame(transformer.fit_transform(x_train),columns=transformer.get_feature_names())\n",
        "testing.head()"
      ],
      "metadata": {
        "colab": {
          "base_uri": "https://localhost:8080/",
          "height": 288
        },
        "id": "HmIR2DzyqPO7",
        "outputId": "8e4f30dc-bad7-43bf-9c97-13cc70373a29"
      },
      "execution_count": 295,
      "outputs": [
        {
          "output_type": "execute_result",
          "data": {
            "text/plain": [
              "   onehot__x0_Non Refund  onehot__x0_Refundable  onehot__x1_Group  \\\n",
              "0                    0.0                    0.0               0.0   \n",
              "1                    0.0                    0.0               0.0   \n",
              "2                    0.0                    0.0               0.0   \n",
              "3                    0.0                    0.0               0.0   \n",
              "4                    0.0                    0.0               0.0   \n",
              "\n",
              "   onehot__x1_Transient  onehot__x1_Transient-Party  binary__country_0  \\\n",
              "0                   1.0                         0.0                0.0   \n",
              "1                   0.0                         1.0                0.0   \n",
              "2                   0.0                         1.0                0.0   \n",
              "3                   0.0                         1.0                0.0   \n",
              "4                   1.0                         0.0                0.0   \n",
              "\n",
              "   binary__country_1  binary__country_2  binary__market_segment_0  \\\n",
              "0                0.0                1.0                       0.0   \n",
              "1                0.0                1.0                       0.0   \n",
              "2                0.0                1.0                       0.0   \n",
              "3                0.0                1.0                       0.0   \n",
              "4                0.0                1.0                       0.0   \n",
              "\n",
              "   binary__market_segment_1  binary__market_segment_2  \\\n",
              "0                       0.0                       1.0   \n",
              "1                       1.0                       0.0   \n",
              "2                       1.0                       1.0   \n",
              "3                       1.0                       0.0   \n",
              "4                       0.0                       1.0   \n",
              "\n",
              "   binary__reserved_room_type_0  binary__reserved_room_type_1  \\\n",
              "0                           0.0                           0.0   \n",
              "1                           0.0                           0.0   \n",
              "2                           0.0                           0.0   \n",
              "3                           0.0                           0.0   \n",
              "4                           0.0                           0.0   \n",
              "\n",
              "   binary__reserved_room_type_2  binary__reserved_room_type_3  \\\n",
              "0                           0.0                           1.0   \n",
              "1                           1.0                           0.0   \n",
              "2                           1.0                           0.0   \n",
              "3                           1.0                           0.0   \n",
              "4                           1.0                           0.0   \n",
              "\n",
              "   previous_cancellations  booking_changes  days_in_waiting_list  \\\n",
              "0                     0.0              1.0                   0.0   \n",
              "1                     0.0              0.0                   0.0   \n",
              "2                     0.0              0.0                   0.0   \n",
              "3                     0.0              0.0                   0.0   \n",
              "4                     0.0              0.0                   0.0   \n",
              "\n",
              "   required_car_parking_spaces  total_of_special_requests  \n",
              "0                          0.0                        1.0  \n",
              "1                          0.0                        1.0  \n",
              "2                          0.0                        0.0  \n",
              "3                          0.0                        0.0  \n",
              "4                          0.0                        1.0  "
            ],
            "text/html": [
              "\n",
              "  <div id=\"df-df5782ea-26ef-4f94-80b2-75643c037015\">\n",
              "    <div class=\"colab-df-container\">\n",
              "      <div>\n",
              "<style scoped>\n",
              "    .dataframe tbody tr th:only-of-type {\n",
              "        vertical-align: middle;\n",
              "    }\n",
              "\n",
              "    .dataframe tbody tr th {\n",
              "        vertical-align: top;\n",
              "    }\n",
              "\n",
              "    .dataframe thead th {\n",
              "        text-align: right;\n",
              "    }\n",
              "</style>\n",
              "<table border=\"1\" class=\"dataframe\">\n",
              "  <thead>\n",
              "    <tr style=\"text-align: right;\">\n",
              "      <th></th>\n",
              "      <th>onehot__x0_Non Refund</th>\n",
              "      <th>onehot__x0_Refundable</th>\n",
              "      <th>onehot__x1_Group</th>\n",
              "      <th>onehot__x1_Transient</th>\n",
              "      <th>onehot__x1_Transient-Party</th>\n",
              "      <th>binary__country_0</th>\n",
              "      <th>binary__country_1</th>\n",
              "      <th>binary__country_2</th>\n",
              "      <th>binary__market_segment_0</th>\n",
              "      <th>binary__market_segment_1</th>\n",
              "      <th>binary__market_segment_2</th>\n",
              "      <th>binary__reserved_room_type_0</th>\n",
              "      <th>binary__reserved_room_type_1</th>\n",
              "      <th>binary__reserved_room_type_2</th>\n",
              "      <th>binary__reserved_room_type_3</th>\n",
              "      <th>previous_cancellations</th>\n",
              "      <th>booking_changes</th>\n",
              "      <th>days_in_waiting_list</th>\n",
              "      <th>required_car_parking_spaces</th>\n",
              "      <th>total_of_special_requests</th>\n",
              "    </tr>\n",
              "  </thead>\n",
              "  <tbody>\n",
              "    <tr>\n",
              "      <th>0</th>\n",
              "      <td>0.0</td>\n",
              "      <td>0.0</td>\n",
              "      <td>0.0</td>\n",
              "      <td>1.0</td>\n",
              "      <td>0.0</td>\n",
              "      <td>0.0</td>\n",
              "      <td>0.0</td>\n",
              "      <td>1.0</td>\n",
              "      <td>0.0</td>\n",
              "      <td>0.0</td>\n",
              "      <td>1.0</td>\n",
              "      <td>0.0</td>\n",
              "      <td>0.0</td>\n",
              "      <td>0.0</td>\n",
              "      <td>1.0</td>\n",
              "      <td>0.0</td>\n",
              "      <td>1.0</td>\n",
              "      <td>0.0</td>\n",
              "      <td>0.0</td>\n",
              "      <td>1.0</td>\n",
              "    </tr>\n",
              "    <tr>\n",
              "      <th>1</th>\n",
              "      <td>0.0</td>\n",
              "      <td>0.0</td>\n",
              "      <td>0.0</td>\n",
              "      <td>0.0</td>\n",
              "      <td>1.0</td>\n",
              "      <td>0.0</td>\n",
              "      <td>0.0</td>\n",
              "      <td>1.0</td>\n",
              "      <td>0.0</td>\n",
              "      <td>1.0</td>\n",
              "      <td>0.0</td>\n",
              "      <td>0.0</td>\n",
              "      <td>0.0</td>\n",
              "      <td>1.0</td>\n",
              "      <td>0.0</td>\n",
              "      <td>0.0</td>\n",
              "      <td>0.0</td>\n",
              "      <td>0.0</td>\n",
              "      <td>0.0</td>\n",
              "      <td>1.0</td>\n",
              "    </tr>\n",
              "    <tr>\n",
              "      <th>2</th>\n",
              "      <td>0.0</td>\n",
              "      <td>0.0</td>\n",
              "      <td>0.0</td>\n",
              "      <td>0.0</td>\n",
              "      <td>1.0</td>\n",
              "      <td>0.0</td>\n",
              "      <td>0.0</td>\n",
              "      <td>1.0</td>\n",
              "      <td>0.0</td>\n",
              "      <td>1.0</td>\n",
              "      <td>1.0</td>\n",
              "      <td>0.0</td>\n",
              "      <td>0.0</td>\n",
              "      <td>1.0</td>\n",
              "      <td>0.0</td>\n",
              "      <td>0.0</td>\n",
              "      <td>0.0</td>\n",
              "      <td>0.0</td>\n",
              "      <td>0.0</td>\n",
              "      <td>0.0</td>\n",
              "    </tr>\n",
              "    <tr>\n",
              "      <th>3</th>\n",
              "      <td>0.0</td>\n",
              "      <td>0.0</td>\n",
              "      <td>0.0</td>\n",
              "      <td>0.0</td>\n",
              "      <td>1.0</td>\n",
              "      <td>0.0</td>\n",
              "      <td>0.0</td>\n",
              "      <td>1.0</td>\n",
              "      <td>0.0</td>\n",
              "      <td>1.0</td>\n",
              "      <td>0.0</td>\n",
              "      <td>0.0</td>\n",
              "      <td>0.0</td>\n",
              "      <td>1.0</td>\n",
              "      <td>0.0</td>\n",
              "      <td>0.0</td>\n",
              "      <td>0.0</td>\n",
              "      <td>0.0</td>\n",
              "      <td>0.0</td>\n",
              "      <td>0.0</td>\n",
              "    </tr>\n",
              "    <tr>\n",
              "      <th>4</th>\n",
              "      <td>0.0</td>\n",
              "      <td>0.0</td>\n",
              "      <td>0.0</td>\n",
              "      <td>1.0</td>\n",
              "      <td>0.0</td>\n",
              "      <td>0.0</td>\n",
              "      <td>0.0</td>\n",
              "      <td>1.0</td>\n",
              "      <td>0.0</td>\n",
              "      <td>0.0</td>\n",
              "      <td>1.0</td>\n",
              "      <td>0.0</td>\n",
              "      <td>0.0</td>\n",
              "      <td>1.0</td>\n",
              "      <td>0.0</td>\n",
              "      <td>0.0</td>\n",
              "      <td>0.0</td>\n",
              "      <td>0.0</td>\n",
              "      <td>0.0</td>\n",
              "      <td>1.0</td>\n",
              "    </tr>\n",
              "  </tbody>\n",
              "</table>\n",
              "</div>\n",
              "      <button class=\"colab-df-convert\" onclick=\"convertToInteractive('df-df5782ea-26ef-4f94-80b2-75643c037015')\"\n",
              "              title=\"Convert this dataframe to an interactive table.\"\n",
              "              style=\"display:none;\">\n",
              "        \n",
              "  <svg xmlns=\"http://www.w3.org/2000/svg\" height=\"24px\"viewBox=\"0 0 24 24\"\n",
              "       width=\"24px\">\n",
              "    <path d=\"M0 0h24v24H0V0z\" fill=\"none\"/>\n",
              "    <path d=\"M18.56 5.44l.94 2.06.94-2.06 2.06-.94-2.06-.94-.94-2.06-.94 2.06-2.06.94zm-11 1L8.5 8.5l.94-2.06 2.06-.94-2.06-.94L8.5 2.5l-.94 2.06-2.06.94zm10 10l.94 2.06.94-2.06 2.06-.94-2.06-.94-.94-2.06-.94 2.06-2.06.94z\"/><path d=\"M17.41 7.96l-1.37-1.37c-.4-.4-.92-.59-1.43-.59-.52 0-1.04.2-1.43.59L10.3 9.45l-7.72 7.72c-.78.78-.78 2.05 0 2.83L4 21.41c.39.39.9.59 1.41.59.51 0 1.02-.2 1.41-.59l7.78-7.78 2.81-2.81c.8-.78.8-2.07 0-2.86zM5.41 20L4 18.59l7.72-7.72 1.47 1.35L5.41 20z\"/>\n",
              "  </svg>\n",
              "      </button>\n",
              "      \n",
              "  <style>\n",
              "    .colab-df-container {\n",
              "      display:flex;\n",
              "      flex-wrap:wrap;\n",
              "      gap: 12px;\n",
              "    }\n",
              "\n",
              "    .colab-df-convert {\n",
              "      background-color: #E8F0FE;\n",
              "      border: none;\n",
              "      border-radius: 50%;\n",
              "      cursor: pointer;\n",
              "      display: none;\n",
              "      fill: #1967D2;\n",
              "      height: 32px;\n",
              "      padding: 0 0 0 0;\n",
              "      width: 32px;\n",
              "    }\n",
              "\n",
              "    .colab-df-convert:hover {\n",
              "      background-color: #E2EBFA;\n",
              "      box-shadow: 0px 1px 2px rgba(60, 64, 67, 0.3), 0px 1px 3px 1px rgba(60, 64, 67, 0.15);\n",
              "      fill: #174EA6;\n",
              "    }\n",
              "\n",
              "    [theme=dark] .colab-df-convert {\n",
              "      background-color: #3B4455;\n",
              "      fill: #D2E3FC;\n",
              "    }\n",
              "\n",
              "    [theme=dark] .colab-df-convert:hover {\n",
              "      background-color: #434B5C;\n",
              "      box-shadow: 0px 1px 3px 1px rgba(0, 0, 0, 0.15);\n",
              "      filter: drop-shadow(0px 1px 2px rgba(0, 0, 0, 0.3));\n",
              "      fill: #FFFFFF;\n",
              "    }\n",
              "  </style>\n",
              "\n",
              "      <script>\n",
              "        const buttonEl =\n",
              "          document.querySelector('#df-df5782ea-26ef-4f94-80b2-75643c037015 button.colab-df-convert');\n",
              "        buttonEl.style.display =\n",
              "          google.colab.kernel.accessAllowed ? 'block' : 'none';\n",
              "\n",
              "        async function convertToInteractive(key) {\n",
              "          const element = document.querySelector('#df-df5782ea-26ef-4f94-80b2-75643c037015');\n",
              "          const dataTable =\n",
              "            await google.colab.kernel.invokeFunction('convertToInteractive',\n",
              "                                                     [key], {});\n",
              "          if (!dataTable) return;\n",
              "\n",
              "          const docLinkHtml = 'Like what you see? Visit the ' +\n",
              "            '<a target=\"_blank\" href=https://colab.research.google.com/notebooks/data_table.ipynb>data table notebook</a>'\n",
              "            + ' to learn more about interactive tables.';\n",
              "          element.innerHTML = '';\n",
              "          dataTable['output_type'] = 'display_data';\n",
              "          await google.colab.output.renderOutput(dataTable, element);\n",
              "          const docLink = document.createElement('div');\n",
              "          docLink.innerHTML = docLinkHtml;\n",
              "          element.appendChild(docLink);\n",
              "        }\n",
              "      </script>\n",
              "    </div>\n",
              "  </div>\n",
              "  "
            ]
          },
          "metadata": {},
          "execution_count": 295
        }
      ]
    },
    {
      "cell_type": "markdown",
      "source": [
        "# Modeling & Evaluation"
      ],
      "metadata": {
        "id": "vE8_L03RwHRi"
      }
    },
    {
      "cell_type": "code",
      "execution_count": 296,
      "metadata": {
        "id": "EaHZE1mRQW57"
      },
      "outputs": [],
      "source": [
        "logreg = LogisticRegression()\n",
        "knn = KNeighborsClassifier()\n",
        "dt = DecisionTreeClassifier()\n",
        "rf = RandomForestClassifier()\n",
        "xgb = XGBClassifier()\n",
        "lgbm = lgb.LGBMClassifier()"
      ]
    },
    {
      "cell_type": "markdown",
      "metadata": {
        "id": "dhIQQntFQW57"
      },
      "source": [
        "### Model Benchmarking : K-Fold"
      ]
    },
    {
      "cell_type": "code",
      "execution_count": 297,
      "metadata": {
        "id": "uj14LZLWQW57",
        "outputId": "5e4db1e1-044d-4212-d075-72092f682a97",
        "colab": {
          "base_uri": "https://localhost:8080/",
          "height": 269
        }
      },
      "outputs": [
        {
          "output_type": "execute_result",
          "data": {
            "text/plain": [
              "                     mean roc_auc      sdev\n",
              "model                                      \n",
              "LightGBM                 0.858029  0.002247\n",
              "Random Forest            0.855248  0.002215\n",
              "Decision Tree            0.852274  0.002549\n",
              "XGBoost                  0.847987  0.001540\n",
              "Logistic Regression      0.828858  0.002490\n",
              "KNN                      0.812750  0.012785"
            ],
            "text/html": [
              "\n",
              "  <div id=\"df-6bd042af-d944-447c-8dfc-a2325a53db6b\">\n",
              "    <div class=\"colab-df-container\">\n",
              "      <div>\n",
              "<style scoped>\n",
              "    .dataframe tbody tr th:only-of-type {\n",
              "        vertical-align: middle;\n",
              "    }\n",
              "\n",
              "    .dataframe tbody tr th {\n",
              "        vertical-align: top;\n",
              "    }\n",
              "\n",
              "    .dataframe thead th {\n",
              "        text-align: right;\n",
              "    }\n",
              "</style>\n",
              "<table border=\"1\" class=\"dataframe\">\n",
              "  <thead>\n",
              "    <tr style=\"text-align: right;\">\n",
              "      <th></th>\n",
              "      <th>mean roc_auc</th>\n",
              "      <th>sdev</th>\n",
              "    </tr>\n",
              "    <tr>\n",
              "      <th>model</th>\n",
              "      <th></th>\n",
              "      <th></th>\n",
              "    </tr>\n",
              "  </thead>\n",
              "  <tbody>\n",
              "    <tr>\n",
              "      <th>LightGBM</th>\n",
              "      <td>0.858029</td>\n",
              "      <td>0.002247</td>\n",
              "    </tr>\n",
              "    <tr>\n",
              "      <th>Random Forest</th>\n",
              "      <td>0.855248</td>\n",
              "      <td>0.002215</td>\n",
              "    </tr>\n",
              "    <tr>\n",
              "      <th>Decision Tree</th>\n",
              "      <td>0.852274</td>\n",
              "      <td>0.002549</td>\n",
              "    </tr>\n",
              "    <tr>\n",
              "      <th>XGBoost</th>\n",
              "      <td>0.847987</td>\n",
              "      <td>0.001540</td>\n",
              "    </tr>\n",
              "    <tr>\n",
              "      <th>Logistic Regression</th>\n",
              "      <td>0.828858</td>\n",
              "      <td>0.002490</td>\n",
              "    </tr>\n",
              "    <tr>\n",
              "      <th>KNN</th>\n",
              "      <td>0.812750</td>\n",
              "      <td>0.012785</td>\n",
              "    </tr>\n",
              "  </tbody>\n",
              "</table>\n",
              "</div>\n",
              "      <button class=\"colab-df-convert\" onclick=\"convertToInteractive('df-6bd042af-d944-447c-8dfc-a2325a53db6b')\"\n",
              "              title=\"Convert this dataframe to an interactive table.\"\n",
              "              style=\"display:none;\">\n",
              "        \n",
              "  <svg xmlns=\"http://www.w3.org/2000/svg\" height=\"24px\"viewBox=\"0 0 24 24\"\n",
              "       width=\"24px\">\n",
              "    <path d=\"M0 0h24v24H0V0z\" fill=\"none\"/>\n",
              "    <path d=\"M18.56 5.44l.94 2.06.94-2.06 2.06-.94-2.06-.94-.94-2.06-.94 2.06-2.06.94zm-11 1L8.5 8.5l.94-2.06 2.06-.94-2.06-.94L8.5 2.5l-.94 2.06-2.06.94zm10 10l.94 2.06.94-2.06 2.06-.94-2.06-.94-.94-2.06-.94 2.06-2.06.94z\"/><path d=\"M17.41 7.96l-1.37-1.37c-.4-.4-.92-.59-1.43-.59-.52 0-1.04.2-1.43.59L10.3 9.45l-7.72 7.72c-.78.78-.78 2.05 0 2.83L4 21.41c.39.39.9.59 1.41.59.51 0 1.02-.2 1.41-.59l7.78-7.78 2.81-2.81c.8-.78.8-2.07 0-2.86zM5.41 20L4 18.59l7.72-7.72 1.47 1.35L5.41 20z\"/>\n",
              "  </svg>\n",
              "      </button>\n",
              "      \n",
              "  <style>\n",
              "    .colab-df-container {\n",
              "      display:flex;\n",
              "      flex-wrap:wrap;\n",
              "      gap: 12px;\n",
              "    }\n",
              "\n",
              "    .colab-df-convert {\n",
              "      background-color: #E8F0FE;\n",
              "      border: none;\n",
              "      border-radius: 50%;\n",
              "      cursor: pointer;\n",
              "      display: none;\n",
              "      fill: #1967D2;\n",
              "      height: 32px;\n",
              "      padding: 0 0 0 0;\n",
              "      width: 32px;\n",
              "    }\n",
              "\n",
              "    .colab-df-convert:hover {\n",
              "      background-color: #E2EBFA;\n",
              "      box-shadow: 0px 1px 2px rgba(60, 64, 67, 0.3), 0px 1px 3px 1px rgba(60, 64, 67, 0.15);\n",
              "      fill: #174EA6;\n",
              "    }\n",
              "\n",
              "    [theme=dark] .colab-df-convert {\n",
              "      background-color: #3B4455;\n",
              "      fill: #D2E3FC;\n",
              "    }\n",
              "\n",
              "    [theme=dark] .colab-df-convert:hover {\n",
              "      background-color: #434B5C;\n",
              "      box-shadow: 0px 1px 3px 1px rgba(0, 0, 0, 0.15);\n",
              "      filter: drop-shadow(0px 1px 2px rgba(0, 0, 0, 0.3));\n",
              "      fill: #FFFFFF;\n",
              "    }\n",
              "  </style>\n",
              "\n",
              "      <script>\n",
              "        const buttonEl =\n",
              "          document.querySelector('#df-6bd042af-d944-447c-8dfc-a2325a53db6b button.colab-df-convert');\n",
              "        buttonEl.style.display =\n",
              "          google.colab.kernel.accessAllowed ? 'block' : 'none';\n",
              "\n",
              "        async function convertToInteractive(key) {\n",
              "          const element = document.querySelector('#df-6bd042af-d944-447c-8dfc-a2325a53db6b');\n",
              "          const dataTable =\n",
              "            await google.colab.kernel.invokeFunction('convertToInteractive',\n",
              "                                                     [key], {});\n",
              "          if (!dataTable) return;\n",
              "\n",
              "          const docLinkHtml = 'Like what you see? Visit the ' +\n",
              "            '<a target=\"_blank\" href=https://colab.research.google.com/notebooks/data_table.ipynb>data table notebook</a>'\n",
              "            + ' to learn more about interactive tables.';\n",
              "          element.innerHTML = '';\n",
              "          dataTable['output_type'] = 'display_data';\n",
              "          await google.colab.output.renderOutput(dataTable, element);\n",
              "          const docLink = document.createElement('div');\n",
              "          docLink.innerHTML = docLinkHtml;\n",
              "          element.appendChild(docLink);\n",
              "        }\n",
              "      </script>\n",
              "    </div>\n",
              "  </div>\n",
              "  "
            ]
          },
          "metadata": {},
          "execution_count": 297
        }
      ],
      "source": [
        "models = [logreg,knn,dt,rf,xgb,lgbm]\n",
        "score=[]\n",
        "rata=[]\n",
        "std=[]\n",
        "\n",
        "for i in models:\n",
        "    skfold=StratifiedKFold(n_splits=5)\n",
        "    estimator=Pipeline([\n",
        "        ('preprocess',transformer),\n",
        "        ('model',i)])\n",
        "    model_cv=cross_val_score(estimator,x_train,y_train,cv=skfold,scoring='roc_auc')\n",
        "    score.append(model_cv)\n",
        "    rata.append(model_cv.mean())\n",
        "    std.append(model_cv.std())\n",
        "    \n",
        "pd.DataFrame({'model':['Logistic Regression', 'KNN', 'Decision Tree', 'Random Forest', 'XGBoost', 'LightGBM'],'mean roc_auc':rata,'sdev':std}).set_index('model').sort_values(by='mean roc_auc',ascending=False)"
      ]
    },
    {
      "cell_type": "markdown",
      "metadata": {
        "id": "6Zj5nGgcQW57"
      },
      "source": [
        "Terlihat bahwa model LightGBM adalah yang terbaik untuk roc_aucnya dari setiap model yang menggunakan default hyperparameter"
      ]
    },
    {
      "cell_type": "markdown",
      "metadata": {
        "id": "FmfDDANzQW57"
      },
      "source": [
        "### Model Benchmarking : Test Data"
      ]
    },
    {
      "cell_type": "code",
      "execution_count": 298,
      "metadata": {
        "id": "vYPiJ6NIQW57",
        "outputId": "8fc31157-1d37-4fcf-d048-6e432f69c0da",
        "colab": {
          "base_uri": "https://localhost:8080/",
          "height": 1000
        }
      },
      "outputs": [
        {
          "output_type": "stream",
          "name": "stdout",
          "text": [
            "Logistic Regression \n",
            "               precision    recall  f1-score   support\n",
            "\n",
            "           0       0.79      0.91      0.85     15747\n",
            "           1       0.80      0.59      0.68      9220\n",
            "\n",
            "    accuracy                           0.79     24967\n",
            "   macro avg       0.79      0.75      0.76     24967\n",
            "weighted avg       0.79      0.79      0.78     24967\n",
            "\n",
            "KNN \n",
            "               precision    recall  f1-score   support\n",
            "\n",
            "           0       0.76      0.86      0.81     15747\n",
            "           1       0.69      0.54      0.61      9220\n",
            "\n",
            "    accuracy                           0.74     24967\n",
            "   macro avg       0.73      0.70      0.71     24967\n",
            "weighted avg       0.74      0.74      0.73     24967\n",
            "\n",
            "Decision Tree \n",
            "               precision    recall  f1-score   support\n",
            "\n",
            "           0       0.80      0.90      0.85     15747\n",
            "           1       0.79      0.62      0.70      9220\n",
            "\n",
            "    accuracy                           0.80     24967\n",
            "   macro avg       0.80      0.76      0.77     24967\n",
            "weighted avg       0.80      0.80      0.79     24967\n",
            "\n",
            "Random Forest \n",
            "               precision    recall  f1-score   support\n",
            "\n",
            "           0       0.80      0.90      0.85     15747\n",
            "           1       0.79      0.62      0.70      9220\n",
            "\n",
            "    accuracy                           0.80     24967\n",
            "   macro avg       0.80      0.76      0.77     24967\n",
            "weighted avg       0.80      0.80      0.79     24967\n",
            "\n",
            "XGBoost \n",
            "               precision    recall  f1-score   support\n",
            "\n",
            "           0       0.80      0.91      0.85     15747\n",
            "           1       0.80      0.61      0.69      9220\n",
            "\n",
            "    accuracy                           0.80     24967\n",
            "   macro avg       0.80      0.76      0.77     24967\n",
            "weighted avg       0.80      0.80      0.79     24967\n",
            "\n",
            "LightGBM \n",
            "               precision    recall  f1-score   support\n",
            "\n",
            "           0       0.80      0.91      0.85     15747\n",
            "           1       0.80      0.61      0.70      9220\n",
            "\n",
            "    accuracy                           0.80     24967\n",
            "   macro avg       0.80      0.76      0.77     24967\n",
            "weighted avg       0.80      0.80      0.79     24967\n",
            "\n"
          ]
        },
        {
          "output_type": "execute_result",
          "data": {
            "text/plain": [
              "                     roc_auc score\n",
              "model                             \n",
              "LightGBM                  0.857681\n",
              "Random Forest             0.855360\n",
              "Decision Tree             0.853165\n",
              "XGBoost                   0.849837\n",
              "Logistic Regression       0.831538\n",
              "KNN                       0.771052"
            ],
            "text/html": [
              "\n",
              "  <div id=\"df-f9f647cd-03ca-4965-8d58-b27e9d0c6aa8\">\n",
              "    <div class=\"colab-df-container\">\n",
              "      <div>\n",
              "<style scoped>\n",
              "    .dataframe tbody tr th:only-of-type {\n",
              "        vertical-align: middle;\n",
              "    }\n",
              "\n",
              "    .dataframe tbody tr th {\n",
              "        vertical-align: top;\n",
              "    }\n",
              "\n",
              "    .dataframe thead th {\n",
              "        text-align: right;\n",
              "    }\n",
              "</style>\n",
              "<table border=\"1\" class=\"dataframe\">\n",
              "  <thead>\n",
              "    <tr style=\"text-align: right;\">\n",
              "      <th></th>\n",
              "      <th>roc_auc score</th>\n",
              "    </tr>\n",
              "    <tr>\n",
              "      <th>model</th>\n",
              "      <th></th>\n",
              "    </tr>\n",
              "  </thead>\n",
              "  <tbody>\n",
              "    <tr>\n",
              "      <th>LightGBM</th>\n",
              "      <td>0.857681</td>\n",
              "    </tr>\n",
              "    <tr>\n",
              "      <th>Random Forest</th>\n",
              "      <td>0.855360</td>\n",
              "    </tr>\n",
              "    <tr>\n",
              "      <th>Decision Tree</th>\n",
              "      <td>0.853165</td>\n",
              "    </tr>\n",
              "    <tr>\n",
              "      <th>XGBoost</th>\n",
              "      <td>0.849837</td>\n",
              "    </tr>\n",
              "    <tr>\n",
              "      <th>Logistic Regression</th>\n",
              "      <td>0.831538</td>\n",
              "    </tr>\n",
              "    <tr>\n",
              "      <th>KNN</th>\n",
              "      <td>0.771052</td>\n",
              "    </tr>\n",
              "  </tbody>\n",
              "</table>\n",
              "</div>\n",
              "      <button class=\"colab-df-convert\" onclick=\"convertToInteractive('df-f9f647cd-03ca-4965-8d58-b27e9d0c6aa8')\"\n",
              "              title=\"Convert this dataframe to an interactive table.\"\n",
              "              style=\"display:none;\">\n",
              "        \n",
              "  <svg xmlns=\"http://www.w3.org/2000/svg\" height=\"24px\"viewBox=\"0 0 24 24\"\n",
              "       width=\"24px\">\n",
              "    <path d=\"M0 0h24v24H0V0z\" fill=\"none\"/>\n",
              "    <path d=\"M18.56 5.44l.94 2.06.94-2.06 2.06-.94-2.06-.94-.94-2.06-.94 2.06-2.06.94zm-11 1L8.5 8.5l.94-2.06 2.06-.94-2.06-.94L8.5 2.5l-.94 2.06-2.06.94zm10 10l.94 2.06.94-2.06 2.06-.94-2.06-.94-.94-2.06-.94 2.06-2.06.94z\"/><path d=\"M17.41 7.96l-1.37-1.37c-.4-.4-.92-.59-1.43-.59-.52 0-1.04.2-1.43.59L10.3 9.45l-7.72 7.72c-.78.78-.78 2.05 0 2.83L4 21.41c.39.39.9.59 1.41.59.51 0 1.02-.2 1.41-.59l7.78-7.78 2.81-2.81c.8-.78.8-2.07 0-2.86zM5.41 20L4 18.59l7.72-7.72 1.47 1.35L5.41 20z\"/>\n",
              "  </svg>\n",
              "      </button>\n",
              "      \n",
              "  <style>\n",
              "    .colab-df-container {\n",
              "      display:flex;\n",
              "      flex-wrap:wrap;\n",
              "      gap: 12px;\n",
              "    }\n",
              "\n",
              "    .colab-df-convert {\n",
              "      background-color: #E8F0FE;\n",
              "      border: none;\n",
              "      border-radius: 50%;\n",
              "      cursor: pointer;\n",
              "      display: none;\n",
              "      fill: #1967D2;\n",
              "      height: 32px;\n",
              "      padding: 0 0 0 0;\n",
              "      width: 32px;\n",
              "    }\n",
              "\n",
              "    .colab-df-convert:hover {\n",
              "      background-color: #E2EBFA;\n",
              "      box-shadow: 0px 1px 2px rgba(60, 64, 67, 0.3), 0px 1px 3px 1px rgba(60, 64, 67, 0.15);\n",
              "      fill: #174EA6;\n",
              "    }\n",
              "\n",
              "    [theme=dark] .colab-df-convert {\n",
              "      background-color: #3B4455;\n",
              "      fill: #D2E3FC;\n",
              "    }\n",
              "\n",
              "    [theme=dark] .colab-df-convert:hover {\n",
              "      background-color: #434B5C;\n",
              "      box-shadow: 0px 1px 3px 1px rgba(0, 0, 0, 0.15);\n",
              "      filter: drop-shadow(0px 1px 2px rgba(0, 0, 0, 0.3));\n",
              "      fill: #FFFFFF;\n",
              "    }\n",
              "  </style>\n",
              "\n",
              "      <script>\n",
              "        const buttonEl =\n",
              "          document.querySelector('#df-f9f647cd-03ca-4965-8d58-b27e9d0c6aa8 button.colab-df-convert');\n",
              "        buttonEl.style.display =\n",
              "          google.colab.kernel.accessAllowed ? 'block' : 'none';\n",
              "\n",
              "        async function convertToInteractive(key) {\n",
              "          const element = document.querySelector('#df-f9f647cd-03ca-4965-8d58-b27e9d0c6aa8');\n",
              "          const dataTable =\n",
              "            await google.colab.kernel.invokeFunction('convertToInteractive',\n",
              "                                                     [key], {});\n",
              "          if (!dataTable) return;\n",
              "\n",
              "          const docLinkHtml = 'Like what you see? Visit the ' +\n",
              "            '<a target=\"_blank\" href=https://colab.research.google.com/notebooks/data_table.ipynb>data table notebook</a>'\n",
              "            + ' to learn more about interactive tables.';\n",
              "          element.innerHTML = '';\n",
              "          dataTable['output_type'] = 'display_data';\n",
              "          await google.colab.output.renderOutput(dataTable, element);\n",
              "          const docLink = document.createElement('div');\n",
              "          docLink.innerHTML = docLinkHtml;\n",
              "          element.appendChild(docLink);\n",
              "        }\n",
              "      </script>\n",
              "    </div>\n",
              "  </div>\n",
              "  "
            ]
          },
          "metadata": {},
          "execution_count": 298
        }
      ],
      "source": [
        "models = [logreg,knn,dt,rf,xgb,lgbm]\n",
        "score_roc_auc = []\n",
        "\n",
        "def y_pred_func(i):\n",
        "    estimator=Pipeline([\n",
        "        ('preprocess',transformer),\n",
        "        ('model',i)])\n",
        "    x_train,x_test\n",
        "    \n",
        "    estimator.fit(x_train,y_train)\n",
        "    return(estimator,estimator.predict(x_test),x_test)\n",
        "\n",
        "for i,j in zip(models, ['Logistic Regression', 'KNN', 'Decision Tree', 'Random Forest', 'XGBoost','LightGBM']):\n",
        "    estimator,y_pred,x_test = y_pred_func(i)\n",
        "    y_predict_proba = estimator.predict_proba(x_test)[:,1]\n",
        "    score_roc_auc.append(roc_auc_score(y_test,y_predict_proba))\n",
        "    print(j,'\\n', classification_report(y_test,y_pred))\n",
        "    \n",
        "pd.DataFrame({'model':['Logistic Regression', 'KNN', 'Decision Tree', 'Random Forest', 'XGBoost','LightGBM'],\n",
        "             'roc_auc score':score_roc_auc}).set_index('model').sort_values(by='roc_auc score',ascending=False)"
      ]
    },
    {
      "cell_type": "markdown",
      "metadata": {
        "id": "Sj2IrqsJQW58"
      },
      "source": [
        "Terlihat model LightGBM kembali merupakan model dengan performa terbaik pada test data.\n",
        "\n",
        "Sekarang kita coba lakukan oversampling untuk model LightGBM kita, untuk melihat apakah kita dapat mendapatkan hasil yang lebih baik lagi."
      ]
    },
    {
      "cell_type": "markdown",
      "metadata": {
        "id": "4FjSh0zzQW58"
      },
      "source": [
        "### Test Oversampling with K-Fold Cross Validation"
      ]
    },
    {
      "cell_type": "code",
      "execution_count": 299,
      "metadata": {
        "id": "x8zf6QBxQW58"
      },
      "outputs": [],
      "source": [
        "def calc_train_error(X_train, y_train, model):\n",
        "#     '''returns in-sample error for already fit model.'''\n",
        "    predictions = model.predict(X_train)\n",
        "    predictProba = model.predict_proba(X_train)\n",
        "    accuracy = accuracy_score(y_train, predictions)\n",
        "    f1 = f1_score(y_train, predictions, average='macro')\n",
        "    roc_auc = roc_auc_score(y_train, predictProba[:,1])\n",
        "    recall = recall_score(y_train, predictions)\n",
        "    precision = precision_score(y_train, predictions)\n",
        "    report = classification_report(y_train, predictions)\n",
        "    return { \n",
        "        'report': report, \n",
        "        'f1' : f1, \n",
        "        'roc': roc_auc, \n",
        "        'accuracy': accuracy,\n",
        "        'recall': recall,\n",
        "        'precision': precision\n",
        "    }\n",
        "    \n",
        "def calc_validation_error(X_test, y_test, model):\n",
        "#     '''returns out-of-sample error for already fit model.'''\n",
        "    predictions = model.predict(X_test)\n",
        "    predictProba = model.predict_proba(X_test)\n",
        "    accuracy = accuracy_score(y_test, predictions)\n",
        "    f1 = f1_score(y_test, predictions, average='macro')\n",
        "    roc_auc = roc_auc_score(y_test, predictProba[:,1])\n",
        "    recall = recall_score(y_test, predictions)\n",
        "    precision = precision_score(y_test, predictions)\n",
        "    report = classification_report(y_test, predictions)\n",
        "    return { \n",
        "        'report': report, \n",
        "        'f1' : f1, \n",
        "        'roc': roc_auc, \n",
        "        'accuracy': accuracy,\n",
        "        'recall': recall,\n",
        "        'precision': precision\n",
        "    }\n",
        "    \n",
        "def calc_metrics(X_train, y_train, X_test, y_test, model):\n",
        "#     '''fits model and returns the in-sample error and out-of-sample error'''\n",
        "    model.fit(X_train, y_train)\n",
        "    train_error = calc_train_error(X_train, y_train, model)\n",
        "    validation_error = calc_validation_error(X_test, y_test, model)\n",
        "    return train_error, validation_error"
      ]
    },
    {
      "cell_type": "code",
      "execution_count": 300,
      "metadata": {
        "id": "TMGwjAv-QW58"
      },
      "outputs": [],
      "source": [
        "from sklearn.model_selection import StratifiedKFold\n",
        "\n",
        "K = 10\n",
        "kf = StratifiedKFold(n_splits=K, shuffle=True, random_state=42)"
      ]
    },
    {
      "cell_type": "code",
      "execution_count": 301,
      "metadata": {
        "id": "Q_tHy41bQW58"
      },
      "outputs": [],
      "source": [
        "data = x_train\n",
        "target = y_train"
      ]
    },
    {
      "cell_type": "code",
      "execution_count": 302,
      "metadata": {
        "id": "oZuq7RBlQW58"
      },
      "outputs": [],
      "source": [
        "train_errors_without_oversampling = []\n",
        "validation_errors_without_oversampling = []\n",
        "\n",
        "train_errors_with_oversampling = []\n",
        "validation_errors_with_oversampling = []\n",
        "\n",
        "for train_index, val_index in kf.split(data, target):\n",
        "    \n",
        "    # split data\n",
        "    X_train, X_val = data.iloc[train_index], data.iloc[val_index]\n",
        "    Y_train, Y_val = target.iloc[train_index], target.iloc[val_index]\n",
        "    \n",
        "    #print(len(X_val), (len(X_train) + len(X_val)))\n",
        "    ros = RandomOverSampler()\n",
        "\n",
        "    X_ros, Y_ros = ros.fit_resample(X_train, Y_train)\n",
        "\n",
        "    # instantiate model\n",
        "    lgbm = lgb.LGBMClassifier()\n",
        "    estimator=Pipeline([\n",
        "        ('preprocess',transformer),\n",
        "        ('model',lgbm)\n",
        "    ])\n",
        "\n",
        "    #calculate errors\n",
        "    train_error_without_oversampling, val_error_without_oversampling = calc_metrics(X_train, Y_train, X_val, Y_val, estimator)\n",
        "    train_error_with_oversampling, val_error_with_oversampling = calc_metrics(X_ros, Y_ros, X_val, Y_val, estimator)\n",
        "    \n",
        "    # append to appropriate list\n",
        "    train_errors_without_oversampling.append(train_error_without_oversampling)\n",
        "    validation_errors_without_oversampling.append(val_error_without_oversampling)\n",
        "    \n",
        "    train_errors_with_oversampling.append(train_error_with_oversampling)\n",
        "    validation_errors_with_oversampling.append(val_error_with_oversampling)"
      ]
    },
    {
      "cell_type": "markdown",
      "metadata": {
        "id": "IPn48aHeQW59"
      },
      "source": [
        "#### Evaluation Metrics Without Oversampling"
      ]
    },
    {
      "cell_type": "code",
      "execution_count": 303,
      "metadata": {
        "id": "bquA00GxQW59",
        "outputId": "6cc2be2c-8b93-4cd9-de5f-79ceac5d5b6f",
        "colab": {
          "base_uri": "https://localhost:8080/",
          "height": 456
        }
      },
      "outputs": [
        {
          "output_type": "execute_result",
          "data": {
            "text/plain": [
              "         Train Accuracy  Test Accuracy  Train ROC AUC  Test ROC AUC  \\\n",
              "0              0.804707       0.802266       0.862671      0.864445   \n",
              "1              0.804765       0.802094       0.862260      0.861560   \n",
              "2              0.804612       0.806557       0.862431      0.862925   \n",
              "3              0.804536       0.804669       0.862367      0.863087   \n",
              "4              0.805356       0.801922       0.862833      0.860691   \n",
              "5              0.804730       0.800515       0.864211      0.846884   \n",
              "6              0.805131       0.803433       0.863687      0.852906   \n",
              "7              0.805093       0.805494       0.863168      0.856561   \n",
              "8              0.805226       0.800858       0.863495      0.855104   \n",
              "9              0.804978       0.804635       0.862742      0.861349   \n",
              "Average        0.804913       0.803244       0.862986      0.858551   \n",
              "\n",
              "         Train F1 Score  Test F1 Score  Train Recall  Test Recall  \\\n",
              "0              0.778316       0.774074      0.622417     0.607807   \n",
              "1              0.777736       0.776280      0.617510     0.625929   \n",
              "2              0.777677       0.779434      0.618150     0.617387   \n",
              "3              0.777523       0.776197      0.617530     0.606695   \n",
              "4              0.778486       0.776292      0.618873     0.627615   \n",
              "5              0.777715       0.770942      0.617582     0.597397   \n",
              "6              0.778402       0.776077      0.619906     0.614598   \n",
              "7              0.778578       0.779203      0.621559     0.623431   \n",
              "8              0.778300       0.774395      0.618408     0.620642   \n",
              "9              0.778309       0.778556      0.620319     0.624826   \n",
              "Average        0.778104       0.776145      0.619225     0.616633   \n",
              "\n",
              "         Train Precision  Test Precision  \n",
              "0               0.804460        0.809406  \n",
              "1               0.808535        0.794690  \n",
              "2               0.807612        0.813725  \n",
              "3               0.807892        0.817157  \n",
              "4               0.809157        0.792719  \n",
              "5               0.808397        0.812777  \n",
              "6               0.807672        0.807082  \n",
              "7               0.806244        0.805889  \n",
              "8               0.809151        0.795116  \n",
              "9               0.806907        0.802388  \n",
              "Average         0.807603        0.805095  "
            ],
            "text/html": [
              "\n",
              "  <div id=\"df-78bd3860-f715-4c02-9be5-7394b1e96c25\">\n",
              "    <div class=\"colab-df-container\">\n",
              "      <div>\n",
              "<style scoped>\n",
              "    .dataframe tbody tr th:only-of-type {\n",
              "        vertical-align: middle;\n",
              "    }\n",
              "\n",
              "    .dataframe tbody tr th {\n",
              "        vertical-align: top;\n",
              "    }\n",
              "\n",
              "    .dataframe thead th {\n",
              "        text-align: right;\n",
              "    }\n",
              "</style>\n",
              "<table border=\"1\" class=\"dataframe\">\n",
              "  <thead>\n",
              "    <tr style=\"text-align: right;\">\n",
              "      <th></th>\n",
              "      <th>Train Accuracy</th>\n",
              "      <th>Test Accuracy</th>\n",
              "      <th>Train ROC AUC</th>\n",
              "      <th>Test ROC AUC</th>\n",
              "      <th>Train F1 Score</th>\n",
              "      <th>Test F1 Score</th>\n",
              "      <th>Train Recall</th>\n",
              "      <th>Test Recall</th>\n",
              "      <th>Train Precision</th>\n",
              "      <th>Test Precision</th>\n",
              "    </tr>\n",
              "  </thead>\n",
              "  <tbody>\n",
              "    <tr>\n",
              "      <th>0</th>\n",
              "      <td>0.804707</td>\n",
              "      <td>0.802266</td>\n",
              "      <td>0.862671</td>\n",
              "      <td>0.864445</td>\n",
              "      <td>0.778316</td>\n",
              "      <td>0.774074</td>\n",
              "      <td>0.622417</td>\n",
              "      <td>0.607807</td>\n",
              "      <td>0.804460</td>\n",
              "      <td>0.809406</td>\n",
              "    </tr>\n",
              "    <tr>\n",
              "      <th>1</th>\n",
              "      <td>0.804765</td>\n",
              "      <td>0.802094</td>\n",
              "      <td>0.862260</td>\n",
              "      <td>0.861560</td>\n",
              "      <td>0.777736</td>\n",
              "      <td>0.776280</td>\n",
              "      <td>0.617510</td>\n",
              "      <td>0.625929</td>\n",
              "      <td>0.808535</td>\n",
              "      <td>0.794690</td>\n",
              "    </tr>\n",
              "    <tr>\n",
              "      <th>2</th>\n",
              "      <td>0.804612</td>\n",
              "      <td>0.806557</td>\n",
              "      <td>0.862431</td>\n",
              "      <td>0.862925</td>\n",
              "      <td>0.777677</td>\n",
              "      <td>0.779434</td>\n",
              "      <td>0.618150</td>\n",
              "      <td>0.617387</td>\n",
              "      <td>0.807612</td>\n",
              "      <td>0.813725</td>\n",
              "    </tr>\n",
              "    <tr>\n",
              "      <th>3</th>\n",
              "      <td>0.804536</td>\n",
              "      <td>0.804669</td>\n",
              "      <td>0.862367</td>\n",
              "      <td>0.863087</td>\n",
              "      <td>0.777523</td>\n",
              "      <td>0.776197</td>\n",
              "      <td>0.617530</td>\n",
              "      <td>0.606695</td>\n",
              "      <td>0.807892</td>\n",
              "      <td>0.817157</td>\n",
              "    </tr>\n",
              "    <tr>\n",
              "      <th>4</th>\n",
              "      <td>0.805356</td>\n",
              "      <td>0.801922</td>\n",
              "      <td>0.862833</td>\n",
              "      <td>0.860691</td>\n",
              "      <td>0.778486</td>\n",
              "      <td>0.776292</td>\n",
              "      <td>0.618873</td>\n",
              "      <td>0.627615</td>\n",
              "      <td>0.809157</td>\n",
              "      <td>0.792719</td>\n",
              "    </tr>\n",
              "    <tr>\n",
              "      <th>5</th>\n",
              "      <td>0.804730</td>\n",
              "      <td>0.800515</td>\n",
              "      <td>0.864211</td>\n",
              "      <td>0.846884</td>\n",
              "      <td>0.777715</td>\n",
              "      <td>0.770942</td>\n",
              "      <td>0.617582</td>\n",
              "      <td>0.597397</td>\n",
              "      <td>0.808397</td>\n",
              "      <td>0.812777</td>\n",
              "    </tr>\n",
              "    <tr>\n",
              "      <th>6</th>\n",
              "      <td>0.805131</td>\n",
              "      <td>0.803433</td>\n",
              "      <td>0.863687</td>\n",
              "      <td>0.852906</td>\n",
              "      <td>0.778402</td>\n",
              "      <td>0.776077</td>\n",
              "      <td>0.619906</td>\n",
              "      <td>0.614598</td>\n",
              "      <td>0.807672</td>\n",
              "      <td>0.807082</td>\n",
              "    </tr>\n",
              "    <tr>\n",
              "      <th>7</th>\n",
              "      <td>0.805093</td>\n",
              "      <td>0.805494</td>\n",
              "      <td>0.863168</td>\n",
              "      <td>0.856561</td>\n",
              "      <td>0.778578</td>\n",
              "      <td>0.779203</td>\n",
              "      <td>0.621559</td>\n",
              "      <td>0.623431</td>\n",
              "      <td>0.806244</td>\n",
              "      <td>0.805889</td>\n",
              "    </tr>\n",
              "    <tr>\n",
              "      <th>8</th>\n",
              "      <td>0.805226</td>\n",
              "      <td>0.800858</td>\n",
              "      <td>0.863495</td>\n",
              "      <td>0.855104</td>\n",
              "      <td>0.778300</td>\n",
              "      <td>0.774395</td>\n",
              "      <td>0.618408</td>\n",
              "      <td>0.620642</td>\n",
              "      <td>0.809151</td>\n",
              "      <td>0.795116</td>\n",
              "    </tr>\n",
              "    <tr>\n",
              "      <th>9</th>\n",
              "      <td>0.804978</td>\n",
              "      <td>0.804635</td>\n",
              "      <td>0.862742</td>\n",
              "      <td>0.861349</td>\n",
              "      <td>0.778309</td>\n",
              "      <td>0.778556</td>\n",
              "      <td>0.620319</td>\n",
              "      <td>0.624826</td>\n",
              "      <td>0.806907</td>\n",
              "      <td>0.802388</td>\n",
              "    </tr>\n",
              "    <tr>\n",
              "      <th>Average</th>\n",
              "      <td>0.804913</td>\n",
              "      <td>0.803244</td>\n",
              "      <td>0.862986</td>\n",
              "      <td>0.858551</td>\n",
              "      <td>0.778104</td>\n",
              "      <td>0.776145</td>\n",
              "      <td>0.619225</td>\n",
              "      <td>0.616633</td>\n",
              "      <td>0.807603</td>\n",
              "      <td>0.805095</td>\n",
              "    </tr>\n",
              "  </tbody>\n",
              "</table>\n",
              "</div>\n",
              "      <button class=\"colab-df-convert\" onclick=\"convertToInteractive('df-78bd3860-f715-4c02-9be5-7394b1e96c25')\"\n",
              "              title=\"Convert this dataframe to an interactive table.\"\n",
              "              style=\"display:none;\">\n",
              "        \n",
              "  <svg xmlns=\"http://www.w3.org/2000/svg\" height=\"24px\"viewBox=\"0 0 24 24\"\n",
              "       width=\"24px\">\n",
              "    <path d=\"M0 0h24v24H0V0z\" fill=\"none\"/>\n",
              "    <path d=\"M18.56 5.44l.94 2.06.94-2.06 2.06-.94-2.06-.94-.94-2.06-.94 2.06-2.06.94zm-11 1L8.5 8.5l.94-2.06 2.06-.94-2.06-.94L8.5 2.5l-.94 2.06-2.06.94zm10 10l.94 2.06.94-2.06 2.06-.94-2.06-.94-.94-2.06-.94 2.06-2.06.94z\"/><path d=\"M17.41 7.96l-1.37-1.37c-.4-.4-.92-.59-1.43-.59-.52 0-1.04.2-1.43.59L10.3 9.45l-7.72 7.72c-.78.78-.78 2.05 0 2.83L4 21.41c.39.39.9.59 1.41.59.51 0 1.02-.2 1.41-.59l7.78-7.78 2.81-2.81c.8-.78.8-2.07 0-2.86zM5.41 20L4 18.59l7.72-7.72 1.47 1.35L5.41 20z\"/>\n",
              "  </svg>\n",
              "      </button>\n",
              "      \n",
              "  <style>\n",
              "    .colab-df-container {\n",
              "      display:flex;\n",
              "      flex-wrap:wrap;\n",
              "      gap: 12px;\n",
              "    }\n",
              "\n",
              "    .colab-df-convert {\n",
              "      background-color: #E8F0FE;\n",
              "      border: none;\n",
              "      border-radius: 50%;\n",
              "      cursor: pointer;\n",
              "      display: none;\n",
              "      fill: #1967D2;\n",
              "      height: 32px;\n",
              "      padding: 0 0 0 0;\n",
              "      width: 32px;\n",
              "    }\n",
              "\n",
              "    .colab-df-convert:hover {\n",
              "      background-color: #E2EBFA;\n",
              "      box-shadow: 0px 1px 2px rgba(60, 64, 67, 0.3), 0px 1px 3px 1px rgba(60, 64, 67, 0.15);\n",
              "      fill: #174EA6;\n",
              "    }\n",
              "\n",
              "    [theme=dark] .colab-df-convert {\n",
              "      background-color: #3B4455;\n",
              "      fill: #D2E3FC;\n",
              "    }\n",
              "\n",
              "    [theme=dark] .colab-df-convert:hover {\n",
              "      background-color: #434B5C;\n",
              "      box-shadow: 0px 1px 3px 1px rgba(0, 0, 0, 0.15);\n",
              "      filter: drop-shadow(0px 1px 2px rgba(0, 0, 0, 0.3));\n",
              "      fill: #FFFFFF;\n",
              "    }\n",
              "  </style>\n",
              "\n",
              "      <script>\n",
              "        const buttonEl =\n",
              "          document.querySelector('#df-78bd3860-f715-4c02-9be5-7394b1e96c25 button.colab-df-convert');\n",
              "        buttonEl.style.display =\n",
              "          google.colab.kernel.accessAllowed ? 'block' : 'none';\n",
              "\n",
              "        async function convertToInteractive(key) {\n",
              "          const element = document.querySelector('#df-78bd3860-f715-4c02-9be5-7394b1e96c25');\n",
              "          const dataTable =\n",
              "            await google.colab.kernel.invokeFunction('convertToInteractive',\n",
              "                                                     [key], {});\n",
              "          if (!dataTable) return;\n",
              "\n",
              "          const docLinkHtml = 'Like what you see? Visit the ' +\n",
              "            '<a target=\"_blank\" href=https://colab.research.google.com/notebooks/data_table.ipynb>data table notebook</a>'\n",
              "            + ' to learn more about interactive tables.';\n",
              "          element.innerHTML = '';\n",
              "          dataTable['output_type'] = 'display_data';\n",
              "          await google.colab.output.renderOutput(dataTable, element);\n",
              "          const docLink = document.createElement('div');\n",
              "          docLink.innerHTML = docLinkHtml;\n",
              "          element.appendChild(docLink);\n",
              "        }\n",
              "      </script>\n",
              "    </div>\n",
              "  </div>\n",
              "  "
            ]
          },
          "metadata": {},
          "execution_count": 303
        }
      ],
      "source": [
        "listItem = []\n",
        "\n",
        "for tr,val in zip(train_errors_without_oversampling,validation_errors_without_oversampling) :\n",
        "    listItem.append([tr['accuracy'],val['accuracy'],tr['roc'],val['roc'],tr['f1'],val['f1'],\n",
        "                     tr['recall'],val['recall'],tr['precision'],val['precision']])\n",
        "\n",
        "listItem.append(list(np.mean(listItem,axis=0)))\n",
        "    \n",
        "dfEvaluate = pd.DataFrame(listItem, \n",
        "                    columns=['Train Accuracy', \n",
        "                            'Test Accuracy', \n",
        "                            'Train ROC AUC', \n",
        "                            'Test ROC AUC', \n",
        "                            'Train F1 Score',\n",
        "                            'Test F1 Score',\n",
        "                            'Train Recall',\n",
        "                            'Test Recall',\n",
        "                            'Train Precision',\n",
        "                            'Test Precision'])\n",
        "\n",
        "listIndex = list(dfEvaluate.index)\n",
        "listIndex[-1] = 'Average'\n",
        "dfEvaluate.index = listIndex\n",
        "dfEvaluate"
      ]
    },
    {
      "cell_type": "markdown",
      "metadata": {
        "id": "gFM4Hp2CQW59"
      },
      "source": [
        "#### Evaluation Metrics With Oversampling"
      ]
    },
    {
      "cell_type": "code",
      "execution_count": 304,
      "metadata": {
        "id": "sE6Bm-A7QW59",
        "outputId": "3b7f9a1e-42ec-4a7e-ee7a-4b85a12b945f",
        "colab": {
          "base_uri": "https://localhost:8080/",
          "height": 456
        }
      },
      "outputs": [
        {
          "output_type": "execute_result",
          "data": {
            "text/plain": [
              "         Train Accuracy  Test Accuracy  Train ROC AUC  Test ROC AUC  \\\n",
              "0              0.771281       0.802437       0.862842      0.864184   \n",
              "1              0.771312       0.794370       0.862963      0.861693   \n",
              "2              0.769626       0.803296       0.862797      0.861910   \n",
              "3              0.771637       0.803124       0.863457      0.863027   \n",
              "4              0.770458       0.795572       0.863311      0.860297   \n",
              "5              0.770661       0.792961       0.864765      0.847158   \n",
              "6              0.772476       0.796738       0.865328      0.851935   \n",
              "7              0.771569       0.798283       0.863297      0.856308   \n",
              "8              0.771962       0.793476       0.864839      0.855155   \n",
              "9              0.772249       0.799485       0.864446      0.861458   \n",
              "Average        0.771323       0.797974       0.863804      0.858313   \n",
              "\n",
              "         Train F1 Score  Test F1 Score  Train Recall  Test Recall  \\\n",
              "0              0.768365       0.778841      0.659076     0.644052   \n",
              "1              0.768206       0.772723      0.655569     0.657528   \n",
              "2              0.765920       0.779217      0.643795     0.640632   \n",
              "3              0.768363       0.778996      0.652746     0.640167   \n",
              "4              0.766946       0.773329      0.647696     0.653185   \n",
              "5              0.767438       0.767696      0.652938     0.627150   \n",
              "6              0.769632       0.774399      0.661375     0.652720   \n",
              "7              0.768473       0.776247      0.655932     0.655974   \n",
              "8              0.769170       0.772152      0.661979     0.660158   \n",
              "9              0.769160       0.777447      0.656567     0.656439   \n",
              "Average        0.768167       0.775105      0.654767     0.648800   \n",
              "\n",
              "         Train Precision  Test Precision  \n",
              "0               0.849774        0.782609  \n",
              "1               0.853034        0.754264  \n",
              "2               0.860301        0.786979  \n",
              "3               0.856378        0.786857  \n",
              "4               0.858471        0.759459  \n",
              "5               0.854013        0.769538  \n",
              "6               0.850317        0.762629  \n",
              "7               0.853271        0.764355  \n",
              "8               0.848653        0.750529  \n",
              "9               0.854198        0.766974  \n",
              "Average         0.853841        0.768419  "
            ],
            "text/html": [
              "\n",
              "  <div id=\"df-ad9f4160-9563-43b9-b68e-c5e957b15d43\">\n",
              "    <div class=\"colab-df-container\">\n",
              "      <div>\n",
              "<style scoped>\n",
              "    .dataframe tbody tr th:only-of-type {\n",
              "        vertical-align: middle;\n",
              "    }\n",
              "\n",
              "    .dataframe tbody tr th {\n",
              "        vertical-align: top;\n",
              "    }\n",
              "\n",
              "    .dataframe thead th {\n",
              "        text-align: right;\n",
              "    }\n",
              "</style>\n",
              "<table border=\"1\" class=\"dataframe\">\n",
              "  <thead>\n",
              "    <tr style=\"text-align: right;\">\n",
              "      <th></th>\n",
              "      <th>Train Accuracy</th>\n",
              "      <th>Test Accuracy</th>\n",
              "      <th>Train ROC AUC</th>\n",
              "      <th>Test ROC AUC</th>\n",
              "      <th>Train F1 Score</th>\n",
              "      <th>Test F1 Score</th>\n",
              "      <th>Train Recall</th>\n",
              "      <th>Test Recall</th>\n",
              "      <th>Train Precision</th>\n",
              "      <th>Test Precision</th>\n",
              "    </tr>\n",
              "  </thead>\n",
              "  <tbody>\n",
              "    <tr>\n",
              "      <th>0</th>\n",
              "      <td>0.771281</td>\n",
              "      <td>0.802437</td>\n",
              "      <td>0.862842</td>\n",
              "      <td>0.864184</td>\n",
              "      <td>0.768365</td>\n",
              "      <td>0.778841</td>\n",
              "      <td>0.659076</td>\n",
              "      <td>0.644052</td>\n",
              "      <td>0.849774</td>\n",
              "      <td>0.782609</td>\n",
              "    </tr>\n",
              "    <tr>\n",
              "      <th>1</th>\n",
              "      <td>0.771312</td>\n",
              "      <td>0.794370</td>\n",
              "      <td>0.862963</td>\n",
              "      <td>0.861693</td>\n",
              "      <td>0.768206</td>\n",
              "      <td>0.772723</td>\n",
              "      <td>0.655569</td>\n",
              "      <td>0.657528</td>\n",
              "      <td>0.853034</td>\n",
              "      <td>0.754264</td>\n",
              "    </tr>\n",
              "    <tr>\n",
              "      <th>2</th>\n",
              "      <td>0.769626</td>\n",
              "      <td>0.803296</td>\n",
              "      <td>0.862797</td>\n",
              "      <td>0.861910</td>\n",
              "      <td>0.765920</td>\n",
              "      <td>0.779217</td>\n",
              "      <td>0.643795</td>\n",
              "      <td>0.640632</td>\n",
              "      <td>0.860301</td>\n",
              "      <td>0.786979</td>\n",
              "    </tr>\n",
              "    <tr>\n",
              "      <th>3</th>\n",
              "      <td>0.771637</td>\n",
              "      <td>0.803124</td>\n",
              "      <td>0.863457</td>\n",
              "      <td>0.863027</td>\n",
              "      <td>0.768363</td>\n",
              "      <td>0.778996</td>\n",
              "      <td>0.652746</td>\n",
              "      <td>0.640167</td>\n",
              "      <td>0.856378</td>\n",
              "      <td>0.786857</td>\n",
              "    </tr>\n",
              "    <tr>\n",
              "      <th>4</th>\n",
              "      <td>0.770458</td>\n",
              "      <td>0.795572</td>\n",
              "      <td>0.863311</td>\n",
              "      <td>0.860297</td>\n",
              "      <td>0.766946</td>\n",
              "      <td>0.773329</td>\n",
              "      <td>0.647696</td>\n",
              "      <td>0.653185</td>\n",
              "      <td>0.858471</td>\n",
              "      <td>0.759459</td>\n",
              "    </tr>\n",
              "    <tr>\n",
              "      <th>5</th>\n",
              "      <td>0.770661</td>\n",
              "      <td>0.792961</td>\n",
              "      <td>0.864765</td>\n",
              "      <td>0.847158</td>\n",
              "      <td>0.767438</td>\n",
              "      <td>0.767696</td>\n",
              "      <td>0.652938</td>\n",
              "      <td>0.627150</td>\n",
              "      <td>0.854013</td>\n",
              "      <td>0.769538</td>\n",
              "    </tr>\n",
              "    <tr>\n",
              "      <th>6</th>\n",
              "      <td>0.772476</td>\n",
              "      <td>0.796738</td>\n",
              "      <td>0.865328</td>\n",
              "      <td>0.851935</td>\n",
              "      <td>0.769632</td>\n",
              "      <td>0.774399</td>\n",
              "      <td>0.661375</td>\n",
              "      <td>0.652720</td>\n",
              "      <td>0.850317</td>\n",
              "      <td>0.762629</td>\n",
              "    </tr>\n",
              "    <tr>\n",
              "      <th>7</th>\n",
              "      <td>0.771569</td>\n",
              "      <td>0.798283</td>\n",
              "      <td>0.863297</td>\n",
              "      <td>0.856308</td>\n",
              "      <td>0.768473</td>\n",
              "      <td>0.776247</td>\n",
              "      <td>0.655932</td>\n",
              "      <td>0.655974</td>\n",
              "      <td>0.853271</td>\n",
              "      <td>0.764355</td>\n",
              "    </tr>\n",
              "    <tr>\n",
              "      <th>8</th>\n",
              "      <td>0.771962</td>\n",
              "      <td>0.793476</td>\n",
              "      <td>0.864839</td>\n",
              "      <td>0.855155</td>\n",
              "      <td>0.769170</td>\n",
              "      <td>0.772152</td>\n",
              "      <td>0.661979</td>\n",
              "      <td>0.660158</td>\n",
              "      <td>0.848653</td>\n",
              "      <td>0.750529</td>\n",
              "    </tr>\n",
              "    <tr>\n",
              "      <th>9</th>\n",
              "      <td>0.772249</td>\n",
              "      <td>0.799485</td>\n",
              "      <td>0.864446</td>\n",
              "      <td>0.861458</td>\n",
              "      <td>0.769160</td>\n",
              "      <td>0.777447</td>\n",
              "      <td>0.656567</td>\n",
              "      <td>0.656439</td>\n",
              "      <td>0.854198</td>\n",
              "      <td>0.766974</td>\n",
              "    </tr>\n",
              "    <tr>\n",
              "      <th>Average</th>\n",
              "      <td>0.771323</td>\n",
              "      <td>0.797974</td>\n",
              "      <td>0.863804</td>\n",
              "      <td>0.858313</td>\n",
              "      <td>0.768167</td>\n",
              "      <td>0.775105</td>\n",
              "      <td>0.654767</td>\n",
              "      <td>0.648800</td>\n",
              "      <td>0.853841</td>\n",
              "      <td>0.768419</td>\n",
              "    </tr>\n",
              "  </tbody>\n",
              "</table>\n",
              "</div>\n",
              "      <button class=\"colab-df-convert\" onclick=\"convertToInteractive('df-ad9f4160-9563-43b9-b68e-c5e957b15d43')\"\n",
              "              title=\"Convert this dataframe to an interactive table.\"\n",
              "              style=\"display:none;\">\n",
              "        \n",
              "  <svg xmlns=\"http://www.w3.org/2000/svg\" height=\"24px\"viewBox=\"0 0 24 24\"\n",
              "       width=\"24px\">\n",
              "    <path d=\"M0 0h24v24H0V0z\" fill=\"none\"/>\n",
              "    <path d=\"M18.56 5.44l.94 2.06.94-2.06 2.06-.94-2.06-.94-.94-2.06-.94 2.06-2.06.94zm-11 1L8.5 8.5l.94-2.06 2.06-.94-2.06-.94L8.5 2.5l-.94 2.06-2.06.94zm10 10l.94 2.06.94-2.06 2.06-.94-2.06-.94-.94-2.06-.94 2.06-2.06.94z\"/><path d=\"M17.41 7.96l-1.37-1.37c-.4-.4-.92-.59-1.43-.59-.52 0-1.04.2-1.43.59L10.3 9.45l-7.72 7.72c-.78.78-.78 2.05 0 2.83L4 21.41c.39.39.9.59 1.41.59.51 0 1.02-.2 1.41-.59l7.78-7.78 2.81-2.81c.8-.78.8-2.07 0-2.86zM5.41 20L4 18.59l7.72-7.72 1.47 1.35L5.41 20z\"/>\n",
              "  </svg>\n",
              "      </button>\n",
              "      \n",
              "  <style>\n",
              "    .colab-df-container {\n",
              "      display:flex;\n",
              "      flex-wrap:wrap;\n",
              "      gap: 12px;\n",
              "    }\n",
              "\n",
              "    .colab-df-convert {\n",
              "      background-color: #E8F0FE;\n",
              "      border: none;\n",
              "      border-radius: 50%;\n",
              "      cursor: pointer;\n",
              "      display: none;\n",
              "      fill: #1967D2;\n",
              "      height: 32px;\n",
              "      padding: 0 0 0 0;\n",
              "      width: 32px;\n",
              "    }\n",
              "\n",
              "    .colab-df-convert:hover {\n",
              "      background-color: #E2EBFA;\n",
              "      box-shadow: 0px 1px 2px rgba(60, 64, 67, 0.3), 0px 1px 3px 1px rgba(60, 64, 67, 0.15);\n",
              "      fill: #174EA6;\n",
              "    }\n",
              "\n",
              "    [theme=dark] .colab-df-convert {\n",
              "      background-color: #3B4455;\n",
              "      fill: #D2E3FC;\n",
              "    }\n",
              "\n",
              "    [theme=dark] .colab-df-convert:hover {\n",
              "      background-color: #434B5C;\n",
              "      box-shadow: 0px 1px 3px 1px rgba(0, 0, 0, 0.15);\n",
              "      filter: drop-shadow(0px 1px 2px rgba(0, 0, 0, 0.3));\n",
              "      fill: #FFFFFF;\n",
              "    }\n",
              "  </style>\n",
              "\n",
              "      <script>\n",
              "        const buttonEl =\n",
              "          document.querySelector('#df-ad9f4160-9563-43b9-b68e-c5e957b15d43 button.colab-df-convert');\n",
              "        buttonEl.style.display =\n",
              "          google.colab.kernel.accessAllowed ? 'block' : 'none';\n",
              "\n",
              "        async function convertToInteractive(key) {\n",
              "          const element = document.querySelector('#df-ad9f4160-9563-43b9-b68e-c5e957b15d43');\n",
              "          const dataTable =\n",
              "            await google.colab.kernel.invokeFunction('convertToInteractive',\n",
              "                                                     [key], {});\n",
              "          if (!dataTable) return;\n",
              "\n",
              "          const docLinkHtml = 'Like what you see? Visit the ' +\n",
              "            '<a target=\"_blank\" href=https://colab.research.google.com/notebooks/data_table.ipynb>data table notebook</a>'\n",
              "            + ' to learn more about interactive tables.';\n",
              "          element.innerHTML = '';\n",
              "          dataTable['output_type'] = 'display_data';\n",
              "          await google.colab.output.renderOutput(dataTable, element);\n",
              "          const docLink = document.createElement('div');\n",
              "          docLink.innerHTML = docLinkHtml;\n",
              "          element.appendChild(docLink);\n",
              "        }\n",
              "      </script>\n",
              "    </div>\n",
              "  </div>\n",
              "  "
            ]
          },
          "metadata": {},
          "execution_count": 304
        }
      ],
      "source": [
        "listItem = []\n",
        "\n",
        "for tr,val in zip(train_errors_with_oversampling,validation_errors_with_oversampling) :\n",
        "    listItem.append([tr['accuracy'],val['accuracy'],tr['roc'],val['roc'],tr['f1'],val['f1'],\n",
        "                     tr['recall'],val['recall'],tr['precision'],val['precision']])\n",
        "\n",
        "listItem.append(list(np.mean(listItem,axis=0)))\n",
        "    \n",
        "dfEvaluate = pd.DataFrame(listItem, \n",
        "                    columns=['Train Accuracy', \n",
        "                            'Test Accuracy', \n",
        "                            'Train ROC AUC', \n",
        "                            'Test ROC AUC', \n",
        "                            'Train F1 Score',\n",
        "                            'Test F1 Score',\n",
        "                            'Train Recall',\n",
        "                            'Test Recall',\n",
        "                            'Train Precision',\n",
        "                            'Test Precision'])\n",
        "\n",
        "listIndex = list(dfEvaluate.index)\n",
        "listIndex[-1] = 'Average'\n",
        "dfEvaluate.index = listIndex\n",
        "dfEvaluate"
      ]
    },
    {
      "cell_type": "markdown",
      "metadata": {
        "id": "In86Ywg1QW59"
      },
      "source": [
        "Terlihat bahwa hasil evaluation metricsnya untuk recall dari class positive lebih baik setelah di oversampling dari yang tidak di oversampling tetapi precisionnya tebakan class positive menjadi sedikit lebih buruk. \n",
        "\n",
        "Ini masuk akal karena class positive datanya kita perbanyak menjadi sama dengan jumlah data dari class negative, dimana ini biasa memang akan membuat recall dari class yg minoritas naik tetapi otomatis biasa precisionnya juga akan turun sebagai dampaknya. Tetapi untuk kasus kali ini recallnya naik lebih tinggi dari pada precisionnya yang turun. Dan dampak ini terhadap kasus permasalahan kita berarti model kita setelah di oversampling, menjadi mendapatkan potensial cancel booking yang lebih banyak dari sebelumnya, tetapi sedikit berkurang dalam ketepatan/precision tebakannya untuk cancel booking, yang menyebabkan opportunity cost hotel yang terbuang.\n",
        "\n",
        "Mari sekarang kita lihat juga classification reportsnya."
      ]
    },
    {
      "cell_type": "markdown",
      "metadata": {
        "id": "JX_tGgp7QW59"
      },
      "source": [
        "#### Classification Reports Without Oversampling"
      ]
    },
    {
      "cell_type": "code",
      "execution_count": 305,
      "metadata": {
        "id": "B04kGdFpQW59",
        "outputId": "50353d28-180b-4755-b74a-7390695404be",
        "colab": {
          "base_uri": "https://localhost:8080/"
        }
      },
      "outputs": [
        {
          "output_type": "stream",
          "name": "stdout",
          "text": [
            "              precision    recall  f1-score   support\n",
            "\n",
            "           0       0.80      0.92      0.85      3674\n",
            "           1       0.81      0.61      0.69      2152\n",
            "\n",
            "    accuracy                           0.80      5826\n",
            "   macro avg       0.80      0.76      0.77      5826\n",
            "weighted avg       0.80      0.80      0.79      5826\n",
            "\n",
            "              precision    recall  f1-score   support\n",
            "\n",
            "           0       0.81      0.91      0.85      3674\n",
            "           1       0.79      0.63      0.70      2152\n",
            "\n",
            "    accuracy                           0.80      5826\n",
            "   macro avg       0.80      0.77      0.78      5826\n",
            "weighted avg       0.80      0.80      0.80      5826\n",
            "\n",
            "              precision    recall  f1-score   support\n",
            "\n",
            "           0       0.80      0.92      0.86      3675\n",
            "           1       0.81      0.62      0.70      2151\n",
            "\n",
            "    accuracy                           0.81      5826\n",
            "   macro avg       0.81      0.77      0.78      5826\n",
            "weighted avg       0.81      0.81      0.80      5826\n",
            "\n",
            "              precision    recall  f1-score   support\n",
            "\n",
            "           0       0.80      0.92      0.86      3675\n",
            "           1       0.82      0.61      0.70      2151\n",
            "\n",
            "    accuracy                           0.80      5826\n",
            "   macro avg       0.81      0.76      0.78      5826\n",
            "weighted avg       0.81      0.80      0.80      5826\n",
            "\n",
            "              precision    recall  f1-score   support\n",
            "\n",
            "           0       0.81      0.90      0.85      3675\n",
            "           1       0.79      0.63      0.70      2151\n",
            "\n",
            "    accuracy                           0.80      5826\n",
            "   macro avg       0.80      0.77      0.78      5826\n",
            "weighted avg       0.80      0.80      0.80      5826\n",
            "\n",
            "              precision    recall  f1-score   support\n",
            "\n",
            "           0       0.80      0.92      0.85      3674\n",
            "           1       0.81      0.60      0.69      2151\n",
            "\n",
            "    accuracy                           0.80      5825\n",
            "   macro avg       0.80      0.76      0.77      5825\n",
            "weighted avg       0.80      0.80      0.79      5825\n",
            "\n",
            "              precision    recall  f1-score   support\n",
            "\n",
            "           0       0.80      0.91      0.85      3674\n",
            "           1       0.81      0.61      0.70      2151\n",
            "\n",
            "    accuracy                           0.80      5825\n",
            "   macro avg       0.80      0.76      0.78      5825\n",
            "weighted avg       0.80      0.80      0.80      5825\n",
            "\n",
            "              precision    recall  f1-score   support\n",
            "\n",
            "           0       0.81      0.91      0.86      3674\n",
            "           1       0.81      0.62      0.70      2151\n",
            "\n",
            "    accuracy                           0.81      5825\n",
            "   macro avg       0.81      0.77      0.78      5825\n",
            "weighted avg       0.81      0.81      0.80      5825\n",
            "\n",
            "              precision    recall  f1-score   support\n",
            "\n",
            "           0       0.80      0.91      0.85      3674\n",
            "           1       0.80      0.62      0.70      2151\n",
            "\n",
            "    accuracy                           0.80      5825\n",
            "   macro avg       0.80      0.76      0.77      5825\n",
            "weighted avg       0.80      0.80      0.79      5825\n",
            "\n",
            "              precision    recall  f1-score   support\n",
            "\n",
            "           0       0.81      0.91      0.85      3674\n",
            "           1       0.80      0.62      0.70      2151\n",
            "\n",
            "    accuracy                           0.80      5825\n",
            "   macro avg       0.80      0.77      0.78      5825\n",
            "weighted avg       0.80      0.80      0.80      5825\n",
            "\n"
          ]
        }
      ],
      "source": [
        "for rep in validation_errors_without_oversampling :\n",
        "    print(rep['report'])"
      ]
    },
    {
      "cell_type": "markdown",
      "metadata": {
        "id": "DDUNL1xyQW59"
      },
      "source": [
        "#### Classification Reports With Oversampling"
      ]
    },
    {
      "cell_type": "code",
      "execution_count": 306,
      "metadata": {
        "id": "c9JH4ZSAQW5-",
        "outputId": "14af39bb-3e56-4621-8f8e-d8950f72a4be",
        "colab": {
          "base_uri": "https://localhost:8080/"
        }
      },
      "outputs": [
        {
          "output_type": "stream",
          "name": "stdout",
          "text": [
            "              precision    recall  f1-score   support\n",
            "\n",
            "           0       0.81      0.90      0.85      3674\n",
            "           1       0.78      0.64      0.71      2152\n",
            "\n",
            "    accuracy                           0.80      5826\n",
            "   macro avg       0.80      0.77      0.78      5826\n",
            "weighted avg       0.80      0.80      0.80      5826\n",
            "\n",
            "              precision    recall  f1-score   support\n",
            "\n",
            "           0       0.81      0.87      0.84      3674\n",
            "           1       0.75      0.66      0.70      2152\n",
            "\n",
            "    accuracy                           0.79      5826\n",
            "   macro avg       0.78      0.77      0.77      5826\n",
            "weighted avg       0.79      0.79      0.79      5826\n",
            "\n",
            "              precision    recall  f1-score   support\n",
            "\n",
            "           0       0.81      0.90      0.85      3675\n",
            "           1       0.79      0.64      0.71      2151\n",
            "\n",
            "    accuracy                           0.80      5826\n",
            "   macro avg       0.80      0.77      0.78      5826\n",
            "weighted avg       0.80      0.80      0.80      5826\n",
            "\n",
            "              precision    recall  f1-score   support\n",
            "\n",
            "           0       0.81      0.90      0.85      3675\n",
            "           1       0.79      0.64      0.71      2151\n",
            "\n",
            "    accuracy                           0.80      5826\n",
            "   macro avg       0.80      0.77      0.78      5826\n",
            "weighted avg       0.80      0.80      0.80      5826\n",
            "\n",
            "              precision    recall  f1-score   support\n",
            "\n",
            "           0       0.81      0.88      0.84      3675\n",
            "           1       0.76      0.65      0.70      2151\n",
            "\n",
            "    accuracy                           0.80      5826\n",
            "   macro avg       0.79      0.77      0.77      5826\n",
            "weighted avg       0.79      0.80      0.79      5826\n",
            "\n",
            "              precision    recall  f1-score   support\n",
            "\n",
            "           0       0.80      0.89      0.84      3674\n",
            "           1       0.77      0.63      0.69      2151\n",
            "\n",
            "    accuracy                           0.79      5825\n",
            "   macro avg       0.79      0.76      0.77      5825\n",
            "weighted avg       0.79      0.79      0.79      5825\n",
            "\n",
            "              precision    recall  f1-score   support\n",
            "\n",
            "           0       0.81      0.88      0.85      3674\n",
            "           1       0.76      0.65      0.70      2151\n",
            "\n",
            "    accuracy                           0.80      5825\n",
            "   macro avg       0.79      0.77      0.77      5825\n",
            "weighted avg       0.79      0.80      0.79      5825\n",
            "\n",
            "              precision    recall  f1-score   support\n",
            "\n",
            "           0       0.81      0.88      0.85      3674\n",
            "           1       0.76      0.66      0.71      2151\n",
            "\n",
            "    accuracy                           0.80      5825\n",
            "   macro avg       0.79      0.77      0.78      5825\n",
            "weighted avg       0.80      0.80      0.79      5825\n",
            "\n",
            "              precision    recall  f1-score   support\n",
            "\n",
            "           0       0.81      0.87      0.84      3674\n",
            "           1       0.75      0.66      0.70      2151\n",
            "\n",
            "    accuracy                           0.79      5825\n",
            "   macro avg       0.78      0.77      0.77      5825\n",
            "weighted avg       0.79      0.79      0.79      5825\n",
            "\n",
            "              precision    recall  f1-score   support\n",
            "\n",
            "           0       0.81      0.88      0.85      3674\n",
            "           1       0.77      0.66      0.71      2151\n",
            "\n",
            "    accuracy                           0.80      5825\n",
            "   macro avg       0.79      0.77      0.78      5825\n",
            "weighted avg       0.80      0.80      0.80      5825\n",
            "\n"
          ]
        }
      ],
      "source": [
        "for rep in validation_errors_with_oversampling :\n",
        "    print(rep['report'])"
      ]
    },
    {
      "cell_type": "markdown",
      "metadata": {
        "id": "3_MDv5DdQW5-"
      },
      "source": [
        "Terlihat bahwa model yang setelah di oversampling memiliki recall dari kedua class yang lebih seimbang. Oleh karena itu untuk kasus kali ini, mari kita gunakan model yang menggunakan oversampling (menggunakan asumsi yang kedua (yaitu kita membutuhkan booking potensial yang lebih banyak)).\n",
        "\n",
        "Sekarang mari kita coba melakukan hyperparameter tuning pada model LightGBM kita untuk mendapatkan hasil yang lebih baik lagi."
      ]
    },
    {
      "cell_type": "markdown",
      "metadata": {
        "id": "SCRf4VWPQW5-"
      },
      "source": [
        "### Hyperparameter Tuning"
      ]
    },
    {
      "cell_type": "code",
      "execution_count": 307,
      "metadata": {
        "id": "QAv7dasjQW5-"
      },
      "outputs": [],
      "source": [
        "lgbm = lgb.LGBMClassifier()\n",
        "ros = RandomOverSampler(random_state=999)\n",
        "\n",
        "estimator=Pipeline([\n",
        "    ('oversampling',ros),\n",
        "    ('preprocess',transformer),\n",
        "    ('model',lgbm)\n",
        "])"
      ]
    },
    {
      "cell_type": "code",
      "execution_count": 308,
      "metadata": {
        "id": "8NmYUnWtQW5-"
      },
      "outputs": [],
      "source": [
        "hyperparam_space=[{\n",
        "    'model__max_bin': [255, 275, 300, 230],\n",
        "    'model__num_leaves':[31, 21, 41, 51],\n",
        "    'model__min_data_in_leaf': [20, 15, 30, 40],\n",
        "    'model__num_iterations':[100,75, 125, 150],\n",
        "    'model__learning_rate': [0.1, 0.075, 0.125, 0.05],\n",
        "    'model__random_state': [999]\n",
        "}]"
      ]
    },
    {
      "cell_type": "code",
      "source": [
        "from sklearn.experimental import enable_halving_search_cv\n",
        "from sklearn.model_selection import HalvingGridSearchCV"
      ],
      "metadata": {
        "id": "qZXBHv0Tr2yq"
      },
      "execution_count": 309,
      "outputs": []
    },
    {
      "cell_type": "code",
      "source": [
        "halving_cv = HalvingGridSearchCV(\n",
        "    estimator, param_grid=hyperparam_space, scoring=\"roc_auc\", n_jobs=-1, min_resources=\"exhaust\", factor=3\n",
        ")\n",
        "\n",
        "halving_cv.fit(x_train,y_train)\n",
        "print(halving_cv.best_score_)\n",
        "print(halving_cv.best_params_)"
      ],
      "metadata": {
        "colab": {
          "base_uri": "https://localhost:8080/"
        },
        "id": "q5n5VKnvr9nb",
        "outputId": "2543c097-c358-434a-8c5b-8df17b0b0a45"
      },
      "execution_count": 310,
      "outputs": [
        {
          "output_type": "stream",
          "name": "stdout",
          "text": [
            "0.8565093914670161\n",
            "{'model__learning_rate': 0.075, 'model__max_bin': 255, 'model__min_data_in_leaf': 20, 'model__num_iterations': 75, 'model__num_leaves': 31, 'model__random_state': 999}\n"
          ]
        }
      ]
    },
    {
      "cell_type": "markdown",
      "metadata": {
        "id": "MOFSqWiTQW5_"
      },
      "source": [
        "Hyperparameter terbaik LGBM dari hasil HalvingGridsearch => `max_bin` = 255, `num_leaves` = 31, `min_data_in_leaf` = 20, `num_iterations` = 75, `learning_rate` = 0.075"
      ]
    },
    {
      "cell_type": "code",
      "execution_count": 311,
      "metadata": {
        "id": "3WDx1xe4QW5_",
        "outputId": "803a9c29-5b3f-4af1-eb51-c691eb07fb6d",
        "colab": {
          "base_uri": "https://localhost:8080/"
        }
      },
      "outputs": [
        {
          "output_type": "execute_result",
          "data": {
            "text/plain": [
              "Pipeline(steps=[('oversampling', RandomOverSampler(random_state=999)),\n",
              "                ('preprocess',\n",
              "                 ColumnTransformer(remainder='passthrough',\n",
              "                                   transformers=[('onehot',\n",
              "                                                  OneHotEncoder(drop='first'),\n",
              "                                                  ['deposit_type',\n",
              "                                                   'customer_type']),\n",
              "                                                 ('binary', BinaryEncoder(),\n",
              "                                                  ['country', 'market_segment',\n",
              "                                                   'reserved_room_type'])])),\n",
              "                ('model',\n",
              "                 LGBMClassifier(learning_rate=0.075, max_bin=255,\n",
              "                                min_data_in_leaf=20, num_iterations=75,\n",
              "                                random_state=999))])"
            ]
          },
          "metadata": {},
          "execution_count": 311
        }
      ],
      "source": [
        "best_model = halving_cv.best_estimator_\n",
        "best_model.fit(x_train, y_train)"
      ]
    },
    {
      "cell_type": "code",
      "execution_count": 312,
      "metadata": {
        "id": "IWIuTaAuQW5_",
        "outputId": "3cce93b2-08aa-45e4-ef91-6842774c4d9c",
        "colab": {
          "base_uri": "https://localhost:8080/"
        }
      },
      "outputs": [
        {
          "output_type": "execute_result",
          "data": {
            "text/plain": [
              "Pipeline(steps=[('oversampling', RandomOverSampler(random_state=999)),\n",
              "                ('preprocess',\n",
              "                 ColumnTransformer(remainder='passthrough',\n",
              "                                   transformers=[('onehot',\n",
              "                                                  OneHotEncoder(drop='first'),\n",
              "                                                  ['deposit_type',\n",
              "                                                   'customer_type']),\n",
              "                                                 ('binary', BinaryEncoder(),\n",
              "                                                  ['country', 'market_segment',\n",
              "                                                   'reserved_room_type'])])),\n",
              "                ('model', LGBMClassifier())])"
            ]
          },
          "metadata": {},
          "execution_count": 312
        }
      ],
      "source": [
        "estimator=Pipeline([\n",
        "    ('oversampling',ros),\n",
        "    ('preprocess',transformer),\n",
        "    ('model',lgbm)\n",
        "])\n",
        "estimator.fit(x_train, y_train)"
      ]
    },
    {
      "cell_type": "code",
      "execution_count": 313,
      "metadata": {
        "id": "5a68EW2LQW5_",
        "outputId": "6df54cae-9032-44c2-940d-b3069d685631",
        "colab": {
          "base_uri": "https://localhost:8080/"
        }
      },
      "outputs": [
        {
          "output_type": "stream",
          "name": "stdout",
          "text": [
            "ROC AUC Score Default LGBM :  0.8574189182059537\n",
            "ROC AUC Score Tuned LGBM :  0.8568784922982955\n"
          ]
        }
      ],
      "source": [
        "y_pred_default = estimator.predict(x_test)\n",
        "y_pred_proba_default = estimator.predict_proba(x_test)\n",
        "y_pred_tuned = best_model.predict(x_test)\n",
        "y_pred_proba_tuned = best_model.predict_proba(x_test)\n",
        "\n",
        "roc_auc_default = roc_auc_score(y_test, y_pred_proba_default[:,1])\n",
        "roc_auc_tuned = roc_auc_score(y_test, y_pred_proba_tuned[:,1])\n",
        "\n",
        "print('ROC AUC Score Default LGBM : ', roc_auc_default)\n",
        "print('ROC AUC Score Tuned LGBM : ', roc_auc_tuned)"
      ]
    },
    {
      "cell_type": "markdown",
      "metadata": {
        "id": "FOZObuZbQW5_"
      },
      "source": [
        "Terlihat bahwa model LGBM setelah kita tuning hyperparameternya memiliki nilai ROC AUC yang lebih baik walaupun hanya naik sedikit saja.\n",
        "\n",
        "Mari kita lihat juga perbandingan classification reportnya"
      ]
    },
    {
      "cell_type": "code",
      "execution_count": 314,
      "metadata": {
        "id": "dR-1UF5UQW5_",
        "outputId": "758ab2d3-4ad0-47d8-fec8-7a666acd24db",
        "colab": {
          "base_uri": "https://localhost:8080/"
        }
      },
      "outputs": [
        {
          "output_type": "stream",
          "name": "stdout",
          "text": [
            "Classification Report Default LGBM : \n",
            "               precision    recall  f1-score   support\n",
            "\n",
            "           0       0.81      0.88      0.84     15747\n",
            "           1       0.76      0.65      0.70      9220\n",
            "\n",
            "    accuracy                           0.79     24967\n",
            "   macro avg       0.78      0.76      0.77     24967\n",
            "weighted avg       0.79      0.79      0.79     24967\n",
            "\n",
            "Classification Report Tuned LGBM : \n",
            "               precision    recall  f1-score   support\n",
            "\n",
            "           0       0.81      0.89      0.85     15747\n",
            "           1       0.77      0.64      0.70      9220\n",
            "\n",
            "    accuracy                           0.80     24967\n",
            "   macro avg       0.79      0.76      0.77     24967\n",
            "weighted avg       0.79      0.80      0.79     24967\n",
            "\n"
          ]
        }
      ],
      "source": [
        "report_default = classification_report(y_test, y_pred_default)\n",
        "report_tuned = classification_report(y_test, y_pred_tuned)\n",
        "\n",
        "print('Classification Report Default LGBM : \\n', report_default)\n",
        "print('Classification Report Tuned LGBM : \\n', report_tuned)"
      ]
    },
    {
      "cell_type": "markdown",
      "metadata": {
        "id": "zk8_NGXKQW5_"
      },
      "source": [
        "Kembali lagi terlihat bahwa model LGBM setelah kita tuning hyperparameternya memiliki classification report yang lebih baik walaupun hanya lebih baik sedikit saja. Oleh karena itu kita akan menggunakan model LGBM yang sudah di tuned sebagai model akhir kita."
      ]
    },
    {
      "cell_type": "markdown",
      "metadata": {
        "id": "e4McazubQW6A"
      },
      "source": [
        "### Feature Importances\n",
        "\n",
        "Mari sekarang kita lihat fitur/kolom apa saja yang paling penting untuk model LGBM kita"
      ]
    },
    {
      "cell_type": "code",
      "execution_count": 315,
      "metadata": {
        "id": "6tZyc2ucQW6A",
        "outputId": "7235a400-8489-4615-bdd3-c3bdccf6a7a0",
        "colab": {
          "base_uri": "https://localhost:8080/",
          "height": 444
        }
      },
      "outputs": [
        {
          "output_type": "display_data",
          "data": {
            "text/plain": [
              "<Figure size 504x504 with 1 Axes>"
            ],
            "image/png": "[encoded data removed]"
          },
          "metadata": {
            "needs_background": "light"
          }
        }
      ],
      "source": [
        "coef1 = pd.Series(best_model['model'].feature_importances_, transformer.get_feature_names()).sort_values(ascending = False).head(10)\n",
        "coef1.plot(kind='barh', title='Feature Importances')\n",
        "plt.show()"
      ]
    },
    {
      "cell_type": "markdown",
      "metadata": {
        "id": "5D-joUWvQW6A"
      },
      "source": [
        "Terlihat bahwa ternyata untuk model LGBM kita, fitur/kolom total_of_special_requests adalah yang paling penting, kemudian diikuti dengan booking_changes, previous_cancellations, dan selanjutnya."
      ]
    },
    {
      "cell_type": "markdown",
      "metadata": {
        "id": "nrdP9x0xQW6A"
      },
      "source": [
        "## Conclusion & Recommendation"
      ]
    },
    {
      "cell_type": "code",
      "execution_count": 316,
      "metadata": {
        "id": "mi91uqDpQW6A",
        "outputId": "540ae62e-962d-4116-d7f1-b355e747e90c",
        "colab": {
          "base_uri": "https://localhost:8080/"
        }
      },
      "outputs": [
        {
          "output_type": "stream",
          "name": "stdout",
          "text": [
            "Classification Report Tuned LGBM : \n",
            "               precision    recall  f1-score   support\n",
            "\n",
            "           0       0.81      0.89      0.85     15747\n",
            "           1       0.77      0.64      0.70      9220\n",
            "\n",
            "    accuracy                           0.80     24967\n",
            "   macro avg       0.79      0.76      0.77     24967\n",
            "weighted avg       0.79      0.80      0.79     24967\n",
            "\n"
          ]
        }
      ],
      "source": [
        "print('Classification Report Tuned LGBM : \\n', report_tuned)"
      ]
    },
    {
      "cell_type": "markdown",
      "metadata": {
        "id": "Rq6NTiEsQW6A"
      },
      "source": [
        "Berdasarkan hasil classification report dari model kita, kita dapat menyimpulkan/mengambil konklusi bahwa bila seandainya nanti kita menggunakan model kita untuk memfilter/menyaring list kandidat yang akan kita coba tawarkan, maka model kita dapat menemukan 89% booking yang tidak akan dibatalkan, dan model kita dapat mendapatkan 64% reservasi / booking yang berpotensi dibatalkan. (semua ini berdasarkan recallnya)\n",
        "\n",
        "Model kita ini memiliki ketepatan prediksi sebesar 77% (precisionnya), jadi setiap model kita memprediksi bahwa sebuah reservasi / booking akan dibatalkan, dan kemungkinan tebakannya itu benar adalah 77%."
      ]
    },
    {
      "cell_type": "markdown",
      "metadata": {
        "id": "Y3VcBfVtQW6B"
      },
      "source": [
        "#### Recommendation"
      ]
    },
    {
      "cell_type": "markdown",
      "metadata": {
        "id": "wNzvTXMCQW6B"
      },
      "source": [
        "Hal-hal yang bisa dilakukan untuk mengembangkan project dan modelnya lebih baik lagi :\n",
        "- Menambahkan fitur2 atau kolom2 baru yang kemungkinan bisa berhubungan dengan pembatalan, seperti tujuan menginap, berapa banyak orang yang menginap, dll.\n",
        "- Mencoba algorithm ML yang lain dan juga mencoba hyperparameter tuning kembali, coba gunakan teknik oversampling yang berbeda juga selain Random Over Sampling, seperti SMOTENC, dll. \n",
        "- Menganalisa data-data yang model kita masih salah tebak untuk mengetahui alasannya dan karakteristiknya bagaimana."
      ]
    }
  ]
}